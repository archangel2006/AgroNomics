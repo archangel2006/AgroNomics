{
  "cells": [
    {
      "cell_type": "markdown",
      "metadata": {
        "id": "view-in-github",
        "colab_type": "text"
      },
      "source": [
        "<a href=\"https://colab.research.google.com/github/archangel2006/AgroNomics/blob/main/Crop_Price_Prediction.ipynb\" target=\"_parent\"><img src=\"https://colab.research.google.com/assets/colab-badge.svg\" alt=\"Open In Colab\"/></a>"
      ]
    },
    {
      "cell_type": "markdown",
      "metadata": {
        "id": "zT08Ck4HhPNU"
      },
      "source": [
        "AgroNomics : Crop Price Predictor"
      ]
    },
    {
      "cell_type": "code",
      "execution_count": null,
      "metadata": {
        "id": "QtRK0boWhSm1"
      },
      "outputs": [],
      "source": [
        "import numpy as np\n",
        "import pandas as pd\n",
        "import matplotlib.pyplot as plt\n",
        "import seaborn as sns"
      ]
    },
    {
      "cell_type": "code",
      "execution_count": null,
      "metadata": {
        "id": "jEElTM0DhZTv"
      },
      "outputs": [],
      "source": [
        "import csv\n",
        "\n",
        "with open(\"agridata.csv\", \"r\", encoding=\"utf-8\", errors=\"ignore\") as infile, open(\"cleaned_agridata.csv\", \"w\", newline=\"\", encoding=\"utf-8\") as outfile:\n",
        "    reader = csv.reader(infile)\n",
        "    writer = csv.writer(outfile)\n",
        "\n",
        "    for row in reader:\n",
        "        try:\n",
        "            writer.writerow(row)\n",
        "        except:\n",
        "            continue  # skip any row that causes a write error\n"
      ]
    },
    {
      "cell_type": "code",
      "execution_count": null,
      "metadata": {
        "colab": {
          "base_uri": "https://localhost:8080/"
        },
        "id": "frVP9jdGhbYW",
        "outputId": "c627dd54-5026-4f2f-ffb4-896ea7f264d8"
      },
      "outputs": [
        {
          "output_type": "execute_result",
          "data": {
            "text/plain": [
              "(409342, 8)"
            ]
          },
          "metadata": {},
          "execution_count": 80
        }
      ],
      "source": [
        "df = pd.read_csv('/content/cleaned_agridata.csv')\n",
        "df.shape"
      ]
    },
    {
      "cell_type": "code",
      "execution_count": null,
      "metadata": {
        "colab": {
          "base_uri": "https://localhost:8080/"
        },
        "id": "vzbzvQfbhdUs",
        "outputId": "0d712590-f1d5-4c29-8a5a-54395ff670d4"
      },
      "outputs": [
        {
          "output_type": "execute_result",
          "data": {
            "text/plain": [
              "Index(['commodity_name', 'state', 'district', 'market', 'min_price',\n",
              "       'max_price', 'modal_price', 'date'],\n",
              "      dtype='object')"
            ]
          },
          "metadata": {},
          "execution_count": 81
        }
      ],
      "source": [
        "df.columns"
      ]
    },
    {
      "cell_type": "code",
      "execution_count": null,
      "metadata": {
        "colab": {
          "base_uri": "https://localhost:8080/"
        },
        "id": "V0Mti0TJhfYb",
        "outputId": "b2646ec7-df70-4c49-8140-c9b608987c2e"
      },
      "outputs": [
        {
          "output_type": "execute_result",
          "data": {
            "text/plain": [
              "array(['Ajwan', 'Alasande+Gram', 'Amaranthus', 'Amla(Nelli+Kai)',\n",
              "       'Amphophalus', 'Antawala', 'Apple', 'Arhar+Dal(Tur+Dal)',\n",
              "       'Ashgourd', 'Avare+Dal', 'Banana', 'Banana+-+Green',\n",
              "       'Barley+(Jau)', 'Beans', 'Beaten+Rice', 'Beetroot', 'Betal+Leaves',\n",
              "       'Bitter+gourd', 'Black+pepper', 'Bottle+gourd', 'Brinjal',\n",
              "       'Broken+Rice', 'Cabbage', 'Capsicum', 'Cardamoms', 'Carrot',\n",
              "       'Cashewnuts', 'Castor+Seed', 'Cauliflower', 'Coconut',\n",
              "       'Chapparad+Avare', 'Chennangi+Dal', 'Chikoos(Sapota)', 'Chili+Red',\n",
              "       'Chilly+Capsicum', 'Cloves', 'Cluster+beans', 'Cocoa',\n",
              "       'Coconut+Oil', 'Coconut+Seed', 'Coffee', 'Colacasia', 'Copra',\n",
              "       'Coriander(Leaves)', 'Corriander+seed', 'Cowpea(Veg)', 'Cotton',\n",
              "       'Cucumbar(Kheera)', 'Cummin+Seed(Jeera)', 'Drumstick',\n",
              "       'Dry+Chillies', 'Dry+Fodder', 'Dry+Grapes', 'Duster+Beans', 'Egg',\n",
              "       'Elephant+Yam+(Suran)', 'Field+Pea', 'Firewood', 'Fish', 'Garlic',\n",
              "       'Ghee', 'Gingelly+Oil', 'Ginger(Dry)', 'Ginger(Green)', 'Grapes',\n",
              "       'Green+Avare+(W)', 'Green+Chilli', 'Green+Fodder', 'Green+Peas',\n",
              "       'Ground+Nut+Seed', 'Groundnut', 'Groundnut+(Split)',\n",
              "       'Groundnut+pods+(raw)', 'Guar', 'Guava', 'Gur(Jaggery)', 'Hen',\n",
              "       'Hybrid+Cumbu', 'Indian+Beans+(Seam)', 'Isabgul+(Psyllium)',\n",
              "       'Jack+Fruit', 'Jamun(Narale+Hannu)', 'Jowar(Sorghum)', 'Jute',\n",
              "       'Karbuja(Musk+Melon)', 'Knool+Khol', 'Kulthi(Horse+Gram)',\n",
              "       'Lak(Teora)', 'Leafy+Vegetable', 'Lemon', 'Lime', 'Linseed',\n",
              "       'Litchi', 'Long+Melon(Kakri)', 'Mahua', 'Maida+Atta', 'Maize',\n",
              "       'Mango', 'Mango+(Raw-Ripe)', 'Mashrooms', 'Masur+Dal',\n",
              "       'Methi+Seeds', 'Methi(Leaves)', 'Millets', 'Mint(Pudina)',\n",
              "       'Moath+Dal', 'Mousambi(Sweet+Lime)', 'Mustard', 'Mustard+Oil',\n",
              "       'Myrobolan(Harad)', 'Nutmeg', 'Onion', 'Onion+Green', 'Orange',\n",
              "       'Paddy(Dhan)(Basmati)', 'Paddy(Dhan)(Common)', 'Papaya',\n",
              "       'Papaya+(Raw)', 'Peach', 'Peas+cod', 'Peas+Wet', 'Peas(Dry)',\n",
              "       'Pepper+garbled', 'Pepper+ungarbled', 'Pineapple', 'Plum',\n",
              "       'Pomegranate', 'Potato', 'Pumpkin', 'Raddish',\n",
              "       'Ragi+(Finger+Millet)', 'Rajgir', 'Rice', 'Ridgeguard(Tori)',\n",
              "       'Round+gourd', 'Rubber', 'Safflower', 'Snakeguard', 'Soanf',\n",
              "       'Soyabean', 'Spinach', 'Sponge+gourd', 'Sugar', 'Sunflower',\n",
              "       'Surat+Beans+(Papadi)', 'Suva+(Dill+Seed)', 'Suvarna+Gadde',\n",
              "       'Sweet+Potato', 'Sweet+Pumpkin', 'T.V.+Cumbu', 'Tamarind+Fruit',\n",
              "       'Tapioca', 'Taramira', 'Tender+Coconut', 'Tinda', 'Tobacco',\n",
              "       'Tomato', 'Toria', 'Turmeric', 'Turmeric+(raw)', 'Turnip',\n",
              "       'Water+Melon', 'Wheat', 'Wheat+Atta', 'White+Peas',\n",
              "       'White+Pumpkin', 'Wood', 'Yam+(Ratalu)', 'Bamboo', 'Yam',\n",
              "       'Kodo+Millet(Varagu)', 'Goat', 'Pear(Marasebu)', 'Balekai',\n",
              "       'Gram+Raw(Chholia)', 'Cow', 'Same/Savi', 'Sugarcane',\n",
              "       'She+Buffalo', 'Sheep', 'Soji', 'Chow+Chow', 'Pigs', 'Calf',\n",
              "       'Duck', 'Ox', 'Dhaincha', 'Season+Leaves', 'Cock', 'Hippe+Seed',\n",
              "       'Tamarind+Seed', 'Other+Pulses', 'Coca', 'Niger+Seed+(Ramtil)',\n",
              "       'Ram', 'Thondekai', 'Galgal(Lemon)', 'Honge+seed', 'Lotus+Sticks',\n",
              "       'Neem+Seed', 'Bran', 'Cherry', 'Mace', 'Kartali+(Kantola)',\n",
              "       'She+Goat', 'Alsandikai', 'Mahedi', 'Bull', 'Thogrikai', 'Khoya',\n",
              "       'Seetapal', 'Almond(Badam)', 'Butter', 'Rose(Loose)', 'Kinnow',\n",
              "       'He+Buffalo', 'Marigold(loose)', 'Mataki', 'Sajje',\n",
              "       'Marigold(Calcutta)', 'Ambada+Seed', 'Chrysanthemum(Loose)',\n",
              "       'Cotton+Seed', 'Seemebadnekai', 'Gramflour',\n",
              "       'Persimon(Japani+Fal)', 'Lint', 'Indian+Colza(Sarson)', 'Sabu+Dan',\n",
              "       'Jasmine', 'Gurellu', 'Walnut', 'Padd'], dtype=object)"
            ]
          },
          "metadata": {},
          "execution_count": 82
        }
      ],
      "source": [
        "df['commodity_name'].unique()"
      ]
    },
    {
      "cell_type": "code",
      "execution_count": null,
      "metadata": {
        "id": "Yig6PejFhgFC"
      },
      "outputs": [],
      "source": [
        "# Step 1: Clean commodity names by replacing \"+\" with spaces and fixing weird characters\n",
        "df['commodity'] = (\n",
        "    df['commodity_name']\n",
        "    .str.replace('+', ' ', regex=False)            # Replace all \"+\" with spaces\n",
        "    .str.replace(r'\\+\\-+\\+', ' ', regex=True)      # Fix patterns like \"+-+\" (escaped properly)\n",
        "    .str.strip()                                   # Remove extra spaces\n",
        ")\n",
        "\n",
        "# Step 2: Fix known typos to standardize commodity names\n",
        "typo_fixes = {\n",
        "    'Soji': 'Sooji',\n",
        "    'Cucumbar(Kheera)': 'Cucumber',\n",
        "    'Chilly Capsicum': 'Chilli Capsicum',\n",
        "    'Corriander seed': 'Coriander seed',\n",
        "    'Onion Green': 'Green Onion'\n",
        "}\n",
        "df['commodity'] = df['commodity'].replace(typo_fixes)\n"
      ]
    },
    {
      "cell_type": "code",
      "execution_count": null,
      "metadata": {
        "colab": {
          "base_uri": "https://localhost:8080/"
        },
        "id": "FBjy4IHbhio8",
        "outputId": "e6dae51e-ff28-4059-a81f-d4db5e9e27b1"
      },
      "outputs": [
        {
          "output_type": "execute_result",
          "data": {
            "text/plain": [
              "array(['Ajwan', 'Alasande Gram', 'Amaranthus', 'Amla(Nelli Kai)',\n",
              "       'Amphophalus', 'Antawala', 'Apple', 'Arhar Dal(Tur Dal)',\n",
              "       'Ashgourd', 'Avare Dal', 'Banana', 'Banana - Green',\n",
              "       'Barley (Jau)', 'Beans', 'Beaten Rice', 'Beetroot', 'Betal Leaves',\n",
              "       'Bitter gourd', 'Black pepper', 'Bottle gourd', 'Brinjal',\n",
              "       'Broken Rice', 'Cabbage', 'Capsicum', 'Cardamoms', 'Carrot',\n",
              "       'Cashewnuts', 'Castor Seed', 'Cauliflower', 'Coconut',\n",
              "       'Chapparad Avare', 'Chennangi Dal', 'Chikoos(Sapota)', 'Chili Red',\n",
              "       'Chilli Capsicum', 'Cloves', 'Cluster beans', 'Cocoa',\n",
              "       'Coconut Oil', 'Coconut Seed', 'Coffee', 'Colacasia', 'Copra',\n",
              "       'Coriander(Leaves)', 'Coriander seed', 'Cowpea(Veg)', 'Cotton',\n",
              "       'Cucumber', 'Cummin Seed(Jeera)', 'Drumstick', 'Dry Chillies',\n",
              "       'Dry Fodder', 'Dry Grapes', 'Duster Beans', 'Egg',\n",
              "       'Elephant Yam (Suran)', 'Field Pea', 'Firewood', 'Fish', 'Garlic',\n",
              "       'Ghee', 'Gingelly Oil', 'Ginger(Dry)', 'Ginger(Green)', 'Grapes',\n",
              "       'Green Avare (W)', 'Green Chilli', 'Green Fodder', 'Green Peas',\n",
              "       'Ground Nut Seed', 'Groundnut', 'Groundnut (Split)',\n",
              "       'Groundnut pods (raw)', 'Guar', 'Guava', 'Gur(Jaggery)', 'Hen',\n",
              "       'Hybrid Cumbu', 'Indian Beans (Seam)', 'Isabgul (Psyllium)',\n",
              "       'Jack Fruit', 'Jamun(Narale Hannu)', 'Jowar(Sorghum)', 'Jute',\n",
              "       'Karbuja(Musk Melon)', 'Knool Khol', 'Kulthi(Horse Gram)',\n",
              "       'Lak(Teora)', 'Leafy Vegetable', 'Lemon', 'Lime', 'Linseed',\n",
              "       'Litchi', 'Long Melon(Kakri)', 'Mahua', 'Maida Atta', 'Maize',\n",
              "       'Mango', 'Mango (Raw-Ripe)', 'Mashrooms', 'Masur Dal',\n",
              "       'Methi Seeds', 'Methi(Leaves)', 'Millets', 'Mint(Pudina)',\n",
              "       'Moath Dal', 'Mousambi(Sweet Lime)', 'Mustard', 'Mustard Oil',\n",
              "       'Myrobolan(Harad)', 'Nutmeg', 'Onion', 'Green Onion', 'Orange',\n",
              "       'Paddy(Dhan)(Basmati)', 'Paddy(Dhan)(Common)', 'Papaya',\n",
              "       'Papaya (Raw)', 'Peach', 'Peas cod', 'Peas Wet', 'Peas(Dry)',\n",
              "       'Pepper garbled', 'Pepper ungarbled', 'Pineapple', 'Plum',\n",
              "       'Pomegranate', 'Potato', 'Pumpkin', 'Raddish',\n",
              "       'Ragi (Finger Millet)', 'Rajgir', 'Rice', 'Ridgeguard(Tori)',\n",
              "       'Round gourd', 'Rubber', 'Safflower', 'Snakeguard', 'Soanf',\n",
              "       'Soyabean', 'Spinach', 'Sponge gourd', 'Sugar', 'Sunflower',\n",
              "       'Surat Beans (Papadi)', 'Suva (Dill Seed)', 'Suvarna Gadde',\n",
              "       'Sweet Potato', 'Sweet Pumpkin', 'T.V. Cumbu', 'Tamarind Fruit',\n",
              "       'Tapioca', 'Taramira', 'Tender Coconut', 'Tinda', 'Tobacco',\n",
              "       'Tomato', 'Toria', 'Turmeric', 'Turmeric (raw)', 'Turnip',\n",
              "       'Water Melon', 'Wheat', 'Wheat Atta', 'White Peas',\n",
              "       'White Pumpkin', 'Wood', 'Yam (Ratalu)', 'Bamboo', 'Yam',\n",
              "       'Kodo Millet(Varagu)', 'Goat', 'Pear(Marasebu)', 'Balekai',\n",
              "       'Gram Raw(Chholia)', 'Cow', 'Same/Savi', 'Sugarcane',\n",
              "       'She Buffalo', 'Sheep', 'Sooji', 'Chow Chow', 'Pigs', 'Calf',\n",
              "       'Duck', 'Ox', 'Dhaincha', 'Season Leaves', 'Cock', 'Hippe Seed',\n",
              "       'Tamarind Seed', 'Other Pulses', 'Coca', 'Niger Seed (Ramtil)',\n",
              "       'Ram', 'Thondekai', 'Galgal(Lemon)', 'Honge seed', 'Lotus Sticks',\n",
              "       'Neem Seed', 'Bran', 'Cherry', 'Mace', 'Kartali (Kantola)',\n",
              "       'She Goat', 'Alsandikai', 'Mahedi', 'Bull', 'Thogrikai', 'Khoya',\n",
              "       'Seetapal', 'Almond(Badam)', 'Butter', 'Rose(Loose)', 'Kinnow',\n",
              "       'He Buffalo', 'Marigold(loose)', 'Mataki', 'Sajje',\n",
              "       'Marigold(Calcutta)', 'Ambada Seed', 'Chrysanthemum(Loose)',\n",
              "       'Cotton Seed', 'Seemebadnekai', 'Gramflour',\n",
              "       'Persimon(Japani Fal)', 'Lint', 'Indian Colza(Sarson)', 'Sabu Dan',\n",
              "       'Jasmine', 'Gurellu', 'Walnut', 'Padd'], dtype=object)"
            ]
          },
          "metadata": {},
          "execution_count": 84
        }
      ],
      "source": [
        "df['commodity'].unique()"
      ]
    },
    {
      "cell_type": "code",
      "execution_count": null,
      "metadata": {
        "id": "P-fGz9R_hkG1"
      },
      "outputs": [],
      "source": [
        "commodity_to_category = {}\n",
        "\n",
        "# Grains\n",
        "for item in ['Wheat', 'Rice', 'Maize', 'Jowar(Sorghum)', 'Millets', 'Ragi (Finger Millet)', 'Rajgir',\n",
        "             'Barley (Jau)', 'Broken Rice', 'Maida Atta', 'Wheat Atta', 'Kodo Millet(Varagu)', 'Beaten Rice',\n",
        "             'Sooji', 'Sajje','Hybrid Cumbu', 'T.V. Cumbu', 'Lak(Teora)']:\n",
        "    commodity_to_category[item] = 'Grains'\n",
        "\n",
        "# Pulses\n",
        "for item in ['Arhar Dal(Tur Dal)', 'Masur Dal', 'Moath Dal', 'Chennangi Dal', 'Green Avare (W)', 'Avare Dal',\n",
        "             'Peas(Dry)', 'Peas cod', 'Peas Wet', 'Alasande Gram', 'Field Pea', 'Indian Beans (Seam)',\n",
        "             'Kulthi(Horse Gram)', 'Same/Savi', 'Gram Raw(Chholia)', 'White Peas', 'Arhar (Tur/Red Gram)(Whole)',\n",
        "             'Mataki','Duster Beans', 'Guar']:\n",
        "    commodity_to_category[item] = 'Pulses'\n",
        "\n",
        "# Oilseeds\n",
        "for item in ['Soyabean', 'Castor Seed', 'Sunflower', 'Groundnut', 'Ground Nut Seed', 'Linseed',\n",
        "             'Groundnut (Split)', 'Groundnut pods (raw)', 'Safflower', 'Taramira', 'Niger Seed (Ramtil)',\n",
        "             'Gurellu']:\n",
        "    commodity_to_category[item] = 'Oilseeds'\n",
        "\n",
        "# Vegetables\n",
        "for item in ['Onion', 'Potato', 'Tomato', 'Cabbage', 'Brinjal', 'Beans', 'Beetroot', 'Bitter gourd',\n",
        "             'Bottle gourd', 'Capsicum', 'Cauliflower', 'Cluster beans', 'Colacasia', 'Cucumber',\n",
        "             'Drumstick', 'Green Peas', 'Pumpkin', 'Raddish', 'Ridgeguard(Tori)', 'Ridge gourd(Tori)',\n",
        "             'Round gourd', 'Snakeguard', 'Snake gourd', 'Sponge gourd', 'Spinach', 'Knool Khol',\n",
        "             'Leafy Vegetable', 'Turnip', 'Ashgourd', 'Carrot', 'Cowpea(Veg)', 'Green Chilli',\n",
        "             'Elephant Yam (Suran)', 'Suvarna Gadde', 'Tinda', 'Chow Chow', 'Season Leaves', 'Amaranthus',\n",
        "             'Mashrooms', 'Mint(Pudina)', 'Methi(Leaves)', 'Thondekai', 'Seemebadnekai', 'Bunch Beans','Sweet Potato',\n",
        "             'Sweet Pumpkin', 'Yam', 'Yam (Ratalu)', 'Tapioca','Green Onion', 'Surat Beans (Papadi)', 'White Pumpkin', 'Kartali (Kantola)']:\n",
        "    commodity_to_category[item] = 'Vegetables'\n",
        "\n",
        "# Fruits\n",
        "for item in ['Banana', 'Mango', 'Papaya', 'Guava', 'Pomegranate', 'Apple', 'Chikoos(Sapota)', 'Grapes',\n",
        "             'Litchi', 'Plum', 'Peach', 'Jamun(Narale Hannu)', 'Water Melon', 'Mousambi(Sweet Lime)',\n",
        "             'Karbuja(Musk Melon)', 'Pear(Marasebu)', 'Banana - Green', 'Papaya (Raw)', 'Mango (Raw-Ripe)',\n",
        "             'Pineapple', 'Orange', 'Lemon', 'Lime', 'Long Melon(Kakri)', 'Jack Fruit', 'Seetapal',\n",
        "             'Persimon(Japani Fal)', 'Seetafal', 'Amla(Nelli Kai)', 'Balekai', 'Galgal(Lemon)',\n",
        "             'Almond(Badam)', 'Walnut', 'Cherry', 'Kinnow']:\n",
        "    commodity_to_category[item] = 'Fruits'\n",
        "\n",
        "# Spices & Oils\n",
        "for item in ['Turmeric', 'Turmeric (raw)', 'Ginger(Dry)', 'Ginger(Green)', 'Cummin Seed(Jeera)', 'Garlic',\n",
        "             'Mustard', 'Mustard Oil', 'Coconut Oil', 'Gingelly Oil', 'Black pepper', 'Cardamoms', 'Cloves',\n",
        "             'Nutmeg', 'Pepper garbled', 'Pepper ungarbled', 'Tamarind Seed', 'Tamarind Fruit',\n",
        "             'Dry Chillies', 'Soanf', 'Suva (Dill Seed)', 'Coriander(Leaves)', 'Coriander seed',\n",
        "             'Ajwan', 'Chili Red', 'Chilli Capsicum', 'Mint(Pudina)', 'Methi Seeds', 'Isabgul (Psyllium)',\n",
        "             'Betal Leaves','Mace','Toria']:\n",
        "    commodity_to_category[item] = 'Spices/Oils'\n",
        "\n",
        "# Flowers (Horticulture)\n",
        "for item in ['Marigold(loose)', 'Marigold(Calcutta)', 'Chrysanthemum(Loose)', 'Jasmine', 'Tube Rose(Loose)',\n",
        "             'Rose(Local)','Anthorium']:\n",
        "    commodity_to_category[item] = 'Flowers'\n",
        "\n",
        "# Cash Crops\n",
        "for item in ['Coffee', 'Cotton', 'Cotton Seed', 'Rubber', 'Cashewnuts', 'Copra', 'Jute', 'Tobacco',\n",
        "             'Sugarcane', 'Lint', 'Paddy(Dhan)(Basmati)', 'Paddy(Dhan)(Common)','Tender Coconut',\n",
        "             'Arecanut(Betelnut/Supari)', 'Honge seed', 'Bamboo']:\n",
        "    commodity_to_category[item] = 'Cash Crop'\n",
        "\n",
        "\n",
        "\n",
        "# Processed / Value-Added Products\n",
        "for item in ['Gur(Jaggery)', 'Sugar', 'Dry Grapes', 'Bran', 'Gramflour']:\n",
        "    commodity_to_category[item] = 'Processed'\n",
        "\n",
        "# Fodder / Fiber / Utility Crops\n",
        "for item in ['Dry Fodder', 'Green Fodder', 'Dhaincha', 'Sunhemp', 'Lukad', 'Siddota']:\n",
        "    commodity_to_category[item] = 'Fodder/Fiber'\n",
        "\n",
        "# Non-Crop (Livestock or Derived)\n",
        "for item in ['Egg', 'Fish', 'Hen', 'Cow', 'Goat', 'Sheep', 'Pigs', 'Calf', 'Ox', 'Duck', 'Cock',\n",
        "             'She Buffalo', 'He Buffalo', 'Bull', 'Ram', 'She Goat', 'Khoya', 'Butter', 'Ghee', 'Firewood',\n",
        "             'Wood', 'Dalda']:\n",
        "    commodity_to_category[item] = 'Non-Crop'\n",
        "\n",
        "# Other\n",
        "for item in ['Amphophalus', 'Antawala', 'Chapparad Avare', 'Cocoa', 'Coconut', 'Coconut Seed', 'Mahua',\n",
        "             'Myrobolan(Harad)', 'Neem Seed', 'Lotus Sticks', 'Alsandikai', 'Mahedi', 'Thogrikai', 'Ambada Seed',\n",
        "             'Indian Colza(Sarson)', 'Sabu Dan', 'Sabu Dana', 'Coca', 'Hippe Seed', 'Rose(Loose)']:\n",
        "    commodity_to_category[item] = 'Other'\n"
      ]
    },
    {
      "cell_type": "code",
      "execution_count": null,
      "metadata": {
        "id": "3hrmEBn9hlw_"
      },
      "outputs": [],
      "source": [
        "df.drop(columns=['commodity_name'], inplace=True)"
      ]
    },
    {
      "cell_type": "code",
      "execution_count": null,
      "metadata": {
        "id": "bVCum4fuhm53"
      },
      "outputs": [],
      "source": [
        "df['category'] = df['commodity'].map(commodity_to_category)"
      ]
    },
    {
      "cell_type": "code",
      "execution_count": null,
      "metadata": {
        "colab": {
          "base_uri": "https://localhost:8080/",
          "height": 206
        },
        "id": "T_yldZSGhokO",
        "outputId": "cd5658e3-1bf9-4943-e9aa-9683e21c0dca"
      },
      "outputs": [
        {
          "output_type": "execute_result",
          "data": {
            "text/plain": [
              "     state    district    market  min_price  max_price  modal_price  \\\n",
              "0  Gujarat      Amreli    Amreli      63.25      79.55        79.55   \n",
              "1  Gujarat  Banaskanth   Dhanera      80.05      80.05        80.05   \n",
              "2  Gujarat    Jamnagar  Jamnagar      90.00     155.00       122.50   \n",
              "3  Gujarat     Mehsana      Kadi      94.50     112.50       107.00   \n",
              "4  Gujarat     Mehsana     Unjha      21.25     148.50        99.75   \n",
              "\n",
              "         date commodity     category  \n",
              "0  2019-05-22     Ajwan  Spices/Oils  \n",
              "1  2019-05-22     Ajwan  Spices/Oils  \n",
              "2  2019-05-22     Ajwan  Spices/Oils  \n",
              "3  2019-05-22     Ajwan  Spices/Oils  \n",
              "4  2019-05-22     Ajwan  Spices/Oils  "
            ],
            "text/html": [
              "\n",
              "  <div id=\"df-527aa38c-8289-4a38-b8a2-147e4cc89165\" class=\"colab-df-container\">\n",
              "    <div>\n",
              "<style scoped>\n",
              "    .dataframe tbody tr th:only-of-type {\n",
              "        vertical-align: middle;\n",
              "    }\n",
              "\n",
              "    .dataframe tbody tr th {\n",
              "        vertical-align: top;\n",
              "    }\n",
              "\n",
              "    .dataframe thead th {\n",
              "        text-align: right;\n",
              "    }\n",
              "</style>\n",
              "<table border=\"1\" class=\"dataframe\">\n",
              "  <thead>\n",
              "    <tr style=\"text-align: right;\">\n",
              "      <th></th>\n",
              "      <th>state</th>\n",
              "      <th>district</th>\n",
              "      <th>market</th>\n",
              "      <th>min_price</th>\n",
              "      <th>max_price</th>\n",
              "      <th>modal_price</th>\n",
              "      <th>date</th>\n",
              "      <th>commodity</th>\n",
              "      <th>category</th>\n",
              "    </tr>\n",
              "  </thead>\n",
              "  <tbody>\n",
              "    <tr>\n",
              "      <th>0</th>\n",
              "      <td>Gujarat</td>\n",
              "      <td>Amreli</td>\n",
              "      <td>Amreli</td>\n",
              "      <td>63.25</td>\n",
              "      <td>79.55</td>\n",
              "      <td>79.55</td>\n",
              "      <td>2019-05-22</td>\n",
              "      <td>Ajwan</td>\n",
              "      <td>Spices/Oils</td>\n",
              "    </tr>\n",
              "    <tr>\n",
              "      <th>1</th>\n",
              "      <td>Gujarat</td>\n",
              "      <td>Banaskanth</td>\n",
              "      <td>Dhanera</td>\n",
              "      <td>80.05</td>\n",
              "      <td>80.05</td>\n",
              "      <td>80.05</td>\n",
              "      <td>2019-05-22</td>\n",
              "      <td>Ajwan</td>\n",
              "      <td>Spices/Oils</td>\n",
              "    </tr>\n",
              "    <tr>\n",
              "      <th>2</th>\n",
              "      <td>Gujarat</td>\n",
              "      <td>Jamnagar</td>\n",
              "      <td>Jamnagar</td>\n",
              "      <td>90.00</td>\n",
              "      <td>155.00</td>\n",
              "      <td>122.50</td>\n",
              "      <td>2019-05-22</td>\n",
              "      <td>Ajwan</td>\n",
              "      <td>Spices/Oils</td>\n",
              "    </tr>\n",
              "    <tr>\n",
              "      <th>3</th>\n",
              "      <td>Gujarat</td>\n",
              "      <td>Mehsana</td>\n",
              "      <td>Kadi</td>\n",
              "      <td>94.50</td>\n",
              "      <td>112.50</td>\n",
              "      <td>107.00</td>\n",
              "      <td>2019-05-22</td>\n",
              "      <td>Ajwan</td>\n",
              "      <td>Spices/Oils</td>\n",
              "    </tr>\n",
              "    <tr>\n",
              "      <th>4</th>\n",
              "      <td>Gujarat</td>\n",
              "      <td>Mehsana</td>\n",
              "      <td>Unjha</td>\n",
              "      <td>21.25</td>\n",
              "      <td>148.50</td>\n",
              "      <td>99.75</td>\n",
              "      <td>2019-05-22</td>\n",
              "      <td>Ajwan</td>\n",
              "      <td>Spices/Oils</td>\n",
              "    </tr>\n",
              "  </tbody>\n",
              "</table>\n",
              "</div>\n",
              "    <div class=\"colab-df-buttons\">\n",
              "\n",
              "  <div class=\"colab-df-container\">\n",
              "    <button class=\"colab-df-convert\" onclick=\"convertToInteractive('df-527aa38c-8289-4a38-b8a2-147e4cc89165')\"\n",
              "            title=\"Convert this dataframe to an interactive table.\"\n",
              "            style=\"display:none;\">\n",
              "\n",
              "  <svg xmlns=\"http://www.w3.org/2000/svg\" height=\"24px\" viewBox=\"0 -960 960 960\">\n",
              "    <path d=\"M120-120v-720h720v720H120Zm60-500h600v-160H180v160Zm220 220h160v-160H400v160Zm0 220h160v-160H400v160ZM180-400h160v-160H180v160Zm440 0h160v-160H620v160ZM180-180h160v-160H180v160Zm440 0h160v-160H620v160Z\"/>\n",
              "  </svg>\n",
              "    </button>\n",
              "\n",
              "  <style>\n",
              "    .colab-df-container {\n",
              "      display:flex;\n",
              "      gap: 12px;\n",
              "    }\n",
              "\n",
              "    .colab-df-convert {\n",
              "      background-color: #E8F0FE;\n",
              "      border: none;\n",
              "      border-radius: 50%;\n",
              "      cursor: pointer;\n",
              "      display: none;\n",
              "      fill: #1967D2;\n",
              "      height: 32px;\n",
              "      padding: 0 0 0 0;\n",
              "      width: 32px;\n",
              "    }\n",
              "\n",
              "    .colab-df-convert:hover {\n",
              "      background-color: #E2EBFA;\n",
              "      box-shadow: 0px 1px 2px rgba(60, 64, 67, 0.3), 0px 1px 3px 1px rgba(60, 64, 67, 0.15);\n",
              "      fill: #174EA6;\n",
              "    }\n",
              "\n",
              "    .colab-df-buttons div {\n",
              "      margin-bottom: 4px;\n",
              "    }\n",
              "\n",
              "    [theme=dark] .colab-df-convert {\n",
              "      background-color: #3B4455;\n",
              "      fill: #D2E3FC;\n",
              "    }\n",
              "\n",
              "    [theme=dark] .colab-df-convert:hover {\n",
              "      background-color: #434B5C;\n",
              "      box-shadow: 0px 1px 3px 1px rgba(0, 0, 0, 0.15);\n",
              "      filter: drop-shadow(0px 1px 2px rgba(0, 0, 0, 0.3));\n",
              "      fill: #FFFFFF;\n",
              "    }\n",
              "  </style>\n",
              "\n",
              "    <script>\n",
              "      const buttonEl =\n",
              "        document.querySelector('#df-527aa38c-8289-4a38-b8a2-147e4cc89165 button.colab-df-convert');\n",
              "      buttonEl.style.display =\n",
              "        google.colab.kernel.accessAllowed ? 'block' : 'none';\n",
              "\n",
              "      async function convertToInteractive(key) {\n",
              "        const element = document.querySelector('#df-527aa38c-8289-4a38-b8a2-147e4cc89165');\n",
              "        const dataTable =\n",
              "          await google.colab.kernel.invokeFunction('convertToInteractive',\n",
              "                                                    [key], {});\n",
              "        if (!dataTable) return;\n",
              "\n",
              "        const docLinkHtml = 'Like what you see? Visit the ' +\n",
              "          '<a target=\"_blank\" href=https://colab.research.google.com/notebooks/data_table.ipynb>data table notebook</a>'\n",
              "          + ' to learn more about interactive tables.';\n",
              "        element.innerHTML = '';\n",
              "        dataTable['output_type'] = 'display_data';\n",
              "        await google.colab.output.renderOutput(dataTable, element);\n",
              "        const docLink = document.createElement('div');\n",
              "        docLink.innerHTML = docLinkHtml;\n",
              "        element.appendChild(docLink);\n",
              "      }\n",
              "    </script>\n",
              "  </div>\n",
              "\n",
              "\n",
              "    <div id=\"df-7011c69f-f865-4768-ba37-c4d852ebc85a\">\n",
              "      <button class=\"colab-df-quickchart\" onclick=\"quickchart('df-7011c69f-f865-4768-ba37-c4d852ebc85a')\"\n",
              "                title=\"Suggest charts\"\n",
              "                style=\"display:none;\">\n",
              "\n",
              "<svg xmlns=\"http://www.w3.org/2000/svg\" height=\"24px\"viewBox=\"0 0 24 24\"\n",
              "     width=\"24px\">\n",
              "    <g>\n",
              "        <path d=\"M19 3H5c-1.1 0-2 .9-2 2v14c0 1.1.9 2 2 2h14c1.1 0 2-.9 2-2V5c0-1.1-.9-2-2-2zM9 17H7v-7h2v7zm4 0h-2V7h2v10zm4 0h-2v-4h2v4z\"/>\n",
              "    </g>\n",
              "</svg>\n",
              "      </button>\n",
              "\n",
              "<style>\n",
              "  .colab-df-quickchart {\n",
              "      --bg-color: #E8F0FE;\n",
              "      --fill-color: #1967D2;\n",
              "      --hover-bg-color: #E2EBFA;\n",
              "      --hover-fill-color: #174EA6;\n",
              "      --disabled-fill-color: #AAA;\n",
              "      --disabled-bg-color: #DDD;\n",
              "  }\n",
              "\n",
              "  [theme=dark] .colab-df-quickchart {\n",
              "      --bg-color: #3B4455;\n",
              "      --fill-color: #D2E3FC;\n",
              "      --hover-bg-color: #434B5C;\n",
              "      --hover-fill-color: #FFFFFF;\n",
              "      --disabled-bg-color: #3B4455;\n",
              "      --disabled-fill-color: #666;\n",
              "  }\n",
              "\n",
              "  .colab-df-quickchart {\n",
              "    background-color: var(--bg-color);\n",
              "    border: none;\n",
              "    border-radius: 50%;\n",
              "    cursor: pointer;\n",
              "    display: none;\n",
              "    fill: var(--fill-color);\n",
              "    height: 32px;\n",
              "    padding: 0;\n",
              "    width: 32px;\n",
              "  }\n",
              "\n",
              "  .colab-df-quickchart:hover {\n",
              "    background-color: var(--hover-bg-color);\n",
              "    box-shadow: 0 1px 2px rgba(60, 64, 67, 0.3), 0 1px 3px 1px rgba(60, 64, 67, 0.15);\n",
              "    fill: var(--button-hover-fill-color);\n",
              "  }\n",
              "\n",
              "  .colab-df-quickchart-complete:disabled,\n",
              "  .colab-df-quickchart-complete:disabled:hover {\n",
              "    background-color: var(--disabled-bg-color);\n",
              "    fill: var(--disabled-fill-color);\n",
              "    box-shadow: none;\n",
              "  }\n",
              "\n",
              "  .colab-df-spinner {\n",
              "    border: 2px solid var(--fill-color);\n",
              "    border-color: transparent;\n",
              "    border-bottom-color: var(--fill-color);\n",
              "    animation:\n",
              "      spin 1s steps(1) infinite;\n",
              "  }\n",
              "\n",
              "  @keyframes spin {\n",
              "    0% {\n",
              "      border-color: transparent;\n",
              "      border-bottom-color: var(--fill-color);\n",
              "      border-left-color: var(--fill-color);\n",
              "    }\n",
              "    20% {\n",
              "      border-color: transparent;\n",
              "      border-left-color: var(--fill-color);\n",
              "      border-top-color: var(--fill-color);\n",
              "    }\n",
              "    30% {\n",
              "      border-color: transparent;\n",
              "      border-left-color: var(--fill-color);\n",
              "      border-top-color: var(--fill-color);\n",
              "      border-right-color: var(--fill-color);\n",
              "    }\n",
              "    40% {\n",
              "      border-color: transparent;\n",
              "      border-right-color: var(--fill-color);\n",
              "      border-top-color: var(--fill-color);\n",
              "    }\n",
              "    60% {\n",
              "      border-color: transparent;\n",
              "      border-right-color: var(--fill-color);\n",
              "    }\n",
              "    80% {\n",
              "      border-color: transparent;\n",
              "      border-right-color: var(--fill-color);\n",
              "      border-bottom-color: var(--fill-color);\n",
              "    }\n",
              "    90% {\n",
              "      border-color: transparent;\n",
              "      border-bottom-color: var(--fill-color);\n",
              "    }\n",
              "  }\n",
              "</style>\n",
              "\n",
              "      <script>\n",
              "        async function quickchart(key) {\n",
              "          const quickchartButtonEl =\n",
              "            document.querySelector('#' + key + ' button');\n",
              "          quickchartButtonEl.disabled = true;  // To prevent multiple clicks.\n",
              "          quickchartButtonEl.classList.add('colab-df-spinner');\n",
              "          try {\n",
              "            const charts = await google.colab.kernel.invokeFunction(\n",
              "                'suggestCharts', [key], {});\n",
              "          } catch (error) {\n",
              "            console.error('Error during call to suggestCharts:', error);\n",
              "          }\n",
              "          quickchartButtonEl.classList.remove('colab-df-spinner');\n",
              "          quickchartButtonEl.classList.add('colab-df-quickchart-complete');\n",
              "        }\n",
              "        (() => {\n",
              "          let quickchartButtonEl =\n",
              "            document.querySelector('#df-7011c69f-f865-4768-ba37-c4d852ebc85a button');\n",
              "          quickchartButtonEl.style.display =\n",
              "            google.colab.kernel.accessAllowed ? 'block' : 'none';\n",
              "        })();\n",
              "      </script>\n",
              "    </div>\n",
              "\n",
              "    </div>\n",
              "  </div>\n"
            ],
            "application/vnd.google.colaboratory.intrinsic+json": {
              "type": "dataframe",
              "variable_name": "df"
            }
          },
          "metadata": {},
          "execution_count": 88
        }
      ],
      "source": [
        "df.head()"
      ]
    },
    {
      "cell_type": "code",
      "execution_count": null,
      "metadata": {
        "id": "wKoS49nth8jD"
      },
      "outputs": [],
      "source": [
        "# Removing rows that aren't crops\n",
        "\n",
        "df = df[df['category']!='Non-Crop']"
      ]
    },
    {
      "cell_type": "code",
      "execution_count": null,
      "metadata": {
        "colab": {
          "base_uri": "https://localhost:8080/"
        },
        "id": "BnKxzHmYiEjE",
        "outputId": "3f81eb7f-ec8b-4f59-da79-aaac92053e23"
      },
      "outputs": [
        {
          "output_type": "execute_result",
          "data": {
            "text/plain": [
              "array(['Spices/Oils', 'Pulses', 'Vegetables', 'Fruits', 'Other', 'Grains',\n",
              "       'Cash Crop', 'Oilseeds', 'Fodder/Fiber', 'Processed', nan,\n",
              "       'Flowers'], dtype=object)"
            ]
          },
          "metadata": {},
          "execution_count": 90
        }
      ],
      "source": [
        "df.category.unique()"
      ]
    },
    {
      "cell_type": "code",
      "execution_count": null,
      "metadata": {
        "colab": {
          "base_uri": "https://localhost:8080/"
        },
        "id": "qXbHrmKCiHp-",
        "outputId": "422ac0a8-7a6c-4763-a022-eae879db5274"
      },
      "outputs": [
        {
          "output_type": "stream",
          "name": "stdout",
          "text": [
            "Commodities with missing categories:\n",
            "['Other Pulses' 'Padd']\n"
          ]
        }
      ],
      "source": [
        "# Filter and display unique commodities with missing categories\n",
        "missing_category_crops = df[df['category'].isna()]['commodity'].unique()\n",
        "print(\"Commodities with missing categories:\")\n",
        "print(missing_category_crops)\n"
      ]
    },
    {
      "cell_type": "code",
      "execution_count": null,
      "metadata": {
        "id": "NjthJrHIiIxk"
      },
      "outputs": [],
      "source": [
        "df = df[~df['commodity'].isin(['Other Pulses', 'its'])]\n",
        "df = df[df['commodity'].notna()]\n"
      ]
    },
    {
      "cell_type": "code",
      "execution_count": null,
      "metadata": {
        "colab": {
          "base_uri": "https://localhost:8080/"
        },
        "id": "VC9MRwVWiJm4",
        "outputId": "4fa990cc-b6aa-40d6-a9b0-a11aa270cae8"
      },
      "outputs": [
        {
          "output_type": "stream",
          "name": "stdout",
          "text": [
            "Commodities with missing categories:\n",
            "['Padd']\n"
          ]
        }
      ],
      "source": [
        "\n",
        "missing_category_crops = df[df['category'].isna()]['commodity'].unique()\n",
        "print(\"Commodities with missing categories:\")\n",
        "print(missing_category_crops)\n"
      ]
    },
    {
      "cell_type": "code",
      "execution_count": null,
      "metadata": {
        "colab": {
          "base_uri": "https://localhost:8080/"
        },
        "id": "8_Gf7CwqiK0p",
        "outputId": "83d3935a-5809-4ec0-cd32-fbbdcc35f88f"
      },
      "outputs": [
        {
          "output_type": "execute_result",
          "data": {
            "text/plain": [
              "array(['Spices/Oils', 'Pulses', 'Vegetables', 'Fruits', 'Other', 'Grains',\n",
              "       'Cash Crop', 'Oilseeds', 'Fodder/Fiber', 'Processed', 'Flowers',\n",
              "       nan], dtype=object)"
            ]
          },
          "metadata": {},
          "execution_count": 94
        }
      ],
      "source": [
        "df.category.unique()"
      ]
    },
    {
      "cell_type": "code",
      "execution_count": null,
      "metadata": {
        "colab": {
          "base_uri": "https://localhost:8080/",
          "height": 292
        },
        "id": "SiUrroToiNK7",
        "outputId": "c63f09af-c1a5-4dbe-f850-24893d7589e2"
      },
      "outputs": [
        {
          "output_type": "execute_result",
          "data": {
            "text/plain": [
              "                state    district         market  min_price  max_price  \\\n",
              "224056         Kerala     Palakad     Koduvayoor      26.00      42.00   \n",
              "288144  Uttar Pradesh   Firozabad      Sirsaganj      13.80      15.80   \n",
              "217393      Rajasthan  Ganganagar  Sriganganagar      57.71      57.71   \n",
              "70115   Uttar Pradesh  Pratapgarh     Pratapgarh      38.50      38.75   \n",
              "395685    West Bengal       Nadia        Chakdah      82.00      84.00   \n",
              "\n",
              "        modal_price        date   commodity     category  \n",
              "224056        30.00  2019-08-06  Amaranthus   Vegetables  \n",
              "288144        14.80  2019-08-24    Cucumber   Vegetables  \n",
              "217393        57.71  2019-10-02      Cotton    Cash Crop  \n",
              "70115         38.60  2019-07-05     Mustard  Spices/Oils  \n",
              "395685        83.00  2019-11-10   Masur Dal       Pulses  "
            ],
            "text/html": [
              "\n",
              "  <div id=\"df-4f8604b7-66f8-4094-8e99-e792880e0272\" class=\"colab-df-container\">\n",
              "    <div>\n",
              "<style scoped>\n",
              "    .dataframe tbody tr th:only-of-type {\n",
              "        vertical-align: middle;\n",
              "    }\n",
              "\n",
              "    .dataframe tbody tr th {\n",
              "        vertical-align: top;\n",
              "    }\n",
              "\n",
              "    .dataframe thead th {\n",
              "        text-align: right;\n",
              "    }\n",
              "</style>\n",
              "<table border=\"1\" class=\"dataframe\">\n",
              "  <thead>\n",
              "    <tr style=\"text-align: right;\">\n",
              "      <th></th>\n",
              "      <th>state</th>\n",
              "      <th>district</th>\n",
              "      <th>market</th>\n",
              "      <th>min_price</th>\n",
              "      <th>max_price</th>\n",
              "      <th>modal_price</th>\n",
              "      <th>date</th>\n",
              "      <th>commodity</th>\n",
              "      <th>category</th>\n",
              "    </tr>\n",
              "  </thead>\n",
              "  <tbody>\n",
              "    <tr>\n",
              "      <th>224056</th>\n",
              "      <td>Kerala</td>\n",
              "      <td>Palakad</td>\n",
              "      <td>Koduvayoor</td>\n",
              "      <td>26.00</td>\n",
              "      <td>42.00</td>\n",
              "      <td>30.00</td>\n",
              "      <td>2019-08-06</td>\n",
              "      <td>Amaranthus</td>\n",
              "      <td>Vegetables</td>\n",
              "    </tr>\n",
              "    <tr>\n",
              "      <th>288144</th>\n",
              "      <td>Uttar Pradesh</td>\n",
              "      <td>Firozabad</td>\n",
              "      <td>Sirsaganj</td>\n",
              "      <td>13.80</td>\n",
              "      <td>15.80</td>\n",
              "      <td>14.80</td>\n",
              "      <td>2019-08-24</td>\n",
              "      <td>Cucumber</td>\n",
              "      <td>Vegetables</td>\n",
              "    </tr>\n",
              "    <tr>\n",
              "      <th>217393</th>\n",
              "      <td>Rajasthan</td>\n",
              "      <td>Ganganagar</td>\n",
              "      <td>Sriganganagar</td>\n",
              "      <td>57.71</td>\n",
              "      <td>57.71</td>\n",
              "      <td>57.71</td>\n",
              "      <td>2019-10-02</td>\n",
              "      <td>Cotton</td>\n",
              "      <td>Cash Crop</td>\n",
              "    </tr>\n",
              "    <tr>\n",
              "      <th>70115</th>\n",
              "      <td>Uttar Pradesh</td>\n",
              "      <td>Pratapgarh</td>\n",
              "      <td>Pratapgarh</td>\n",
              "      <td>38.50</td>\n",
              "      <td>38.75</td>\n",
              "      <td>38.60</td>\n",
              "      <td>2019-07-05</td>\n",
              "      <td>Mustard</td>\n",
              "      <td>Spices/Oils</td>\n",
              "    </tr>\n",
              "    <tr>\n",
              "      <th>395685</th>\n",
              "      <td>West Bengal</td>\n",
              "      <td>Nadia</td>\n",
              "      <td>Chakdah</td>\n",
              "      <td>82.00</td>\n",
              "      <td>84.00</td>\n",
              "      <td>83.00</td>\n",
              "      <td>2019-11-10</td>\n",
              "      <td>Masur Dal</td>\n",
              "      <td>Pulses</td>\n",
              "    </tr>\n",
              "  </tbody>\n",
              "</table>\n",
              "</div>\n",
              "    <div class=\"colab-df-buttons\">\n",
              "\n",
              "  <div class=\"colab-df-container\">\n",
              "    <button class=\"colab-df-convert\" onclick=\"convertToInteractive('df-4f8604b7-66f8-4094-8e99-e792880e0272')\"\n",
              "            title=\"Convert this dataframe to an interactive table.\"\n",
              "            style=\"display:none;\">\n",
              "\n",
              "  <svg xmlns=\"http://www.w3.org/2000/svg\" height=\"24px\" viewBox=\"0 -960 960 960\">\n",
              "    <path d=\"M120-120v-720h720v720H120Zm60-500h600v-160H180v160Zm220 220h160v-160H400v160Zm0 220h160v-160H400v160ZM180-400h160v-160H180v160Zm440 0h160v-160H620v160ZM180-180h160v-160H180v160Zm440 0h160v-160H620v160Z\"/>\n",
              "  </svg>\n",
              "    </button>\n",
              "\n",
              "  <style>\n",
              "    .colab-df-container {\n",
              "      display:flex;\n",
              "      gap: 12px;\n",
              "    }\n",
              "\n",
              "    .colab-df-convert {\n",
              "      background-color: #E8F0FE;\n",
              "      border: none;\n",
              "      border-radius: 50%;\n",
              "      cursor: pointer;\n",
              "      display: none;\n",
              "      fill: #1967D2;\n",
              "      height: 32px;\n",
              "      padding: 0 0 0 0;\n",
              "      width: 32px;\n",
              "    }\n",
              "\n",
              "    .colab-df-convert:hover {\n",
              "      background-color: #E2EBFA;\n",
              "      box-shadow: 0px 1px 2px rgba(60, 64, 67, 0.3), 0px 1px 3px 1px rgba(60, 64, 67, 0.15);\n",
              "      fill: #174EA6;\n",
              "    }\n",
              "\n",
              "    .colab-df-buttons div {\n",
              "      margin-bottom: 4px;\n",
              "    }\n",
              "\n",
              "    [theme=dark] .colab-df-convert {\n",
              "      background-color: #3B4455;\n",
              "      fill: #D2E3FC;\n",
              "    }\n",
              "\n",
              "    [theme=dark] .colab-df-convert:hover {\n",
              "      background-color: #434B5C;\n",
              "      box-shadow: 0px 1px 3px 1px rgba(0, 0, 0, 0.15);\n",
              "      filter: drop-shadow(0px 1px 2px rgba(0, 0, 0, 0.3));\n",
              "      fill: #FFFFFF;\n",
              "    }\n",
              "  </style>\n",
              "\n",
              "    <script>\n",
              "      const buttonEl =\n",
              "        document.querySelector('#df-4f8604b7-66f8-4094-8e99-e792880e0272 button.colab-df-convert');\n",
              "      buttonEl.style.display =\n",
              "        google.colab.kernel.accessAllowed ? 'block' : 'none';\n",
              "\n",
              "      async function convertToInteractive(key) {\n",
              "        const element = document.querySelector('#df-4f8604b7-66f8-4094-8e99-e792880e0272');\n",
              "        const dataTable =\n",
              "          await google.colab.kernel.invokeFunction('convertToInteractive',\n",
              "                                                    [key], {});\n",
              "        if (!dataTable) return;\n",
              "\n",
              "        const docLinkHtml = 'Like what you see? Visit the ' +\n",
              "          '<a target=\"_blank\" href=https://colab.research.google.com/notebooks/data_table.ipynb>data table notebook</a>'\n",
              "          + ' to learn more about interactive tables.';\n",
              "        element.innerHTML = '';\n",
              "        dataTable['output_type'] = 'display_data';\n",
              "        await google.colab.output.renderOutput(dataTable, element);\n",
              "        const docLink = document.createElement('div');\n",
              "        docLink.innerHTML = docLinkHtml;\n",
              "        element.appendChild(docLink);\n",
              "      }\n",
              "    </script>\n",
              "  </div>\n",
              "\n",
              "\n",
              "    <div id=\"df-cbc9324c-35d0-4188-b0e7-c00adb9d6c70\">\n",
              "      <button class=\"colab-df-quickchart\" onclick=\"quickchart('df-cbc9324c-35d0-4188-b0e7-c00adb9d6c70')\"\n",
              "                title=\"Suggest charts\"\n",
              "                style=\"display:none;\">\n",
              "\n",
              "<svg xmlns=\"http://www.w3.org/2000/svg\" height=\"24px\"viewBox=\"0 0 24 24\"\n",
              "     width=\"24px\">\n",
              "    <g>\n",
              "        <path d=\"M19 3H5c-1.1 0-2 .9-2 2v14c0 1.1.9 2 2 2h14c1.1 0 2-.9 2-2V5c0-1.1-.9-2-2-2zM9 17H7v-7h2v7zm4 0h-2V7h2v10zm4 0h-2v-4h2v4z\"/>\n",
              "    </g>\n",
              "</svg>\n",
              "      </button>\n",
              "\n",
              "<style>\n",
              "  .colab-df-quickchart {\n",
              "      --bg-color: #E8F0FE;\n",
              "      --fill-color: #1967D2;\n",
              "      --hover-bg-color: #E2EBFA;\n",
              "      --hover-fill-color: #174EA6;\n",
              "      --disabled-fill-color: #AAA;\n",
              "      --disabled-bg-color: #DDD;\n",
              "  }\n",
              "\n",
              "  [theme=dark] .colab-df-quickchart {\n",
              "      --bg-color: #3B4455;\n",
              "      --fill-color: #D2E3FC;\n",
              "      --hover-bg-color: #434B5C;\n",
              "      --hover-fill-color: #FFFFFF;\n",
              "      --disabled-bg-color: #3B4455;\n",
              "      --disabled-fill-color: #666;\n",
              "  }\n",
              "\n",
              "  .colab-df-quickchart {\n",
              "    background-color: var(--bg-color);\n",
              "    border: none;\n",
              "    border-radius: 50%;\n",
              "    cursor: pointer;\n",
              "    display: none;\n",
              "    fill: var(--fill-color);\n",
              "    height: 32px;\n",
              "    padding: 0;\n",
              "    width: 32px;\n",
              "  }\n",
              "\n",
              "  .colab-df-quickchart:hover {\n",
              "    background-color: var(--hover-bg-color);\n",
              "    box-shadow: 0 1px 2px rgba(60, 64, 67, 0.3), 0 1px 3px 1px rgba(60, 64, 67, 0.15);\n",
              "    fill: var(--button-hover-fill-color);\n",
              "  }\n",
              "\n",
              "  .colab-df-quickchart-complete:disabled,\n",
              "  .colab-df-quickchart-complete:disabled:hover {\n",
              "    background-color: var(--disabled-bg-color);\n",
              "    fill: var(--disabled-fill-color);\n",
              "    box-shadow: none;\n",
              "  }\n",
              "\n",
              "  .colab-df-spinner {\n",
              "    border: 2px solid var(--fill-color);\n",
              "    border-color: transparent;\n",
              "    border-bottom-color: var(--fill-color);\n",
              "    animation:\n",
              "      spin 1s steps(1) infinite;\n",
              "  }\n",
              "\n",
              "  @keyframes spin {\n",
              "    0% {\n",
              "      border-color: transparent;\n",
              "      border-bottom-color: var(--fill-color);\n",
              "      border-left-color: var(--fill-color);\n",
              "    }\n",
              "    20% {\n",
              "      border-color: transparent;\n",
              "      border-left-color: var(--fill-color);\n",
              "      border-top-color: var(--fill-color);\n",
              "    }\n",
              "    30% {\n",
              "      border-color: transparent;\n",
              "      border-left-color: var(--fill-color);\n",
              "      border-top-color: var(--fill-color);\n",
              "      border-right-color: var(--fill-color);\n",
              "    }\n",
              "    40% {\n",
              "      border-color: transparent;\n",
              "      border-right-color: var(--fill-color);\n",
              "      border-top-color: var(--fill-color);\n",
              "    }\n",
              "    60% {\n",
              "      border-color: transparent;\n",
              "      border-right-color: var(--fill-color);\n",
              "    }\n",
              "    80% {\n",
              "      border-color: transparent;\n",
              "      border-right-color: var(--fill-color);\n",
              "      border-bottom-color: var(--fill-color);\n",
              "    }\n",
              "    90% {\n",
              "      border-color: transparent;\n",
              "      border-bottom-color: var(--fill-color);\n",
              "    }\n",
              "  }\n",
              "</style>\n",
              "\n",
              "      <script>\n",
              "        async function quickchart(key) {\n",
              "          const quickchartButtonEl =\n",
              "            document.querySelector('#' + key + ' button');\n",
              "          quickchartButtonEl.disabled = true;  // To prevent multiple clicks.\n",
              "          quickchartButtonEl.classList.add('colab-df-spinner');\n",
              "          try {\n",
              "            const charts = await google.colab.kernel.invokeFunction(\n",
              "                'suggestCharts', [key], {});\n",
              "          } catch (error) {\n",
              "            console.error('Error during call to suggestCharts:', error);\n",
              "          }\n",
              "          quickchartButtonEl.classList.remove('colab-df-spinner');\n",
              "          quickchartButtonEl.classList.add('colab-df-quickchart-complete');\n",
              "        }\n",
              "        (() => {\n",
              "          let quickchartButtonEl =\n",
              "            document.querySelector('#df-cbc9324c-35d0-4188-b0e7-c00adb9d6c70 button');\n",
              "          quickchartButtonEl.style.display =\n",
              "            google.colab.kernel.accessAllowed ? 'block' : 'none';\n",
              "        })();\n",
              "      </script>\n",
              "    </div>\n",
              "\n",
              "    </div>\n",
              "  </div>\n"
            ],
            "application/vnd.google.colaboratory.intrinsic+json": {
              "type": "dataframe",
              "repr_error": "0"
            }
          },
          "metadata": {},
          "execution_count": 95
        }
      ],
      "source": [
        "df.sample(5)"
      ]
    },
    {
      "cell_type": "code",
      "execution_count": null,
      "metadata": {
        "colab": {
          "base_uri": "https://localhost:8080/"
        },
        "id": "rRnyHgFeiOch",
        "outputId": "7e153c61-458f-4c84-b261-dcca1fc78549"
      },
      "outputs": [
        {
          "output_type": "execute_result",
          "data": {
            "text/plain": [
              "array(['Gujarat', 'Madhya Pradesh', 'Rajasthan', 'Karnataka', 'Kerala',\n",
              "       'Punjab', 'Uttar Pradesh', 'Chattisgarh', 'Haryana',\n",
              "       'Himachal Pradesh', 'Maharashtra', 'NCT of Delhi', 'Odisha',\n",
              "       'Uttrakhand', 'West Bengal', 'Assam', 'Manipur',\n",
              "       'Jammu and Kashmir', 'Meghalaya', 'Nagaland', 'Tripura',\n",
              "       'Telangana', 'Tamil Nadu', 'Andhra Pradesh', 'Pondicherry',\n",
              "       'Jharkhand', 'Goa', 'Mizoram', 'Andaman and Nicobar', nan],\n",
              "      dtype=object)"
            ]
          },
          "metadata": {},
          "execution_count": 96
        }
      ],
      "source": [
        "# STATES\n",
        "\n",
        "df.state.unique()"
      ]
    },
    {
      "cell_type": "code",
      "execution_count": null,
      "metadata": {
        "colab": {
          "base_uri": "https://localhost:8080/"
        },
        "id": "pZMsymZfiPlI",
        "outputId": "ed30928a-0145-4a96-9856-3aa4228ad85e"
      },
      "outputs": [
        {
          "output_type": "execute_result",
          "data": {
            "text/plain": [
              "array(['Amreli', 'Banaskanth', 'Jamnagar', 'Mehsana', 'Neemuch',\n",
              "       'Chittorgarh', 'Bagalkot', 'Bangalore', 'Gadag', 'Panna',\n",
              "       'Ernakulam', 'Kollam', 'Thiruvananthapuram', 'Thirssur',\n",
              "       'Alappuzha', 'Kozhikode(Calicut)', 'Kasargod', 'Palakad',\n",
              "       'Malappuram', 'Pathanamthitta', 'Kottayam', 'Kannur', 'Wayanad',\n",
              "       'Idukki', 'Sangrur', 'Kanpur', 'Chikmagalur', 'Durg', 'Karnal',\n",
              "       'Faridabad', 'Hissar', 'Bhiwani', 'Kaithal', 'Fatehabad',\n",
              "       'Sonipat', 'Kurukshetra', 'Mahendragarh-Narnaul', 'Jind',\n",
              "       'Panipat', 'Mandi', 'Kangra', 'Sirmore', 'Solan', 'Harda',\n",
              "       'Chandrapur', 'Kolhapur', 'Nashik', 'Pune', 'Delhi', 'Mayurbhanja',\n",
              "       'Faridkot', 'Ferozpur', 'Gurdaspur', 'Hoshiarpur', 'Patiala',\n",
              "       'Tarntaran', 'Ajmer', 'Ganganagar', 'Udaipur', 'Agra',\n",
              "       'Ambedkarnagar', 'Aligarh', 'Maharajganj', 'Banda', 'Auraiya',\n",
              "       'Azamgarh', 'Badaun', 'Ballia', 'Balrampur', 'Unnao', 'Barabanki',\n",
              "       'Baghpat', 'Bareilly', 'Basti', 'Mainpuri', 'Etawah', 'Bijnor',\n",
              "       'Fatehpur', 'Bulandshahar', 'Muradabad', 'Kannuj', 'Etah',\n",
              "       'Faizabad', 'Farukhabad', 'Saharanpur', 'Ghaziabad', 'Gonda',\n",
              "       'Gorakhpur', 'Hardoi', 'Jyotiba Phule Nagar', 'Jalaun (Orai)',\n",
              "       'Jaunpur', 'Jhansi', 'Chitrakut', 'Mau(Maunathbhanjan)', 'Mathura',\n",
              "       'Lakhimpur', 'Lalitpur', 'Lucknow', 'Mahoba', 'Meerut', 'Mirzapur',\n",
              "       'Muzaffarnagar', 'Siddharth Nagar', 'Pillibhit', 'Rampur',\n",
              "       'Bahraich', 'Shahjahanpur', 'Firozabad', 'Sitapur', 'Sultanpur',\n",
              "       'Padrauna(Kusinagar)', 'Haridwar', 'UdhamSinghNagar',\n",
              "       'Garhwal (Pauri)', 'Dehradoon', 'Kolkata', 'Nalbari', 'Mysore',\n",
              "       'Shimoga', 'Sagar', 'Buldhana', 'Mumbai', 'Bishnupur',\n",
              "       'Imphal West', 'Imphal East', 'Thoubal', 'Allahabad', 'Hathras',\n",
              "       'Hamirpur', 'Varanasi', 'Puruliya', 'Birbhum', 'Rajnandgaon',\n",
              "       'Narmada', 'Sirsa', 'Rohtak', 'Yamuna Nagar', 'Kullu', 'Bilaspur',\n",
              "       'Chamba', 'Srinagar', 'Burhanpur', 'Jalgaon', 'West Garo Hills',\n",
              "       'East Khasi Hills', 'Jalandhar', 'Bhatinda', 'Mohali',\n",
              "       'kapurthala', 'Raebarelli', 'Nanital', 'Darjeeling', 'Ahmedabad',\n",
              "       'Bharuch', 'Surat', 'Sundergarh', 'Dhenkanal', 'Ganjam',\n",
              "       'Sant Kabir Nagar', 'Chhatarpur', 'Dausa', 'Bundi', 'Tonk',\n",
              "       'Hanumangarh', 'Kota', 'Sikar', 'Rajkot', 'Junagarh', 'Kolar',\n",
              "       'Satara', 'Dimapur', 'Koraput', 'Nagaon', 'Kheda', 'Davangere',\n",
              "       'Narsinghpur', 'Kamrup', 'Dahod', 'Vadodara(Baroda)', 'Panchkula',\n",
              "       'Ambala', 'Jammu', 'Chhindwara', 'Indore', 'Jhabua', 'Ujjain',\n",
              "       'Aurangabad', 'Nayagarh', 'Khurda', 'Cuttack', 'Bolangir',\n",
              "       'Jajpur', 'Fazilka', 'Moga', 'Muktsar', 'Ludhiana', 'Sepahijala',\n",
              "       'Khowai', 'Jalpaiguri', 'Dakshin Dinajpur', 'North 24 Parganas',\n",
              "       'Coochbehar', 'Medinipur(E)', 'Medinipur(W)', 'Madikeri(Kodagu)',\n",
              "       'Navsari', 'Valsad', 'Gurgaon', 'Dhar', 'Khandwa', 'Badwani',\n",
              "       'Sheopur', 'Nagpur', 'Ahmednagar', 'Jalore', 'Sonbhadra',\n",
              "       'Gautam Budh Nagar', 'Ghazipur', 'Rajgarh', 'Dewas', 'Guna',\n",
              "       'Mandsaur', 'Shajapur', 'Sholapur', 'Ratnagiri', 'Bargarh',\n",
              "       'Sonepur', 'Boudh', 'Kendrapara', 'Jagatsinghpur', 'Amritsar',\n",
              "       'West District', 'Nadia', 'Burdwan', 'Bankura', 'Murshidabad',\n",
              "       'Howrah', 'Nowarangpur', 'Morbi', 'Shimla', 'Hyderabad',\n",
              "       'Mahbubnagar', 'Udupi', 'Gajapati', 'Ariyalur', 'Kurnool',\n",
              "       'Kachchh', 'Bhavnagar', 'Surendranagar', 'Gandhinagar',\n",
              "       'Sabarkantha', 'Patan', 'Porbandar', 'Anand', 'Mewat', 'Dindori',\n",
              "       'Hassan', 'Erode', 'Dindigul', 'Coimbatore', 'Madurai', 'Salem',\n",
              "       'Tumkur', 'Karaikal', 'Namakkal', 'Baran', 'Bijapur', 'Dharwad',\n",
              "       'Raichur', 'Beed', 'Wardha', 'Villupuram', 'Karimnagar', 'Khammam',\n",
              "       'Adilabad', 'Warangal', 'Barnala', 'Narayanpur', 'Cuddalore',\n",
              "       'Haveri', 'Chitradurga', 'Cuddapah', 'Bellary', 'Shivpuri',\n",
              "       'Amarawati', 'Nanded', 'Dhule', 'Vashim', 'Yavatmal',\n",
              "       'Thiruvannamalai', 'Nalgonda', 'Nagaur', 'Visakhapatnam', 'Bidar',\n",
              "       'Mandya', 'Jalana', 'Jaipur', 'Khargone', 'Latur', 'Parbhani',\n",
              "       'Osmanabad', 'Raigad', 'Nandurbar', 'Sangli', 'Thane', 'Bhilwara',\n",
              "       'Dhubri', 'Uttar Dinajpur', 'Malda', 'Damoh', 'Mahasamund',\n",
              "       'Kanker', 'Dhamtari', 'Raigarh', 'Dantewada', 'Jashpur', 'Korba',\n",
              "       'Sonitpur', 'Panchmahals', 'Belgaum', 'Ratlam', 'Virudhunagar',\n",
              "       'Ranga Reddy', 'Medak', 'Chittor', 'Alirajpur', 'North Tripura',\n",
              "       'Bhind', 'Swai Madhopur', 'Jhalawar', 'Bharatpur',\n",
              "       'South District', 'Raipur', 'Janjgir', 'Balodabazar',\n",
              "       'Karwar(Uttar Kannad)', 'Balaghat', 'Bhandara', 'Kancheepuram',\n",
              "       'Vellore', 'Thanjavur', 'Nizamabad', 'Hooghly', 'Singroli',\n",
              "       'Kaushambi', 'Cachar', 'Koppal', 'Hingoli', 'Akola', 'Dharmapuri',\n",
              "       'Rajasamand', 'Champawat', 'Surguja', 'Koria', 'Surajpur',\n",
              "       'Nawanshahr', 'Shravasti', 'Khiri (Lakhimpur)', 'Gwalior',\n",
              "       'Chandauli', 'Balasore', 'Kohima', 'Deoria', 'Angul', 'Barmer',\n",
              "       'Malkangiri', 'Fatehgarh', 'Gomati', 'Mansa', 'Ropar (Rupnagar)',\n",
              "       'Kalahandi', 'Gadchiroli', 'Sounth 24 Parganas', 'Bhadrak',\n",
              "       'Betul', 'Una', 'Unokoti', 'Ashoknagar', 'Rewa', 'Jharsuguda',\n",
              "       'Gulbarga', 'Hoshangabad', 'Hailakandi', 'Goalpara', 'Chandel',\n",
              "       'Karimganj', 'Nongpoh (R-Bhoi)', 'Sivaganga', 'Bastar',\n",
              "       'Kabirdham', 'Udhampur', 'Sehore', 'Morena', 'Pratapgarh',\n",
              "       'Chamrajnagar', 'Satna', 'Raisen', 'Jhajar', 'Puri', 'Vidisha',\n",
              "       'Pondicherry', 'Keonjhar', 'Alwar', 'Garhwa', 'East Jaintia Hills',\n",
              "       'North Goa', 'Ramanathapuram', 'Rayagada', 'Barpeta', 'Giridih',\n",
              "       'Seoni', 'Churu', 'East Godavari', 'West Godavari', 'Jabalpur',\n",
              "       'Aizawl', 'Jorhat', 'Anupur', 'Pali', 'Nicobar', 'Wokha',\n",
              "       'Gondiya', 'Sukma', 'Botad', 'Mokokchung', 'Kondagaon',\n",
              "       'West Jaintia Hills', 'Mandla', 'Karauli', 'Kandhamal', 'Anantnag',\n",
              "       'Longleng', 'Tikamgarh', 'Peren', 'Balod', 'Nuapada', 'Guntur',\n",
              "       'Kathua', 'Sambalpur', 'Pulwama', 'Dhalai', 'Baramulla', 'Bikaner',\n",
              "       'Gariyaband', 'Koderma', 'Mungeli', 'Sidhi', 'Kokrajhar',\n",
              "       'South Goa', 'Vijayanagaram', 'Bangaigaon', 'Zunheboto', 'Phek',\n",
              "       'Darrang', 'The Dangs', 'Bhopal', 'Kiphire', 'Tuensang', 'Rewari',\n",
              "       'Sirohi', 'Umariya', 'Palwal', 'Jodhpur', 'Bemetara', 'Shehdol',\n",
              "       'Anantapur', 'Krishnagiri', 'Thiruchirappalli', 'Dibrugarh',\n",
              "       'Jaisalmer', 'Nagapattinam', 'Thiruvarur', 'Pathankot', 'Marigaon',\n",
              "       'Katni', 'Datia', nan], dtype=object)"
            ]
          },
          "metadata": {},
          "execution_count": 97
        }
      ],
      "source": [
        "# DISTRICTS\n",
        "\n",
        "df.district.unique()"
      ]
    },
    {
      "cell_type": "code",
      "execution_count": null,
      "metadata": {
        "colab": {
          "base_uri": "https://localhost:8080/"
        },
        "id": "Wsn5R6sriRFS",
        "outputId": "e1f66244-32ad-4666-d8d8-777fd147bd96"
      },
      "outputs": [
        {
          "output_type": "execute_result",
          "data": {
            "text/plain": [
              "2153"
            ]
          },
          "metadata": {},
          "execution_count": 98
        }
      ],
      "source": [
        "# MARKET\n",
        "\n",
        "df.market.nunique()"
      ]
    },
    {
      "cell_type": "code",
      "execution_count": null,
      "metadata": {
        "id": "mTVxNFm5iR5z"
      },
      "outputs": [],
      "source": [
        "# distinct market values are too less in number compared to the number of rows in dataset, so we can drop market column\n",
        "\n",
        "df = df.drop('market', axis=1)"
      ]
    },
    {
      "cell_type": "code",
      "execution_count": null,
      "metadata": {
        "colab": {
          "base_uri": "https://localhost:8080/"
        },
        "id": "HQqQVc9jiTJc",
        "outputId": "8f5a23de-de85-47e2-9a55-ff2f62e7c7bf"
      },
      "outputs": [
        {
          "output_type": "execute_result",
          "data": {
            "text/plain": [
              "Index(['state', 'district', 'min_price', 'max_price', 'modal_price', 'date',\n",
              "       'commodity', 'category'],\n",
              "      dtype='object')"
            ]
          },
          "metadata": {},
          "execution_count": 100
        }
      ],
      "source": [
        "# columns left now\n",
        "\n",
        "df.columns"
      ]
    },
    {
      "cell_type": "code",
      "execution_count": null,
      "metadata": {
        "colab": {
          "base_uri": "https://localhost:8080/"
        },
        "id": "77EQP7N8iUV5",
        "outputId": "cbe5834a-92e0-4f55-b8fb-835cd18c7028"
      },
      "outputs": [
        {
          "output_type": "execute_result",
          "data": {
            "text/plain": [
              "dtype('O')"
            ]
          },
          "metadata": {},
          "execution_count": 101
        }
      ],
      "source": [
        "df['date'].dtype\n"
      ]
    },
    {
      "cell_type": "code",
      "execution_count": null,
      "metadata": {
        "id": "ca-tk86WiVlU"
      },
      "outputs": [],
      "source": [
        "# Convert date to datetime\n",
        "df['date'] = pd.to_datetime(df['date'], format='mixed',dayfirst=True)\n",
        "\n",
        "# Extract month\n",
        "df['month'] = df['date'].dt.month\n"
      ]
    },
    {
      "cell_type": "code",
      "execution_count": null,
      "metadata": {
        "colab": {
          "base_uri": "https://localhost:8080/"
        },
        "id": "0cBwScAQiW6o",
        "outputId": "26aff303-63d5-4a3c-e465-8592015373f1"
      },
      "outputs": [
        {
          "output_type": "execute_result",
          "data": {
            "text/plain": [
              "array([ 5.,  6.,  7.,  8.,  9., 10., 11., 12., nan])"
            ]
          },
          "metadata": {},
          "execution_count": 103
        }
      ],
      "source": [
        "df['month'].unique()"
      ]
    },
    {
      "cell_type": "code",
      "execution_count": null,
      "metadata": {
        "id": "aNH_kupBiYiv"
      },
      "outputs": [],
      "source": [
        "def get_season(month):\n",
        "    if month in [12, 1, 2]:\n",
        "        return 'Winter'\n",
        "    elif month in [3, 4, 5]:\n",
        "        return 'Summer'\n",
        "    elif month in [6, 7, 8]:\n",
        "        return 'Monsoon'\n",
        "    else:\n",
        "        return 'Post-Monsoon'\n",
        "\n",
        "df['season'] = df['month'].apply(get_season)\n"
      ]
    },
    {
      "cell_type": "code",
      "execution_count": null,
      "metadata": {
        "id": "F6FkAOwmiZu2"
      },
      "outputs": [],
      "source": [
        "df = df.drop('date',axis=1)"
      ]
    },
    {
      "cell_type": "code",
      "execution_count": null,
      "metadata": {
        "colab": {
          "base_uri": "https://localhost:8080/"
        },
        "id": "hYi-hYE0ibYw",
        "outputId": "a32e1897-9824-4013-fa8e-37d9d7a47cf3"
      },
      "outputs": [
        {
          "output_type": "execute_result",
          "data": {
            "text/plain": [
              "Index(['state', 'district', 'min_price', 'max_price', 'modal_price',\n",
              "       'commodity', 'category', 'month', 'season'],\n",
              "      dtype='object')"
            ]
          },
          "metadata": {},
          "execution_count": 106
        }
      ],
      "source": [
        "df.columns"
      ]
    },
    {
      "cell_type": "code",
      "execution_count": null,
      "metadata": {
        "colab": {
          "base_uri": "https://localhost:8080/",
          "height": 143
        },
        "id": "0XNJ3_-eic87",
        "outputId": "e4b710ce-5458-4fb7-d027-6c7fc1a7f650"
      },
      "outputs": [
        {
          "output_type": "execute_result",
          "data": {
            "text/plain": [
              "                state    district  min_price  max_price  modal_price  \\\n",
              "88146   Uttar Pradesh     Sitapur      21.00      23.00        22.20   \n",
              "122024      Rajasthan        Kota      35.02      37.51        36.50   \n",
              "135515  Uttar Pradesh  Pratapgarh      12.35      12.65        12.55   \n",
              "\n",
              "           commodity    category  month   season  \n",
              "88146         Banana      Fruits    6.0  Monsoon  \n",
              "122024      Soyabean    Oilseeds    6.0  Monsoon  \n",
              "135515  Bottle gourd  Vegetables    7.0  Monsoon  "
            ],
            "text/html": [
              "\n",
              "  <div id=\"df-ffecfcbb-8ac6-40dc-8f30-66dd94592c91\" class=\"colab-df-container\">\n",
              "    <div>\n",
              "<style scoped>\n",
              "    .dataframe tbody tr th:only-of-type {\n",
              "        vertical-align: middle;\n",
              "    }\n",
              "\n",
              "    .dataframe tbody tr th {\n",
              "        vertical-align: top;\n",
              "    }\n",
              "\n",
              "    .dataframe thead th {\n",
              "        text-align: right;\n",
              "    }\n",
              "</style>\n",
              "<table border=\"1\" class=\"dataframe\">\n",
              "  <thead>\n",
              "    <tr style=\"text-align: right;\">\n",
              "      <th></th>\n",
              "      <th>state</th>\n",
              "      <th>district</th>\n",
              "      <th>min_price</th>\n",
              "      <th>max_price</th>\n",
              "      <th>modal_price</th>\n",
              "      <th>commodity</th>\n",
              "      <th>category</th>\n",
              "      <th>month</th>\n",
              "      <th>season</th>\n",
              "    </tr>\n",
              "  </thead>\n",
              "  <tbody>\n",
              "    <tr>\n",
              "      <th>88146</th>\n",
              "      <td>Uttar Pradesh</td>\n",
              "      <td>Sitapur</td>\n",
              "      <td>21.00</td>\n",
              "      <td>23.00</td>\n",
              "      <td>22.20</td>\n",
              "      <td>Banana</td>\n",
              "      <td>Fruits</td>\n",
              "      <td>6.0</td>\n",
              "      <td>Monsoon</td>\n",
              "    </tr>\n",
              "    <tr>\n",
              "      <th>122024</th>\n",
              "      <td>Rajasthan</td>\n",
              "      <td>Kota</td>\n",
              "      <td>35.02</td>\n",
              "      <td>37.51</td>\n",
              "      <td>36.50</td>\n",
              "      <td>Soyabean</td>\n",
              "      <td>Oilseeds</td>\n",
              "      <td>6.0</td>\n",
              "      <td>Monsoon</td>\n",
              "    </tr>\n",
              "    <tr>\n",
              "      <th>135515</th>\n",
              "      <td>Uttar Pradesh</td>\n",
              "      <td>Pratapgarh</td>\n",
              "      <td>12.35</td>\n",
              "      <td>12.65</td>\n",
              "      <td>12.55</td>\n",
              "      <td>Bottle gourd</td>\n",
              "      <td>Vegetables</td>\n",
              "      <td>7.0</td>\n",
              "      <td>Monsoon</td>\n",
              "    </tr>\n",
              "  </tbody>\n",
              "</table>\n",
              "</div>\n",
              "    <div class=\"colab-df-buttons\">\n",
              "\n",
              "  <div class=\"colab-df-container\">\n",
              "    <button class=\"colab-df-convert\" onclick=\"convertToInteractive('df-ffecfcbb-8ac6-40dc-8f30-66dd94592c91')\"\n",
              "            title=\"Convert this dataframe to an interactive table.\"\n",
              "            style=\"display:none;\">\n",
              "\n",
              "  <svg xmlns=\"http://www.w3.org/2000/svg\" height=\"24px\" viewBox=\"0 -960 960 960\">\n",
              "    <path d=\"M120-120v-720h720v720H120Zm60-500h600v-160H180v160Zm220 220h160v-160H400v160Zm0 220h160v-160H400v160ZM180-400h160v-160H180v160Zm440 0h160v-160H620v160ZM180-180h160v-160H180v160Zm440 0h160v-160H620v160Z\"/>\n",
              "  </svg>\n",
              "    </button>\n",
              "\n",
              "  <style>\n",
              "    .colab-df-container {\n",
              "      display:flex;\n",
              "      gap: 12px;\n",
              "    }\n",
              "\n",
              "    .colab-df-convert {\n",
              "      background-color: #E8F0FE;\n",
              "      border: none;\n",
              "      border-radius: 50%;\n",
              "      cursor: pointer;\n",
              "      display: none;\n",
              "      fill: #1967D2;\n",
              "      height: 32px;\n",
              "      padding: 0 0 0 0;\n",
              "      width: 32px;\n",
              "    }\n",
              "\n",
              "    .colab-df-convert:hover {\n",
              "      background-color: #E2EBFA;\n",
              "      box-shadow: 0px 1px 2px rgba(60, 64, 67, 0.3), 0px 1px 3px 1px rgba(60, 64, 67, 0.15);\n",
              "      fill: #174EA6;\n",
              "    }\n",
              "\n",
              "    .colab-df-buttons div {\n",
              "      margin-bottom: 4px;\n",
              "    }\n",
              "\n",
              "    [theme=dark] .colab-df-convert {\n",
              "      background-color: #3B4455;\n",
              "      fill: #D2E3FC;\n",
              "    }\n",
              "\n",
              "    [theme=dark] .colab-df-convert:hover {\n",
              "      background-color: #434B5C;\n",
              "      box-shadow: 0px 1px 3px 1px rgba(0, 0, 0, 0.15);\n",
              "      filter: drop-shadow(0px 1px 2px rgba(0, 0, 0, 0.3));\n",
              "      fill: #FFFFFF;\n",
              "    }\n",
              "  </style>\n",
              "\n",
              "    <script>\n",
              "      const buttonEl =\n",
              "        document.querySelector('#df-ffecfcbb-8ac6-40dc-8f30-66dd94592c91 button.colab-df-convert');\n",
              "      buttonEl.style.display =\n",
              "        google.colab.kernel.accessAllowed ? 'block' : 'none';\n",
              "\n",
              "      async function convertToInteractive(key) {\n",
              "        const element = document.querySelector('#df-ffecfcbb-8ac6-40dc-8f30-66dd94592c91');\n",
              "        const dataTable =\n",
              "          await google.colab.kernel.invokeFunction('convertToInteractive',\n",
              "                                                    [key], {});\n",
              "        if (!dataTable) return;\n",
              "\n",
              "        const docLinkHtml = 'Like what you see? Visit the ' +\n",
              "          '<a target=\"_blank\" href=https://colab.research.google.com/notebooks/data_table.ipynb>data table notebook</a>'\n",
              "          + ' to learn more about interactive tables.';\n",
              "        element.innerHTML = '';\n",
              "        dataTable['output_type'] = 'display_data';\n",
              "        await google.colab.output.renderOutput(dataTable, element);\n",
              "        const docLink = document.createElement('div');\n",
              "        docLink.innerHTML = docLinkHtml;\n",
              "        element.appendChild(docLink);\n",
              "      }\n",
              "    </script>\n",
              "  </div>\n",
              "\n",
              "\n",
              "    <div id=\"df-e4f392b8-e333-46e9-a71a-e351fb95e0c4\">\n",
              "      <button class=\"colab-df-quickchart\" onclick=\"quickchart('df-e4f392b8-e333-46e9-a71a-e351fb95e0c4')\"\n",
              "                title=\"Suggest charts\"\n",
              "                style=\"display:none;\">\n",
              "\n",
              "<svg xmlns=\"http://www.w3.org/2000/svg\" height=\"24px\"viewBox=\"0 0 24 24\"\n",
              "     width=\"24px\">\n",
              "    <g>\n",
              "        <path d=\"M19 3H5c-1.1 0-2 .9-2 2v14c0 1.1.9 2 2 2h14c1.1 0 2-.9 2-2V5c0-1.1-.9-2-2-2zM9 17H7v-7h2v7zm4 0h-2V7h2v10zm4 0h-2v-4h2v4z\"/>\n",
              "    </g>\n",
              "</svg>\n",
              "      </button>\n",
              "\n",
              "<style>\n",
              "  .colab-df-quickchart {\n",
              "      --bg-color: #E8F0FE;\n",
              "      --fill-color: #1967D2;\n",
              "      --hover-bg-color: #E2EBFA;\n",
              "      --hover-fill-color: #174EA6;\n",
              "      --disabled-fill-color: #AAA;\n",
              "      --disabled-bg-color: #DDD;\n",
              "  }\n",
              "\n",
              "  [theme=dark] .colab-df-quickchart {\n",
              "      --bg-color: #3B4455;\n",
              "      --fill-color: #D2E3FC;\n",
              "      --hover-bg-color: #434B5C;\n",
              "      --hover-fill-color: #FFFFFF;\n",
              "      --disabled-bg-color: #3B4455;\n",
              "      --disabled-fill-color: #666;\n",
              "  }\n",
              "\n",
              "  .colab-df-quickchart {\n",
              "    background-color: var(--bg-color);\n",
              "    border: none;\n",
              "    border-radius: 50%;\n",
              "    cursor: pointer;\n",
              "    display: none;\n",
              "    fill: var(--fill-color);\n",
              "    height: 32px;\n",
              "    padding: 0;\n",
              "    width: 32px;\n",
              "  }\n",
              "\n",
              "  .colab-df-quickchart:hover {\n",
              "    background-color: var(--hover-bg-color);\n",
              "    box-shadow: 0 1px 2px rgba(60, 64, 67, 0.3), 0 1px 3px 1px rgba(60, 64, 67, 0.15);\n",
              "    fill: var(--button-hover-fill-color);\n",
              "  }\n",
              "\n",
              "  .colab-df-quickchart-complete:disabled,\n",
              "  .colab-df-quickchart-complete:disabled:hover {\n",
              "    background-color: var(--disabled-bg-color);\n",
              "    fill: var(--disabled-fill-color);\n",
              "    box-shadow: none;\n",
              "  }\n",
              "\n",
              "  .colab-df-spinner {\n",
              "    border: 2px solid var(--fill-color);\n",
              "    border-color: transparent;\n",
              "    border-bottom-color: var(--fill-color);\n",
              "    animation:\n",
              "      spin 1s steps(1) infinite;\n",
              "  }\n",
              "\n",
              "  @keyframes spin {\n",
              "    0% {\n",
              "      border-color: transparent;\n",
              "      border-bottom-color: var(--fill-color);\n",
              "      border-left-color: var(--fill-color);\n",
              "    }\n",
              "    20% {\n",
              "      border-color: transparent;\n",
              "      border-left-color: var(--fill-color);\n",
              "      border-top-color: var(--fill-color);\n",
              "    }\n",
              "    30% {\n",
              "      border-color: transparent;\n",
              "      border-left-color: var(--fill-color);\n",
              "      border-top-color: var(--fill-color);\n",
              "      border-right-color: var(--fill-color);\n",
              "    }\n",
              "    40% {\n",
              "      border-color: transparent;\n",
              "      border-right-color: var(--fill-color);\n",
              "      border-top-color: var(--fill-color);\n",
              "    }\n",
              "    60% {\n",
              "      border-color: transparent;\n",
              "      border-right-color: var(--fill-color);\n",
              "    }\n",
              "    80% {\n",
              "      border-color: transparent;\n",
              "      border-right-color: var(--fill-color);\n",
              "      border-bottom-color: var(--fill-color);\n",
              "    }\n",
              "    90% {\n",
              "      border-color: transparent;\n",
              "      border-bottom-color: var(--fill-color);\n",
              "    }\n",
              "  }\n",
              "</style>\n",
              "\n",
              "      <script>\n",
              "        async function quickchart(key) {\n",
              "          const quickchartButtonEl =\n",
              "            document.querySelector('#' + key + ' button');\n",
              "          quickchartButtonEl.disabled = true;  // To prevent multiple clicks.\n",
              "          quickchartButtonEl.classList.add('colab-df-spinner');\n",
              "          try {\n",
              "            const charts = await google.colab.kernel.invokeFunction(\n",
              "                'suggestCharts', [key], {});\n",
              "          } catch (error) {\n",
              "            console.error('Error during call to suggestCharts:', error);\n",
              "          }\n",
              "          quickchartButtonEl.classList.remove('colab-df-spinner');\n",
              "          quickchartButtonEl.classList.add('colab-df-quickchart-complete');\n",
              "        }\n",
              "        (() => {\n",
              "          let quickchartButtonEl =\n",
              "            document.querySelector('#df-e4f392b8-e333-46e9-a71a-e351fb95e0c4 button');\n",
              "          quickchartButtonEl.style.display =\n",
              "            google.colab.kernel.accessAllowed ? 'block' : 'none';\n",
              "        })();\n",
              "      </script>\n",
              "    </div>\n",
              "\n",
              "    </div>\n",
              "  </div>\n"
            ],
            "application/vnd.google.colaboratory.intrinsic+json": {
              "type": "dataframe",
              "summary": "{\n  \"name\": \"df\",\n  \"rows\": 3,\n  \"fields\": [\n    {\n      \"column\": \"state\",\n      \"properties\": {\n        \"dtype\": \"string\",\n        \"num_unique_values\": 2,\n        \"samples\": [\n          \"Rajasthan\",\n          \"Uttar Pradesh\"\n        ],\n        \"semantic_type\": \"\",\n        \"description\": \"\"\n      }\n    },\n    {\n      \"column\": \"district\",\n      \"properties\": {\n        \"dtype\": \"string\",\n        \"num_unique_values\": 3,\n        \"samples\": [\n          \"Sitapur\",\n          \"Kota\"\n        ],\n        \"semantic_type\": \"\",\n        \"description\": \"\"\n      }\n    },\n    {\n      \"column\": \"min_price\",\n      \"properties\": {\n        \"dtype\": \"number\",\n        \"std\": 11.440511352207997,\n        \"min\": 12.35,\n        \"max\": 35.02,\n        \"num_unique_values\": 3,\n        \"samples\": [\n          21.0,\n          35.02\n        ],\n        \"semantic_type\": \"\",\n        \"description\": \"\"\n      }\n    },\n    {\n      \"column\": \"max_price\",\n      \"properties\": {\n        \"dtype\": \"number\",\n        \"std\": 12.487875453147877,\n        \"min\": 12.65,\n        \"max\": 37.51,\n        \"num_unique_values\": 3,\n        \"samples\": [\n          23.0,\n          37.51\n        ],\n        \"semantic_type\": \"\",\n        \"description\": \"\"\n      }\n    },\n    {\n      \"column\": \"modal_price\",\n      \"properties\": {\n        \"dtype\": \"number\",\n        \"std\": 12.049999999999999,\n        \"min\": 12.55,\n        \"max\": 36.5,\n        \"num_unique_values\": 3,\n        \"samples\": [\n          22.2,\n          36.5\n        ],\n        \"semantic_type\": \"\",\n        \"description\": \"\"\n      }\n    },\n    {\n      \"column\": \"commodity\",\n      \"properties\": {\n        \"dtype\": \"string\",\n        \"num_unique_values\": 3,\n        \"samples\": [\n          \"Banana\",\n          \"Soyabean\"\n        ],\n        \"semantic_type\": \"\",\n        \"description\": \"\"\n      }\n    },\n    {\n      \"column\": \"category\",\n      \"properties\": {\n        \"dtype\": \"string\",\n        \"num_unique_values\": 3,\n        \"samples\": [\n          \"Fruits\",\n          \"Oilseeds\"\n        ],\n        \"semantic_type\": \"\",\n        \"description\": \"\"\n      }\n    },\n    {\n      \"column\": \"month\",\n      \"properties\": {\n        \"dtype\": \"number\",\n        \"std\": 0.5773502691896258,\n        \"min\": 6.0,\n        \"max\": 7.0,\n        \"num_unique_values\": 2,\n        \"samples\": [\n          7.0,\n          6.0\n        ],\n        \"semantic_type\": \"\",\n        \"description\": \"\"\n      }\n    },\n    {\n      \"column\": \"season\",\n      \"properties\": {\n        \"dtype\": \"category\",\n        \"num_unique_values\": 1,\n        \"samples\": [\n          \"Monsoon\"\n        ],\n        \"semantic_type\": \"\",\n        \"description\": \"\"\n      }\n    }\n  ]\n}"
            }
          },
          "metadata": {},
          "execution_count": 107
        }
      ],
      "source": [
        "df.sample(3)"
      ]
    },
    {
      "cell_type": "code",
      "execution_count": null,
      "metadata": {
        "colab": {
          "base_uri": "https://localhost:8080/",
          "height": 329
        },
        "id": "SM9MiIPXifev",
        "outputId": "fffac29d-510b-4c60-bb41-f59b2659b6a6"
      },
      "outputs": [
        {
          "output_type": "execute_result",
          "data": {
            "text/plain": [
              "<Axes: xlabel='modal_price'>"
            ]
          },
          "metadata": {},
          "execution_count": 108
        },
        {
          "output_type": "display_data",
          "data": {
            "text/plain": [
              "<Figure size 300x300 with 1 Axes>"
            ],
            "image/png": "[encoded data removed]"
          },
          "metadata": {}
        }
      ],
      "source": [
        "plt.figure(figsize=(3,3))\n",
        "sns.boxplot(x=df['modal_price'])"
      ]
    },
    {
      "cell_type": "code",
      "execution_count": null,
      "metadata": {
        "colab": {
          "base_uri": "https://localhost:8080/"
        },
        "id": "AHKSIw_pil9x",
        "outputId": "d878b572-b28f-49cf-abec-f9249fc6e0e4"
      },
      "outputs": [
        {
          "output_type": "stream",
          "name": "stdout",
          "text": [
            "24506 out of 407972 rows\n"
          ]
        }
      ],
      "source": [
        "Q1 = df['modal_price'].quantile(0.25)\n",
        "Q3 = df['modal_price'].quantile(0.75)\n",
        "IQR = Q3 - Q1\n",
        "lower_bound = Q1 - 1.5 * IQR\n",
        "upper_bound = Q3 + 1.5 * IQR\n",
        "\n",
        "outliers = df[(df['modal_price'] < lower_bound) | (df['modal_price'] > upper_bound)]\n",
        "print(len(outliers), \"out of\", len(df), \"rows\")\n",
        "\n"
      ]
    },
    {
      "cell_type": "code",
      "execution_count": null,
      "metadata": {
        "id": "W1TYFtw-ioBa"
      },
      "outputs": [],
      "source": [
        "df = df[(df['modal_price'] >= lower_bound) & (df['modal_price'] <= upper_bound)]\n"
      ]
    },
    {
      "cell_type": "code",
      "execution_count": null,
      "metadata": {
        "colab": {
          "base_uri": "https://localhost:8080/"
        },
        "id": "3ZOUpuxJipYU",
        "outputId": "dcb76df6-f596-4b76-e3c6-2534c1a8a41f"
      },
      "outputs": [
        {
          "output_type": "execute_result",
          "data": {
            "text/plain": [
              "(383465, 9)"
            ]
          },
          "metadata": {},
          "execution_count": 111
        }
      ],
      "source": [
        "df.shape"
      ]
    },
    {
      "cell_type": "code",
      "execution_count": null,
      "metadata": {
        "id": "Be07BCiaizY7"
      },
      "outputs": [],
      "source": [
        "x = df[['category', 'commodity', 'state', 'district', 'month', 'season']]\n",
        "y = df['modal_price']\n"
      ]
    },
    {
      "cell_type": "code",
      "execution_count": null,
      "metadata": {
        "id": "-Zq7Yd-nizkM"
      },
      "outputs": [],
      "source": [
        "from sklearn.preprocessing import OneHotEncoder\n",
        "\n",
        "encoder = OneHotEncoder(handle_unknown='ignore', sparse_output=False)\n",
        "x_encoded = encoder.fit_transform(x)"
      ]
    },
    {
      "cell_type": "code",
      "execution_count": null,
      "metadata": {
        "id": "ofTX2yAOi1EB"
      },
      "outputs": [],
      "source": [
        "from sklearn.model_selection import train_test_split\n",
        "\n",
        "x_train, x_test, y_train, y_test = train_test_split(x_encoded, y, test_size=0.2, random_state=42)"
      ]
    },
    {
      "cell_type": "code",
      "execution_count": null,
      "metadata": {
        "colab": {
          "base_uri": "https://localhost:8080/",
          "height": 79
        },
        "id": "1shd5McfvQNP",
        "outputId": "b1f3bfe4-0348-4091-acf9-d42b0d5186a3"
      },
      "outputs": [
        {
          "output_type": "execute_result",
          "data": {
            "text/plain": [
              "RandomForestRegressor(n_estimators=10, random_state=42)"
            ],
            "text/html": [
              "<style>#sk-container-id-2 {\n",
              "  /* Definition of color scheme common for light and dark mode */\n",
              "  --sklearn-color-text: #000;\n",
              "  --sklearn-color-text-muted: #666;\n",
              "  --sklearn-color-line: gray;\n",
              "  /* Definition of color scheme for unfitted estimators */\n",
              "  --sklearn-color-unfitted-level-0: #fff5e6;\n",
              "  --sklearn-color-unfitted-level-1: #f6e4d2;\n",
              "  --sklearn-color-unfitted-level-2: #ffe0b3;\n",
              "  --sklearn-color-unfitted-level-3: chocolate;\n",
              "  /* Definition of color scheme for fitted estimators */\n",
              "  --sklearn-color-fitted-level-0: #f0f8ff;\n",
              "  --sklearn-color-fitted-level-1: #d4ebff;\n",
              "  --sklearn-color-fitted-level-2: #b3dbfd;\n",
              "  --sklearn-color-fitted-level-3: cornflowerblue;\n",
              "\n",
              "  /* Specific color for light theme */\n",
              "  --sklearn-color-text-on-default-background: var(--sg-text-color, var(--theme-code-foreground, var(--jp-content-font-color1, black)));\n",
              "  --sklearn-color-background: var(--sg-background-color, var(--theme-background, var(--jp-layout-color0, white)));\n",
              "  --sklearn-color-border-box: var(--sg-text-color, var(--theme-code-foreground, var(--jp-content-font-color1, black)));\n",
              "  --sklearn-color-icon: #696969;\n",
              "\n",
              "  @media (prefers-color-scheme: dark) {\n",
              "    /* Redefinition of color scheme for dark theme */\n",
              "    --sklearn-color-text-on-default-background: var(--sg-text-color, var(--theme-code-foreground, var(--jp-content-font-color1, white)));\n",
              "    --sklearn-color-background: var(--sg-background-color, var(--theme-background, var(--jp-layout-color0, #111)));\n",
              "    --sklearn-color-border-box: var(--sg-text-color, var(--theme-code-foreground, var(--jp-content-font-color1, white)));\n",
              "    --sklearn-color-icon: #878787;\n",
              "  }\n",
              "}\n",
              "\n",
              "#sk-container-id-2 {\n",
              "  color: var(--sklearn-color-text);\n",
              "}\n",
              "\n",
              "#sk-container-id-2 pre {\n",
              "  padding: 0;\n",
              "}\n",
              "\n",
              "#sk-container-id-2 input.sk-hidden--visually {\n",
              "  border: 0;\n",
              "  clip: rect(1px 1px 1px 1px);\n",
              "  clip: rect(1px, 1px, 1px, 1px);\n",
              "  height: 1px;\n",
              "  margin: -1px;\n",
              "  overflow: hidden;\n",
              "  padding: 0;\n",
              "  position: absolute;\n",
              "  width: 1px;\n",
              "}\n",
              "\n",
              "#sk-container-id-2 div.sk-dashed-wrapped {\n",
              "  border: 1px dashed var(--sklearn-color-line);\n",
              "  margin: 0 0.4em 0.5em 0.4em;\n",
              "  box-sizing: border-box;\n",
              "  padding-bottom: 0.4em;\n",
              "  background-color: var(--sklearn-color-background);\n",
              "}\n",
              "\n",
              "#sk-container-id-2 div.sk-container {\n",
              "  /* jupyter's `normalize.less` sets `[hidden] { display: none; }`\n",
              "     but bootstrap.min.css set `[hidden] { display: none !important; }`\n",
              "     so we also need the `!important` here to be able to override the\n",
              "     default hidden behavior on the sphinx rendered scikit-learn.org.\n",
              "     See: https://github.com/scikit-learn/scikit-learn/issues/21755 */\n",
              "  display: inline-block !important;\n",
              "  position: relative;\n",
              "}\n",
              "\n",
              "#sk-container-id-2 div.sk-text-repr-fallback {\n",
              "  display: none;\n",
              "}\n",
              "\n",
              "div.sk-parallel-item,\n",
              "div.sk-serial,\n",
              "div.sk-item {\n",
              "  /* draw centered vertical line to link estimators */\n",
              "  background-image: linear-gradient(var(--sklearn-color-text-on-default-background), var(--sklearn-color-text-on-default-background));\n",
              "  background-size: 2px 100%;\n",
              "  background-repeat: no-repeat;\n",
              "  background-position: center center;\n",
              "}\n",
              "\n",
              "/* Parallel-specific style estimator block */\n",
              "\n",
              "#sk-container-id-2 div.sk-parallel-item::after {\n",
              "  content: \"\";\n",
              "  width: 100%;\n",
              "  border-bottom: 2px solid var(--sklearn-color-text-on-default-background);\n",
              "  flex-grow: 1;\n",
              "}\n",
              "\n",
              "#sk-container-id-2 div.sk-parallel {\n",
              "  display: flex;\n",
              "  align-items: stretch;\n",
              "  justify-content: center;\n",
              "  background-color: var(--sklearn-color-background);\n",
              "  position: relative;\n",
              "}\n",
              "\n",
              "#sk-container-id-2 div.sk-parallel-item {\n",
              "  display: flex;\n",
              "  flex-direction: column;\n",
              "}\n",
              "\n",
              "#sk-container-id-2 div.sk-parallel-item:first-child::after {\n",
              "  align-self: flex-end;\n",
              "  width: 50%;\n",
              "}\n",
              "\n",
              "#sk-container-id-2 div.sk-parallel-item:last-child::after {\n",
              "  align-self: flex-start;\n",
              "  width: 50%;\n",
              "}\n",
              "\n",
              "#sk-container-id-2 div.sk-parallel-item:only-child::after {\n",
              "  width: 0;\n",
              "}\n",
              "\n",
              "/* Serial-specific style estimator block */\n",
              "\n",
              "#sk-container-id-2 div.sk-serial {\n",
              "  display: flex;\n",
              "  flex-direction: column;\n",
              "  align-items: center;\n",
              "  background-color: var(--sklearn-color-background);\n",
              "  padding-right: 1em;\n",
              "  padding-left: 1em;\n",
              "}\n",
              "\n",
              "\n",
              "/* Toggleable style: style used for estimator/Pipeline/ColumnTransformer box that is\n",
              "clickable and can be expanded/collapsed.\n",
              "- Pipeline and ColumnTransformer use this feature and define the default style\n",
              "- Estimators will overwrite some part of the style using the `sk-estimator` class\n",
              "*/\n",
              "\n",
              "/* Pipeline and ColumnTransformer style (default) */\n",
              "\n",
              "#sk-container-id-2 div.sk-toggleable {\n",
              "  /* Default theme specific background. It is overwritten whether we have a\n",
              "  specific estimator or a Pipeline/ColumnTransformer */\n",
              "  background-color: var(--sklearn-color-background);\n",
              "}\n",
              "\n",
              "/* Toggleable label */\n",
              "#sk-container-id-2 label.sk-toggleable__label {\n",
              "  cursor: pointer;\n",
              "  display: flex;\n",
              "  width: 100%;\n",
              "  margin-bottom: 0;\n",
              "  padding: 0.5em;\n",
              "  box-sizing: border-box;\n",
              "  text-align: center;\n",
              "  align-items: start;\n",
              "  justify-content: space-between;\n",
              "  gap: 0.5em;\n",
              "}\n",
              "\n",
              "#sk-container-id-2 label.sk-toggleable__label .caption {\n",
              "  font-size: 0.6rem;\n",
              "  font-weight: lighter;\n",
              "  color: var(--sklearn-color-text-muted);\n",
              "}\n",
              "\n",
              "#sk-container-id-2 label.sk-toggleable__label-arrow:before {\n",
              "  /* Arrow on the left of the label */\n",
              "  content: \"▸\";\n",
              "  float: left;\n",
              "  margin-right: 0.25em;\n",
              "  color: var(--sklearn-color-icon);\n",
              "}\n",
              "\n",
              "#sk-container-id-2 label.sk-toggleable__label-arrow:hover:before {\n",
              "  color: var(--sklearn-color-text);\n",
              "}\n",
              "\n",
              "/* Toggleable content - dropdown */\n",
              "\n",
              "#sk-container-id-2 div.sk-toggleable__content {\n",
              "  max-height: 0;\n",
              "  max-width: 0;\n",
              "  overflow: hidden;\n",
              "  text-align: left;\n",
              "  /* unfitted */\n",
              "  background-color: var(--sklearn-color-unfitted-level-0);\n",
              "}\n",
              "\n",
              "#sk-container-id-2 div.sk-toggleable__content.fitted {\n",
              "  /* fitted */\n",
              "  background-color: var(--sklearn-color-fitted-level-0);\n",
              "}\n",
              "\n",
              "#sk-container-id-2 div.sk-toggleable__content pre {\n",
              "  margin: 0.2em;\n",
              "  border-radius: 0.25em;\n",
              "  color: var(--sklearn-color-text);\n",
              "  /* unfitted */\n",
              "  background-color: var(--sklearn-color-unfitted-level-0);\n",
              "}\n",
              "\n",
              "#sk-container-id-2 div.sk-toggleable__content.fitted pre {\n",
              "  /* unfitted */\n",
              "  background-color: var(--sklearn-color-fitted-level-0);\n",
              "}\n",
              "\n",
              "#sk-container-id-2 input.sk-toggleable__control:checked~div.sk-toggleable__content {\n",
              "  /* Expand drop-down */\n",
              "  max-height: 200px;\n",
              "  max-width: 100%;\n",
              "  overflow: auto;\n",
              "}\n",
              "\n",
              "#sk-container-id-2 input.sk-toggleable__control:checked~label.sk-toggleable__label-arrow:before {\n",
              "  content: \"▾\";\n",
              "}\n",
              "\n",
              "/* Pipeline/ColumnTransformer-specific style */\n",
              "\n",
              "#sk-container-id-2 div.sk-label input.sk-toggleable__control:checked~label.sk-toggleable__label {\n",
              "  color: var(--sklearn-color-text);\n",
              "  background-color: var(--sklearn-color-unfitted-level-2);\n",
              "}\n",
              "\n",
              "#sk-container-id-2 div.sk-label.fitted input.sk-toggleable__control:checked~label.sk-toggleable__label {\n",
              "  background-color: var(--sklearn-color-fitted-level-2);\n",
              "}\n",
              "\n",
              "/* Estimator-specific style */\n",
              "\n",
              "/* Colorize estimator box */\n",
              "#sk-container-id-2 div.sk-estimator input.sk-toggleable__control:checked~label.sk-toggleable__label {\n",
              "  /* unfitted */\n",
              "  background-color: var(--sklearn-color-unfitted-level-2);\n",
              "}\n",
              "\n",
              "#sk-container-id-2 div.sk-estimator.fitted input.sk-toggleable__control:checked~label.sk-toggleable__label {\n",
              "  /* fitted */\n",
              "  background-color: var(--sklearn-color-fitted-level-2);\n",
              "}\n",
              "\n",
              "#sk-container-id-2 div.sk-label label.sk-toggleable__label,\n",
              "#sk-container-id-2 div.sk-label label {\n",
              "  /* The background is the default theme color */\n",
              "  color: var(--sklearn-color-text-on-default-background);\n",
              "}\n",
              "\n",
              "/* On hover, darken the color of the background */\n",
              "#sk-container-id-2 div.sk-label:hover label.sk-toggleable__label {\n",
              "  color: var(--sklearn-color-text);\n",
              "  background-color: var(--sklearn-color-unfitted-level-2);\n",
              "}\n",
              "\n",
              "/* Label box, darken color on hover, fitted */\n",
              "#sk-container-id-2 div.sk-label.fitted:hover label.sk-toggleable__label.fitted {\n",
              "  color: var(--sklearn-color-text);\n",
              "  background-color: var(--sklearn-color-fitted-level-2);\n",
              "}\n",
              "\n",
              "/* Estimator label */\n",
              "\n",
              "#sk-container-id-2 div.sk-label label {\n",
              "  font-family: monospace;\n",
              "  font-weight: bold;\n",
              "  display: inline-block;\n",
              "  line-height: 1.2em;\n",
              "}\n",
              "\n",
              "#sk-container-id-2 div.sk-label-container {\n",
              "  text-align: center;\n",
              "}\n",
              "\n",
              "/* Estimator-specific */\n",
              "#sk-container-id-2 div.sk-estimator {\n",
              "  font-family: monospace;\n",
              "  border: 1px dotted var(--sklearn-color-border-box);\n",
              "  border-radius: 0.25em;\n",
              "  box-sizing: border-box;\n",
              "  margin-bottom: 0.5em;\n",
              "  /* unfitted */\n",
              "  background-color: var(--sklearn-color-unfitted-level-0);\n",
              "}\n",
              "\n",
              "#sk-container-id-2 div.sk-estimator.fitted {\n",
              "  /* fitted */\n",
              "  background-color: var(--sklearn-color-fitted-level-0);\n",
              "}\n",
              "\n",
              "/* on hover */\n",
              "#sk-container-id-2 div.sk-estimator:hover {\n",
              "  /* unfitted */\n",
              "  background-color: var(--sklearn-color-unfitted-level-2);\n",
              "}\n",
              "\n",
              "#sk-container-id-2 div.sk-estimator.fitted:hover {\n",
              "  /* fitted */\n",
              "  background-color: var(--sklearn-color-fitted-level-2);\n",
              "}\n",
              "\n",
              "/* Specification for estimator info (e.g. \"i\" and \"?\") */\n",
              "\n",
              "/* Common style for \"i\" and \"?\" */\n",
              "\n",
              ".sk-estimator-doc-link,\n",
              "a:link.sk-estimator-doc-link,\n",
              "a:visited.sk-estimator-doc-link {\n",
              "  float: right;\n",
              "  font-size: smaller;\n",
              "  line-height: 1em;\n",
              "  font-family: monospace;\n",
              "  background-color: var(--sklearn-color-background);\n",
              "  border-radius: 1em;\n",
              "  height: 1em;\n",
              "  width: 1em;\n",
              "  text-decoration: none !important;\n",
              "  margin-left: 0.5em;\n",
              "  text-align: center;\n",
              "  /* unfitted */\n",
              "  border: var(--sklearn-color-unfitted-level-1) 1pt solid;\n",
              "  color: var(--sklearn-color-unfitted-level-1);\n",
              "}\n",
              "\n",
              ".sk-estimator-doc-link.fitted,\n",
              "a:link.sk-estimator-doc-link.fitted,\n",
              "a:visited.sk-estimator-doc-link.fitted {\n",
              "  /* fitted */\n",
              "  border: var(--sklearn-color-fitted-level-1) 1pt solid;\n",
              "  color: var(--sklearn-color-fitted-level-1);\n",
              "}\n",
              "\n",
              "/* On hover */\n",
              "div.sk-estimator:hover .sk-estimator-doc-link:hover,\n",
              ".sk-estimator-doc-link:hover,\n",
              "div.sk-label-container:hover .sk-estimator-doc-link:hover,\n",
              ".sk-estimator-doc-link:hover {\n",
              "  /* unfitted */\n",
              "  background-color: var(--sklearn-color-unfitted-level-3);\n",
              "  color: var(--sklearn-color-background);\n",
              "  text-decoration: none;\n",
              "}\n",
              "\n",
              "div.sk-estimator.fitted:hover .sk-estimator-doc-link.fitted:hover,\n",
              ".sk-estimator-doc-link.fitted:hover,\n",
              "div.sk-label-container:hover .sk-estimator-doc-link.fitted:hover,\n",
              ".sk-estimator-doc-link.fitted:hover {\n",
              "  /* fitted */\n",
              "  background-color: var(--sklearn-color-fitted-level-3);\n",
              "  color: var(--sklearn-color-background);\n",
              "  text-decoration: none;\n",
              "}\n",
              "\n",
              "/* Span, style for the box shown on hovering the info icon */\n",
              ".sk-estimator-doc-link span {\n",
              "  display: none;\n",
              "  z-index: 9999;\n",
              "  position: relative;\n",
              "  font-weight: normal;\n",
              "  right: .2ex;\n",
              "  padding: .5ex;\n",
              "  margin: .5ex;\n",
              "  width: min-content;\n",
              "  min-width: 20ex;\n",
              "  max-width: 50ex;\n",
              "  color: var(--sklearn-color-text);\n",
              "  box-shadow: 2pt 2pt 4pt #999;\n",
              "  /* unfitted */\n",
              "  background: var(--sklearn-color-unfitted-level-0);\n",
              "  border: .5pt solid var(--sklearn-color-unfitted-level-3);\n",
              "}\n",
              "\n",
              ".sk-estimator-doc-link.fitted span {\n",
              "  /* fitted */\n",
              "  background: var(--sklearn-color-fitted-level-0);\n",
              "  border: var(--sklearn-color-fitted-level-3);\n",
              "}\n",
              "\n",
              ".sk-estimator-doc-link:hover span {\n",
              "  display: block;\n",
              "}\n",
              "\n",
              "/* \"?\"-specific style due to the `<a>` HTML tag */\n",
              "\n",
              "#sk-container-id-2 a.estimator_doc_link {\n",
              "  float: right;\n",
              "  font-size: 1rem;\n",
              "  line-height: 1em;\n",
              "  font-family: monospace;\n",
              "  background-color: var(--sklearn-color-background);\n",
              "  border-radius: 1rem;\n",
              "  height: 1rem;\n",
              "  width: 1rem;\n",
              "  text-decoration: none;\n",
              "  /* unfitted */\n",
              "  color: var(--sklearn-color-unfitted-level-1);\n",
              "  border: var(--sklearn-color-unfitted-level-1) 1pt solid;\n",
              "}\n",
              "\n",
              "#sk-container-id-2 a.estimator_doc_link.fitted {\n",
              "  /* fitted */\n",
              "  border: var(--sklearn-color-fitted-level-1) 1pt solid;\n",
              "  color: var(--sklearn-color-fitted-level-1);\n",
              "}\n",
              "\n",
              "/* On hover */\n",
              "#sk-container-id-2 a.estimator_doc_link:hover {\n",
              "  /* unfitted */\n",
              "  background-color: var(--sklearn-color-unfitted-level-3);\n",
              "  color: var(--sklearn-color-background);\n",
              "  text-decoration: none;\n",
              "}\n",
              "\n",
              "#sk-container-id-2 a.estimator_doc_link.fitted:hover {\n",
              "  /* fitted */\n",
              "  background-color: var(--sklearn-color-fitted-level-3);\n",
              "}\n",
              "</style><div id=\"sk-container-id-2\" class=\"sk-top-container\"><div class=\"sk-text-repr-fallback\"><pre>RandomForestRegressor(n_estimators=10, random_state=42)</pre><b>In a Jupyter environment, please rerun this cell to show the HTML representation or trust the notebook. <br />On GitHub, the HTML representation is unable to render, please try loading this page with nbviewer.org.</b></div><div class=\"sk-container\" hidden><div class=\"sk-item\"><div class=\"sk-estimator fitted sk-toggleable\"><input class=\"sk-toggleable__control sk-hidden--visually\" id=\"sk-estimator-id-2\" type=\"checkbox\" checked><label for=\"sk-estimator-id-2\" class=\"sk-toggleable__label fitted sk-toggleable__label-arrow\"><div><div>RandomForestRegressor</div></div><div><a class=\"sk-estimator-doc-link fitted\" rel=\"noreferrer\" target=\"_blank\" href=\"https://scikit-learn.org/1.6/modules/generated/sklearn.ensemble.RandomForestRegressor.html\">?<span>Documentation for RandomForestRegressor</span></a><span class=\"sk-estimator-doc-link fitted\">i<span>Fitted</span></span></div></label><div class=\"sk-toggleable__content fitted\"><pre>RandomForestRegressor(n_estimators=10, random_state=42)</pre></div> </div></div></div></div>"
            ]
          },
          "metadata": {},
          "execution_count": 115
        }
      ],
      "source": [
        "from sklearn.ensemble import RandomForestRegressor\n",
        "\n",
        "model = RandomForestRegressor(n_estimators=10, random_state=42)\n",
        "model.fit(x_train, y_train)"
      ]
    },
    {
      "cell_type": "code",
      "source": [],
      "metadata": {
        "id": "WVbUCvGaegtx"
      },
      "execution_count": null,
      "outputs": []
    },
    {
      "cell_type": "code",
      "execution_count": null,
      "metadata": {
        "id": "Re5k2LYdkXkZ"
      },
      "outputs": [],
      "source": [
        "#import matplotlib.pyplot as plt\n",
        "\n",
        "#plt.figure(figsize=(2,2))\n",
        "#importances = model.feature_importances_\n",
        "#feat_names = x.columns\n",
        "\n",
        "#plt.barh(feat_names, importances)\n",
        "#plt.xlabel(\"Importance\")\n",
        "#plt.title(\"Feature Importance\")\n",
        "#plt.show()\n"
      ]
    },
    {
      "cell_type": "code",
      "execution_count": null,
      "metadata": {
        "colab": {
          "base_uri": "https://localhost:8080/"
        },
        "id": "9x17kEcEj-Ae",
        "outputId": "e7624401-a459-42b7-d82e-fba6fb70966e"
      },
      "outputs": [
        {
          "output_type": "stream",
          "name": "stdout",
          "text": [
            "MAE: 3.364257086791101\n",
            "RMSE: 32.964526609294545\n",
            "R² Score: 0.8729833201815361\n"
          ]
        }
      ],
      "source": [
        "from sklearn.metrics import mean_absolute_error, mean_squared_error, r2_score\n",
        "\n",
        "y_pred = model.predict(x_test)\n",
        "\n",
        "print(\"MAE:\", mean_absolute_error(y_test, y_pred))\n",
        "print(\"RMSE:\", mean_squared_error(y_test, y_pred))\n",
        "print(\"R² Score:\", r2_score(y_test, y_pred))\n"
      ]
    },
    {
      "cell_type": "code",
      "execution_count": null,
      "metadata": {
        "colab": {
          "base_uri": "https://localhost:8080/",
          "height": 17
        },
        "id": "QHYozA08kCIg",
        "outputId": "02bf3640-c878-4575-f664-7cc02043f9df"
      },
      "outputs": [
        {
          "output_type": "display_data",
          "data": {
            "text/plain": [
              "<IPython.core.display.Javascript object>"
            ],
            "application/javascript": [
              "\n",
              "    async function download(id, filename, size) {\n",
              "      if (!google.colab.kernel.accessAllowed) {\n",
              "        return;\n",
              "      }\n",
              "      const div = document.createElement('div');\n",
              "      const label = document.createElement('label');\n",
              "      label.textContent = `Downloading \"${filename}\": `;\n",
              "      div.appendChild(label);\n",
              "      const progress = document.createElement('progress');\n",
              "      progress.max = size;\n",
              "      div.appendChild(progress);\n",
              "      document.body.appendChild(div);\n",
              "\n",
              "      const buffers = [];\n",
              "      let downloaded = 0;\n",
              "\n",
              "      const channel = await google.colab.kernel.comms.open(id);\n",
              "      // Send a message to notify the kernel that we're ready.\n",
              "      channel.send({})\n",
              "\n",
              "      for await (const message of channel.messages) {\n",
              "        // Send a message to notify the kernel that we're ready.\n",
              "        channel.send({})\n",
              "        if (message.buffers) {\n",
              "          for (const buffer of message.buffers) {\n",
              "            buffers.push(buffer);\n",
              "            downloaded += buffer.byteLength;\n",
              "            progress.value = downloaded;\n",
              "          }\n",
              "        }\n",
              "      }\n",
              "      const blob = new Blob(buffers, {type: 'application/binary'});\n",
              "      const a = document.createElement('a');\n",
              "      a.href = window.URL.createObjectURL(blob);\n",
              "      a.download = filename;\n",
              "      div.appendChild(a);\n",
              "      a.click();\n",
              "      div.remove();\n",
              "    }\n",
              "  "
            ]
          },
          "metadata": {}
        },
        {
          "output_type": "display_data",
          "data": {
            "text/plain": [
              "<IPython.core.display.Javascript object>"
            ],
            "application/javascript": [
              "download(\"download_c343945a-8bc6-4023-8ece-79124b62c183\", \"crop_price_model2.pkl\", 57417985)"
            ]
          },
          "metadata": {}
        }
      ],
      "source": [
        "import joblib\n",
        "\n",
        "joblib.dump(model, 'crop_price_model2.pkl')  # Saving trained pipeline\n",
        "joblib.dump(encoder, 'encoder.pkl')\n",
        "from google.colab import files\n",
        "files.download('encoder.pkl')\n",
        "files.download('crop_price_model2.pkl')\n"
      ]
    },
    {
      "cell_type": "code",
      "source": [],
      "metadata": {
        "colab": {
          "base_uri": "https://localhost:8080/",
          "height": 17
        },
        "id": "R3Y9eRNBesXP",
        "outputId": "fd417000-e349-4a39-b84a-730aee9692d4"
      },
      "execution_count": null,
      "outputs": [
        {
          "output_type": "display_data",
          "data": {
            "text/plain": [
              "<IPython.core.display.Javascript object>"
            ],
            "application/javascript": [
              "\n",
              "    async function download(id, filename, size) {\n",
              "      if (!google.colab.kernel.accessAllowed) {\n",
              "        return;\n",
              "      }\n",
              "      const div = document.createElement('div');\n",
              "      const label = document.createElement('label');\n",
              "      label.textContent = `Downloading \"${filename}\": `;\n",
              "      div.appendChild(label);\n",
              "      const progress = document.createElement('progress');\n",
              "      progress.max = size;\n",
              "      div.appendChild(progress);\n",
              "      document.body.appendChild(div);\n",
              "\n",
              "      const buffers = [];\n",
              "      let downloaded = 0;\n",
              "\n",
              "      const channel = await google.colab.kernel.comms.open(id);\n",
              "      // Send a message to notify the kernel that we're ready.\n",
              "      channel.send({})\n",
              "\n",
              "      for await (const message of channel.messages) {\n",
              "        // Send a message to notify the kernel that we're ready.\n",
              "        channel.send({})\n",
              "        if (message.buffers) {\n",
              "          for (const buffer of message.buffers) {\n",
              "            buffers.push(buffer);\n",
              "            downloaded += buffer.byteLength;\n",
              "            progress.value = downloaded;\n",
              "          }\n",
              "        }\n",
              "      }\n",
              "      const blob = new Blob(buffers, {type: 'application/binary'});\n",
              "      const a = document.createElement('a');\n",
              "      a.href = window.URL.createObjectURL(blob);\n",
              "      a.download = filename;\n",
              "      div.appendChild(a);\n",
              "      a.click();\n",
              "      div.remove();\n",
              "    }\n",
              "  "
            ]
          },
          "metadata": {}
        },
        {
          "output_type": "display_data",
          "data": {
            "text/plain": [
              "<IPython.core.display.Javascript object>"
            ],
            "application/javascript": [
              "download(\"download_11357807-1b5d-40ec-86d2-cd8539da2bf3\", \"encoder.pkl\", 10529)"
            ]
          },
          "metadata": {}
        }
      ]
    }
  ],
  "metadata": {
    "colab": {
      "provenance": [],
      "authorship_tag": "ABX9TyPvIMamt4pDxPpCpgp14zJ3",
      "include_colab_link": true
    },
    "kernelspec": {
      "display_name": "Python 3",
      "name": "python3"
    },
    "language_info": {
      "name": "python"
    }
  },
  "nbformat": 4,
  "nbformat_minor": 0
}