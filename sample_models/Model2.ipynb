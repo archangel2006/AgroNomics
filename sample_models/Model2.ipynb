{
  "nbformat": 4,
  "nbformat_minor": 0,
  "metadata": {
    "colab": {
      "provenance": [],
      "authorship_tag": "ABX9TyPKyaF690oXllek5LRUmmTB",
      "include_colab_link": true
    },
    "kernelspec": {
      "name": "python3",
      "display_name": "Python 3"
    },
    "language_info": {
      "name": "python"
    }
  },
  "cells": [
    {
      "cell_type": "markdown",
      "metadata": {
        "id": "view-in-github",
        "colab_type": "text"
      },
      "source": [
        "<a href=\"https://colab.research.google.com/github/archangel2006/AgroNomics/blob/main/Model2.ipynb\" target=\"_parent\"><img src=\"https://colab.research.google.com/assets/colab-badge.svg\" alt=\"Open In Colab\"/></a>"
      ]
    },
    {
      "cell_type": "code",
      "execution_count": null,
      "metadata": {
        "id": "uyuFnRDuPhGO"
      },
      "outputs": [],
      "source": [
        "import numpy as np\n",
        "import pandas as pd\n",
        "import matplotlib.pyplot as plt\n",
        "import seaborn as sns"
      ]
    },
    {
      "cell_type": "code",
      "source": [
        "import csv\n",
        "\n",
        "with open(\"agridata.csv\", \"r\", encoding=\"utf-8\", errors=\"ignore\") as infile, open(\"cleaned_agridata.csv\", \"w\", newline=\"\", encoding=\"utf-8\") as outfile:\n",
        "    reader = csv.reader(infile)\n",
        "    writer = csv.writer(outfile)\n",
        "\n",
        "    for row in reader:\n",
        "        try:\n",
        "            writer.writerow(row)\n",
        "        except:\n",
        "            continue  # skip any row that causes a write error\n"
      ],
      "metadata": {
        "id": "IlKo8RKPRN7G"
      },
      "execution_count": null,
      "outputs": []
    },
    {
      "cell_type": "code",
      "source": [
        "df = pd.read_csv('/content/cleaned_agridata.csv')\n",
        "df.shape"
      ],
      "metadata": {
        "colab": {
          "base_uri": "https://localhost:8080/"
        },
        "id": "S86ji99GRWRu",
        "outputId": "f05dae09-49bf-4a30-ac22-00a0d1abd9e5"
      },
      "execution_count": null,
      "outputs": [
        {
          "output_type": "execute_result",
          "data": {
            "text/plain": [
              "(836977, 8)"
            ]
          },
          "metadata": {},
          "execution_count": 85
        }
      ]
    },
    {
      "cell_type": "code",
      "source": [
        "df.columns"
      ],
      "metadata": {
        "colab": {
          "base_uri": "https://localhost:8080/"
        },
        "id": "ZVV6-Ls1RX7f",
        "outputId": "1e059aea-b742-4a47-b2a4-92cc4cdae556"
      },
      "execution_count": null,
      "outputs": [
        {
          "output_type": "execute_result",
          "data": {
            "text/plain": [
              "Index(['commodity_name', 'state', 'district', 'market', 'min_price',\n",
              "       'max_price', 'modal_price', 'date'],\n",
              "      dtype='object')"
            ]
          },
          "metadata": {},
          "execution_count": 86
        }
      ]
    },
    {
      "cell_type": "code",
      "source": [
        "df['commodity_name'].unique()"
      ],
      "metadata": {
        "colab": {
          "base_uri": "https://localhost:8080/"
        },
        "id": "aMntv1LQRZkK",
        "outputId": "dc0e6acb-e435-4d41-a0e3-540357f86112"
      },
      "execution_count": null,
      "outputs": [
        {
          "output_type": "execute_result",
          "data": {
            "text/plain": [
              "array(['Ajwan', 'Alasande+Gram', 'Amaranthus', 'Amla(Nelli+Kai)',\n",
              "       'Amphophalus', 'Antawala', 'Apple', 'Arhar+Dal(Tur+Dal)',\n",
              "       'Ashgourd', 'Avare+Dal', 'Banana', 'Banana+-+Green',\n",
              "       'Barley+(Jau)', 'Beans', 'Beaten+Rice', 'Beetroot', 'Betal+Leaves',\n",
              "       'Bitter+gourd', 'Black+pepper', 'Bottle+gourd', 'Brinjal',\n",
              "       'Broken+Rice', 'Cabbage', 'Capsicum', 'Cardamoms', 'Carrot',\n",
              "       'Cashewnuts', 'Castor+Seed', 'Cauliflower', 'Coconut',\n",
              "       'Chapparad+Avare', 'Chennangi+Dal', 'Chikoos(Sapota)', 'Chili+Red',\n",
              "       'Chilly+Capsicum', 'Cloves', 'Cluster+beans', 'Cocoa',\n",
              "       'Coconut+Oil', 'Coconut+Seed', 'Coffee', 'Colacasia', 'Copra',\n",
              "       'Coriander(Leaves)', 'Corriander+seed', 'Cowpea(Veg)', 'Cotton',\n",
              "       'Cucumbar(Kheera)', 'Cummin+Seed(Jeera)', 'Drumstick',\n",
              "       'Dry+Chillies', 'Dry+Fodder', 'Dry+Grapes', 'Duster+Beans', 'Egg',\n",
              "       'Elephant+Yam+(Suran)', 'Field+Pea', 'Firewood', 'Fish', 'Garlic',\n",
              "       'Ghee', 'Gingelly+Oil', 'Ginger(Dry)', 'Ginger(Green)', 'Grapes',\n",
              "       'Green+Avare+(W)', 'Green+Chilli', 'Green+Fodder', 'Green+Peas',\n",
              "       'Ground+Nut+Seed', 'Groundnut', 'Groundnut+(Split)',\n",
              "       'Groundnut+pods+(raw)', 'Guar', 'Guava', 'Gur(Jaggery)', 'Hen',\n",
              "       'Hybrid+Cumbu', 'Indian+Beans+(Seam)', 'Isabgul+(Psyllium)',\n",
              "       'Jack+Fruit', 'Jamun(Narale+Hannu)', 'Jowar(Sorghum)', 'Jute',\n",
              "       'Karbuja(Musk+Melon)', 'Knool+Khol', 'Kulthi(Horse+Gram)',\n",
              "       'Lak(Teora)', 'Leafy+Vegetable', 'Lemon', 'Lime', 'Linseed',\n",
              "       'Litchi', 'Long+Melon(Kakri)', 'Mahua', 'Maida+Atta', 'Maize',\n",
              "       'Mango', 'Mango+(Raw-Ripe)', 'Mashrooms', 'Masur+Dal',\n",
              "       'Methi+Seeds', 'Methi(Leaves)', 'Millets', 'Mint(Pudina)',\n",
              "       'Moath+Dal', 'Mousambi(Sweet+Lime)', 'Mustard', 'Mustard+Oil',\n",
              "       'Myrobolan(Harad)', 'Nutmeg', 'Onion', 'Onion+Green', 'Orange',\n",
              "       'Paddy(Dhan)(Basmati)', 'Paddy(Dhan)(Common)', 'Papaya',\n",
              "       'Papaya+(Raw)', 'Peach', 'Peas+cod', 'Peas+Wet', 'Peas(Dry)',\n",
              "       'Pepper+garbled', 'Pepper+ungarbled', 'Pineapple', 'Plum',\n",
              "       'Pomegranate', 'Potato', 'Pumpkin', 'Raddish',\n",
              "       'Ragi+(Finger+Millet)', 'Rajgir', 'Rice', 'Ridgeguard(Tori)',\n",
              "       'Round+gourd', 'Rubber', 'Safflower', 'Snakeguard', 'Soanf',\n",
              "       'Soyabean', 'Spinach', 'Sponge+gourd', 'Sugar', 'Sunflower',\n",
              "       'Surat+Beans+(Papadi)', 'Suva+(Dill+Seed)', 'Suvarna+Gadde',\n",
              "       'Sweet+Potato', 'Sweet+Pumpkin', 'T.V.+Cumbu', 'Tamarind+Fruit',\n",
              "       'Tapioca', 'Taramira', 'Tender+Coconut', 'Tinda', 'Tobacco',\n",
              "       'Tomato', 'Toria', 'Turmeric', 'Turmeric+(raw)', 'Turnip',\n",
              "       'Water+Melon', 'Wheat', 'Wheat+Atta', 'White+Peas',\n",
              "       'White+Pumpkin', 'Wood', 'Yam+(Ratalu)', 'Bamboo', 'Yam',\n",
              "       'Kodo+Millet(Varagu)', 'Goat', 'Pear(Marasebu)', 'Balekai',\n",
              "       'Gram+Raw(Chholia)', 'Cow', 'Same/Savi', 'Sugarcane',\n",
              "       'She+Buffalo', 'Sheep', 'Soji', 'Chow+Chow', 'Pigs', 'Calf',\n",
              "       'Duck', 'Ox', 'Dhaincha', 'Season+Leaves', 'Cock', 'Hippe+Seed',\n",
              "       'Tamarind+Seed', 'Other+Pulses', 'Coca', 'Niger+Seed+(Ramtil)',\n",
              "       'Ram', 'Thondekai', 'Galgal(Lemon)', 'Honge+seed', 'Lotus+Sticks',\n",
              "       'Neem+Seed', 'Bran', 'Cherry', 'Mace', 'Kartali+(Kantola)',\n",
              "       'She+Goat', 'Alsandikai', 'Mahedi', 'Bull', 'Thogrikai', 'Khoya',\n",
              "       'Seetapal', 'Almond(Badam)', 'Butter', 'Rose(Loose)', 'Kinnow',\n",
              "       'He+Buffalo', 'Marigold(loose)', 'Mataki', 'Sajje',\n",
              "       'Marigold(Calcutta)', 'Ambada+Seed', 'Chrysanthemum(Loose)',\n",
              "       'Cotton+Seed', 'Seemebadnekai', 'Gramflour',\n",
              "       'Persimon(Japani+Fal)', 'Lint', 'Indian+Colza(Sarson)', 'Sabu+Dan',\n",
              "       'Jasmine', 'Gurellu', 'Walnut', 'Bunch+Beans', 'Snake+gourd',\n",
              "       'Ridge+gourd(Tori)', 'Dalda', 'Sabu+Dana', 'Tube+Rose(Loose)',\n",
              "       'Rose(Local)', 'Seetafal', 'Siddota', 'Lukad', 'Sunhemp',\n",
              "       'Alasande Gram', 'Amla(Nelli Kai)', 'Anthorium', 'its', nan,\n",
              "       'Arecanut(Betelnut/Supari)', 'Arhar (Tur/Red Gram)(Whole)'],\n",
              "      dtype=object)"
            ]
          },
          "metadata": {},
          "execution_count": 87
        }
      ]
    },
    {
      "cell_type": "code",
      "source": [
        "# Step 1: Clean commodity names by replacing \"+\" with spaces and fixing weird characters\n",
        "df['commodity'] = (\n",
        "    df['commodity_name']\n",
        "    .str.replace('+', ' ', regex=False)            # Replace all \"+\" with spaces\n",
        "    .str.replace(r'\\+\\-+\\+', ' ', regex=True)      # Fix patterns like \"+-+\" (escaped properly)\n",
        "    .str.strip()                                   # Remove extra spaces\n",
        ")\n",
        "\n",
        "# Step 2: Fix known typos to standardize commodity names\n",
        "typo_fixes = {\n",
        "    'Soji': 'Sooji',\n",
        "    'Cucumbar(Kheera)': 'Cucumber',\n",
        "    'Chilly Capsicum': 'Chilli Capsicum',\n",
        "    'Corriander seed': 'Coriander seed',\n",
        "    'Onion Green': 'Green Onion'\n",
        "}\n",
        "df['commodity'] = df['commodity'].replace(typo_fixes)\n"
      ],
      "metadata": {
        "id": "0RMkCJRwRbXp"
      },
      "execution_count": null,
      "outputs": []
    },
    {
      "cell_type": "code",
      "source": [
        "df['commodity'].unique()"
      ],
      "metadata": {
        "colab": {
          "base_uri": "https://localhost:8080/"
        },
        "id": "3_sfO86eRc_J",
        "outputId": "ade09146-4961-4d8d-b3dd-f77a62fd9187"
      },
      "execution_count": null,
      "outputs": [
        {
          "output_type": "execute_result",
          "data": {
            "text/plain": [
              "array(['Ajwan', 'Alasande Gram', 'Amaranthus', 'Amla(Nelli Kai)',\n",
              "       'Amphophalus', 'Antawala', 'Apple', 'Arhar Dal(Tur Dal)',\n",
              "       'Ashgourd', 'Avare Dal', 'Banana', 'Banana - Green',\n",
              "       'Barley (Jau)', 'Beans', 'Beaten Rice', 'Beetroot', 'Betal Leaves',\n",
              "       'Bitter gourd', 'Black pepper', 'Bottle gourd', 'Brinjal',\n",
              "       'Broken Rice', 'Cabbage', 'Capsicum', 'Cardamoms', 'Carrot',\n",
              "       'Cashewnuts', 'Castor Seed', 'Cauliflower', 'Coconut',\n",
              "       'Chapparad Avare', 'Chennangi Dal', 'Chikoos(Sapota)', 'Chili Red',\n",
              "       'Chilli Capsicum', 'Cloves', 'Cluster beans', 'Cocoa',\n",
              "       'Coconut Oil', 'Coconut Seed', 'Coffee', 'Colacasia', 'Copra',\n",
              "       'Coriander(Leaves)', 'Coriander seed', 'Cowpea(Veg)', 'Cotton',\n",
              "       'Cucumber', 'Cummin Seed(Jeera)', 'Drumstick', 'Dry Chillies',\n",
              "       'Dry Fodder', 'Dry Grapes', 'Duster Beans', 'Egg',\n",
              "       'Elephant Yam (Suran)', 'Field Pea', 'Firewood', 'Fish', 'Garlic',\n",
              "       'Ghee', 'Gingelly Oil', 'Ginger(Dry)', 'Ginger(Green)', 'Grapes',\n",
              "       'Green Avare (W)', 'Green Chilli', 'Green Fodder', 'Green Peas',\n",
              "       'Ground Nut Seed', 'Groundnut', 'Groundnut (Split)',\n",
              "       'Groundnut pods (raw)', 'Guar', 'Guava', 'Gur(Jaggery)', 'Hen',\n",
              "       'Hybrid Cumbu', 'Indian Beans (Seam)', 'Isabgul (Psyllium)',\n",
              "       'Jack Fruit', 'Jamun(Narale Hannu)', 'Jowar(Sorghum)', 'Jute',\n",
              "       'Karbuja(Musk Melon)', 'Knool Khol', 'Kulthi(Horse Gram)',\n",
              "       'Lak(Teora)', 'Leafy Vegetable', 'Lemon', 'Lime', 'Linseed',\n",
              "       'Litchi', 'Long Melon(Kakri)', 'Mahua', 'Maida Atta', 'Maize',\n",
              "       'Mango', 'Mango (Raw-Ripe)', 'Mashrooms', 'Masur Dal',\n",
              "       'Methi Seeds', 'Methi(Leaves)', 'Millets', 'Mint(Pudina)',\n",
              "       'Moath Dal', 'Mousambi(Sweet Lime)', 'Mustard', 'Mustard Oil',\n",
              "       'Myrobolan(Harad)', 'Nutmeg', 'Onion', 'Green Onion', 'Orange',\n",
              "       'Paddy(Dhan)(Basmati)', 'Paddy(Dhan)(Common)', 'Papaya',\n",
              "       'Papaya (Raw)', 'Peach', 'Peas cod', 'Peas Wet', 'Peas(Dry)',\n",
              "       'Pepper garbled', 'Pepper ungarbled', 'Pineapple', 'Plum',\n",
              "       'Pomegranate', 'Potato', 'Pumpkin', 'Raddish',\n",
              "       'Ragi (Finger Millet)', 'Rajgir', 'Rice', 'Ridgeguard(Tori)',\n",
              "       'Round gourd', 'Rubber', 'Safflower', 'Snakeguard', 'Soanf',\n",
              "       'Soyabean', 'Spinach', 'Sponge gourd', 'Sugar', 'Sunflower',\n",
              "       'Surat Beans (Papadi)', 'Suva (Dill Seed)', 'Suvarna Gadde',\n",
              "       'Sweet Potato', 'Sweet Pumpkin', 'T.V. Cumbu', 'Tamarind Fruit',\n",
              "       'Tapioca', 'Taramira', 'Tender Coconut', 'Tinda', 'Tobacco',\n",
              "       'Tomato', 'Toria', 'Turmeric', 'Turmeric (raw)', 'Turnip',\n",
              "       'Water Melon', 'Wheat', 'Wheat Atta', 'White Peas',\n",
              "       'White Pumpkin', 'Wood', 'Yam (Ratalu)', 'Bamboo', 'Yam',\n",
              "       'Kodo Millet(Varagu)', 'Goat', 'Pear(Marasebu)', 'Balekai',\n",
              "       'Gram Raw(Chholia)', 'Cow', 'Same/Savi', 'Sugarcane',\n",
              "       'She Buffalo', 'Sheep', 'Sooji', 'Chow Chow', 'Pigs', 'Calf',\n",
              "       'Duck', 'Ox', 'Dhaincha', 'Season Leaves', 'Cock', 'Hippe Seed',\n",
              "       'Tamarind Seed', 'Other Pulses', 'Coca', 'Niger Seed (Ramtil)',\n",
              "       'Ram', 'Thondekai', 'Galgal(Lemon)', 'Honge seed', 'Lotus Sticks',\n",
              "       'Neem Seed', 'Bran', 'Cherry', 'Mace', 'Kartali (Kantola)',\n",
              "       'She Goat', 'Alsandikai', 'Mahedi', 'Bull', 'Thogrikai', 'Khoya',\n",
              "       'Seetapal', 'Almond(Badam)', 'Butter', 'Rose(Loose)', 'Kinnow',\n",
              "       'He Buffalo', 'Marigold(loose)', 'Mataki', 'Sajje',\n",
              "       'Marigold(Calcutta)', 'Ambada Seed', 'Chrysanthemum(Loose)',\n",
              "       'Cotton Seed', 'Seemebadnekai', 'Gramflour',\n",
              "       'Persimon(Japani Fal)', 'Lint', 'Indian Colza(Sarson)', 'Sabu Dan',\n",
              "       'Jasmine', 'Gurellu', 'Walnut', 'Bunch Beans', 'Snake gourd',\n",
              "       'Ridge gourd(Tori)', 'Dalda', 'Sabu Dana', 'Tube Rose(Loose)',\n",
              "       'Rose(Local)', 'Seetafal', 'Siddota', 'Lukad', 'Sunhemp',\n",
              "       'Anthorium', 'its', nan, 'Arecanut(Betelnut/Supari)',\n",
              "       'Arhar (Tur/Red Gram)(Whole)'], dtype=object)"
            ]
          },
          "metadata": {},
          "execution_count": 89
        }
      ]
    },
    {
      "cell_type": "code",
      "source": [
        "commodity_to_category = {}\n",
        "\n",
        "# Grains\n",
        "for item in ['Wheat', 'Rice', 'Maize', 'Jowar(Sorghum)', 'Millets', 'Ragi (Finger Millet)', 'Rajgir',\n",
        "             'Barley (Jau)', 'Broken Rice', 'Maida Atta', 'Wheat Atta', 'Kodo Millet(Varagu)', 'Beaten Rice',\n",
        "             'Sooji', 'Sajje','Hybrid Cumbu', 'T.V. Cumbu', 'Lak(Teora)']:\n",
        "    commodity_to_category[item] = 'Grains'\n",
        "\n",
        "# Pulses\n",
        "for item in ['Arhar Dal(Tur Dal)', 'Masur Dal', 'Moath Dal', 'Chennangi Dal', 'Green Avare (W)', 'Avare Dal',\n",
        "             'Peas(Dry)', 'Peas cod', 'Peas Wet', 'Alasande Gram', 'Field Pea', 'Indian Beans (Seam)',\n",
        "             'Kulthi(Horse Gram)', 'Same/Savi', 'Gram Raw(Chholia)', 'White Peas', 'Arhar (Tur/Red Gram)(Whole)',\n",
        "             'Mataki','Duster Beans', 'Guar']:\n",
        "    commodity_to_category[item] = 'Pulses'\n",
        "\n",
        "# Oilseeds\n",
        "for item in ['Soyabean', 'Castor Seed', 'Sunflower', 'Groundnut', 'Ground Nut Seed', 'Linseed',\n",
        "             'Groundnut (Split)', 'Groundnut pods (raw)', 'Safflower', 'Taramira', 'Niger Seed (Ramtil)',\n",
        "             'Gurellu']:\n",
        "    commodity_to_category[item] = 'Oilseeds'\n",
        "\n",
        "# Vegetables\n",
        "for item in ['Onion', 'Potato', 'Tomato', 'Cabbage', 'Brinjal', 'Beans', 'Beetroot', 'Bitter gourd',\n",
        "             'Bottle gourd', 'Capsicum', 'Cauliflower', 'Cluster beans', 'Colacasia', 'Cucumber',\n",
        "             'Drumstick', 'Green Peas', 'Pumpkin', 'Raddish', 'Ridgeguard(Tori)', 'Ridge gourd(Tori)',\n",
        "             'Round gourd', 'Snakeguard', 'Snake gourd', 'Sponge gourd', 'Spinach', 'Knool Khol',\n",
        "             'Leafy Vegetable', 'Turnip', 'Ashgourd', 'Carrot', 'Cowpea(Veg)', 'Green Chilli',\n",
        "             'Elephant Yam (Suran)', 'Suvarna Gadde', 'Tinda', 'Chow Chow', 'Season Leaves', 'Amaranthus',\n",
        "             'Mashrooms', 'Mint(Pudina)', 'Methi(Leaves)', 'Thondekai', 'Seemebadnekai', 'Bunch Beans','Sweet Potato',\n",
        "             'Sweet Pumpkin', 'Yam', 'Yam (Ratalu)', 'Tapioca','Green Onion', 'Surat Beans (Papadi)', 'White Pumpkin', 'Kartali (Kantola)']:\n",
        "    commodity_to_category[item] = 'Vegetables'\n",
        "\n",
        "# Fruits\n",
        "for item in ['Banana', 'Mango', 'Papaya', 'Guava', 'Pomegranate', 'Apple', 'Chikoos(Sapota)', 'Grapes',\n",
        "             'Litchi', 'Plum', 'Peach', 'Jamun(Narale Hannu)', 'Water Melon', 'Mousambi(Sweet Lime)',\n",
        "             'Karbuja(Musk Melon)', 'Pear(Marasebu)', 'Banana - Green', 'Papaya (Raw)', 'Mango (Raw-Ripe)',\n",
        "             'Pineapple', 'Orange', 'Lemon', 'Lime', 'Long Melon(Kakri)', 'Jack Fruit', 'Seetapal',\n",
        "             'Persimon(Japani Fal)', 'Seetafal', 'Amla(Nelli Kai)', 'Balekai', 'Galgal(Lemon)',\n",
        "             'Almond(Badam)', 'Walnut', 'Cherry', 'Kinnow']:\n",
        "    commodity_to_category[item] = 'Fruits'\n",
        "\n",
        "# Spices & Oils\n",
        "for item in ['Turmeric', 'Turmeric (raw)', 'Ginger(Dry)', 'Ginger(Green)', 'Cummin Seed(Jeera)', 'Garlic',\n",
        "             'Mustard', 'Mustard Oil', 'Coconut Oil', 'Gingelly Oil', 'Black pepper', 'Cardamoms', 'Cloves',\n",
        "             'Nutmeg', 'Pepper garbled', 'Pepper ungarbled', 'Tamarind Seed', 'Tamarind Fruit',\n",
        "             'Dry Chillies', 'Soanf', 'Suva (Dill Seed)', 'Coriander(Leaves)', 'Coriander seed',\n",
        "             'Ajwan', 'Chili Red', 'Chilli Capsicum', 'Mint(Pudina)', 'Methi Seeds', 'Isabgul (Psyllium)',\n",
        "             'Betal Leaves','Mace','Toria']:\n",
        "    commodity_to_category[item] = 'Spices/Oils'\n",
        "\n",
        "# Flowers (Horticulture)\n",
        "for item in ['Marigold(loose)', 'Marigold(Calcutta)', 'Chrysanthemum(Loose)', 'Jasmine', 'Tube Rose(Loose)',\n",
        "             'Rose(Local)','Anthorium']:\n",
        "    commodity_to_category[item] = 'Flowers'\n",
        "\n",
        "# Cash Crops\n",
        "for item in ['Coffee', 'Cotton', 'Cotton Seed', 'Rubber', 'Cashewnuts', 'Copra', 'Jute', 'Tobacco',\n",
        "             'Sugarcane', 'Lint', 'Paddy(Dhan)(Basmati)', 'Paddy(Dhan)(Common)','Tender Coconut',\n",
        "             'Arecanut(Betelnut/Supari)', 'Honge seed', 'Bamboo']:\n",
        "    commodity_to_category[item] = 'Cash Crop'\n",
        "\n",
        "\n",
        "\n",
        "# Processed / Value-Added Products\n",
        "for item in ['Gur(Jaggery)', 'Sugar', 'Dry Grapes', 'Bran', 'Gramflour']:\n",
        "    commodity_to_category[item] = 'Processed'\n",
        "\n",
        "# Fodder / Fiber / Utility Crops\n",
        "for item in ['Dry Fodder', 'Green Fodder', 'Dhaincha', 'Sunhemp', 'Lukad', 'Siddota']:\n",
        "    commodity_to_category[item] = 'Fodder/Fiber'\n",
        "\n",
        "# Non-Crop (Livestock or Derived)\n",
        "for item in ['Egg', 'Fish', 'Hen', 'Cow', 'Goat', 'Sheep', 'Pigs', 'Calf', 'Ox', 'Duck', 'Cock',\n",
        "             'She Buffalo', 'He Buffalo', 'Bull', 'Ram', 'She Goat', 'Khoya', 'Butter', 'Ghee', 'Firewood',\n",
        "             'Wood', 'Dalda']:\n",
        "    commodity_to_category[item] = 'Non-Crop'\n",
        "\n",
        "# Other\n",
        "for item in ['Amphophalus', 'Antawala', 'Chapparad Avare', 'Cocoa', 'Coconut', 'Coconut Seed', 'Mahua',\n",
        "             'Myrobolan(Harad)', 'Neem Seed', 'Lotus Sticks', 'Alsandikai', 'Mahedi', 'Thogrikai', 'Ambada Seed',\n",
        "             'Indian Colza(Sarson)', 'Sabu Dan', 'Sabu Dana', 'Coca', 'Hippe Seed', 'Rose(Loose)']:\n",
        "    commodity_to_category[item] = 'Other'\n"
      ],
      "metadata": {
        "id": "zUK6SIHWRe76"
      },
      "execution_count": null,
      "outputs": []
    },
    {
      "cell_type": "code",
      "source": [
        "df.drop(columns=['commodity_name'], inplace=True)"
      ],
      "metadata": {
        "id": "f4iAdeIeRgUm"
      },
      "execution_count": null,
      "outputs": []
    },
    {
      "cell_type": "code",
      "source": [
        "df['category'] = df['commodity'].map(commodity_to_category)"
      ],
      "metadata": {
        "id": "6wU2XiDsRhP1"
      },
      "execution_count": null,
      "outputs": []
    },
    {
      "cell_type": "code",
      "source": [
        "df.head()"
      ],
      "metadata": {
        "colab": {
          "base_uri": "https://localhost:8080/",
          "height": 206
        },
        "id": "35h4R_HERitd",
        "outputId": "d34cc093-802d-456d-e368-9c7476bc27b8"
      },
      "execution_count": null,
      "outputs": [
        {
          "output_type": "execute_result",
          "data": {
            "text/plain": [
              "     state    district    market  min_price  max_price  modal_price  \\\n",
              "0  Gujarat      Amreli    Amreli      63.25      79.55        79.55   \n",
              "1  Gujarat  Banaskanth   Dhanera      80.05      80.05        80.05   \n",
              "2  Gujarat    Jamnagar  Jamnagar      90.00     155.00       122.50   \n",
              "3  Gujarat     Mehsana      Kadi      94.50     112.50       107.00   \n",
              "4  Gujarat     Mehsana     Unjha      21.25     148.50        99.75   \n",
              "\n",
              "         date commodity     category  \n",
              "0  2019-05-22     Ajwan  Spices/Oils  \n",
              "1  2019-05-22     Ajwan  Spices/Oils  \n",
              "2  2019-05-22     Ajwan  Spices/Oils  \n",
              "3  2019-05-22     Ajwan  Spices/Oils  \n",
              "4  2019-05-22     Ajwan  Spices/Oils  "
            ],
            "text/html": [
              "\n",
              "  <div id=\"df-f9d91a98-debe-4193-b3da-e883384a1656\" class=\"colab-df-container\">\n",
              "    <div>\n",
              "<style scoped>\n",
              "    .dataframe tbody tr th:only-of-type {\n",
              "        vertical-align: middle;\n",
              "    }\n",
              "\n",
              "    .dataframe tbody tr th {\n",
              "        vertical-align: top;\n",
              "    }\n",
              "\n",
              "    .dataframe thead th {\n",
              "        text-align: right;\n",
              "    }\n",
              "</style>\n",
              "<table border=\"1\" class=\"dataframe\">\n",
              "  <thead>\n",
              "    <tr style=\"text-align: right;\">\n",
              "      <th></th>\n",
              "      <th>state</th>\n",
              "      <th>district</th>\n",
              "      <th>market</th>\n",
              "      <th>min_price</th>\n",
              "      <th>max_price</th>\n",
              "      <th>modal_price</th>\n",
              "      <th>date</th>\n",
              "      <th>commodity</th>\n",
              "      <th>category</th>\n",
              "    </tr>\n",
              "  </thead>\n",
              "  <tbody>\n",
              "    <tr>\n",
              "      <th>0</th>\n",
              "      <td>Gujarat</td>\n",
              "      <td>Amreli</td>\n",
              "      <td>Amreli</td>\n",
              "      <td>63.25</td>\n",
              "      <td>79.55</td>\n",
              "      <td>79.55</td>\n",
              "      <td>2019-05-22</td>\n",
              "      <td>Ajwan</td>\n",
              "      <td>Spices/Oils</td>\n",
              "    </tr>\n",
              "    <tr>\n",
              "      <th>1</th>\n",
              "      <td>Gujarat</td>\n",
              "      <td>Banaskanth</td>\n",
              "      <td>Dhanera</td>\n",
              "      <td>80.05</td>\n",
              "      <td>80.05</td>\n",
              "      <td>80.05</td>\n",
              "      <td>2019-05-22</td>\n",
              "      <td>Ajwan</td>\n",
              "      <td>Spices/Oils</td>\n",
              "    </tr>\n",
              "    <tr>\n",
              "      <th>2</th>\n",
              "      <td>Gujarat</td>\n",
              "      <td>Jamnagar</td>\n",
              "      <td>Jamnagar</td>\n",
              "      <td>90.00</td>\n",
              "      <td>155.00</td>\n",
              "      <td>122.50</td>\n",
              "      <td>2019-05-22</td>\n",
              "      <td>Ajwan</td>\n",
              "      <td>Spices/Oils</td>\n",
              "    </tr>\n",
              "    <tr>\n",
              "      <th>3</th>\n",
              "      <td>Gujarat</td>\n",
              "      <td>Mehsana</td>\n",
              "      <td>Kadi</td>\n",
              "      <td>94.50</td>\n",
              "      <td>112.50</td>\n",
              "      <td>107.00</td>\n",
              "      <td>2019-05-22</td>\n",
              "      <td>Ajwan</td>\n",
              "      <td>Spices/Oils</td>\n",
              "    </tr>\n",
              "    <tr>\n",
              "      <th>4</th>\n",
              "      <td>Gujarat</td>\n",
              "      <td>Mehsana</td>\n",
              "      <td>Unjha</td>\n",
              "      <td>21.25</td>\n",
              "      <td>148.50</td>\n",
              "      <td>99.75</td>\n",
              "      <td>2019-05-22</td>\n",
              "      <td>Ajwan</td>\n",
              "      <td>Spices/Oils</td>\n",
              "    </tr>\n",
              "  </tbody>\n",
              "</table>\n",
              "</div>\n",
              "    <div class=\"colab-df-buttons\">\n",
              "\n",
              "  <div class=\"colab-df-container\">\n",
              "    <button class=\"colab-df-convert\" onclick=\"convertToInteractive('df-f9d91a98-debe-4193-b3da-e883384a1656')\"\n",
              "            title=\"Convert this dataframe to an interactive table.\"\n",
              "            style=\"display:none;\">\n",
              "\n",
              "  <svg xmlns=\"http://www.w3.org/2000/svg\" height=\"24px\" viewBox=\"0 -960 960 960\">\n",
              "    <path d=\"M120-120v-720h720v720H120Zm60-500h600v-160H180v160Zm220 220h160v-160H400v160Zm0 220h160v-160H400v160ZM180-400h160v-160H180v160Zm440 0h160v-160H620v160ZM180-180h160v-160H180v160Zm440 0h160v-160H620v160Z\"/>\n",
              "  </svg>\n",
              "    </button>\n",
              "\n",
              "  <style>\n",
              "    .colab-df-container {\n",
              "      display:flex;\n",
              "      gap: 12px;\n",
              "    }\n",
              "\n",
              "    .colab-df-convert {\n",
              "      background-color: #E8F0FE;\n",
              "      border: none;\n",
              "      border-radius: 50%;\n",
              "      cursor: pointer;\n",
              "      display: none;\n",
              "      fill: #1967D2;\n",
              "      height: 32px;\n",
              "      padding: 0 0 0 0;\n",
              "      width: 32px;\n",
              "    }\n",
              "\n",
              "    .colab-df-convert:hover {\n",
              "      background-color: #E2EBFA;\n",
              "      box-shadow: 0px 1px 2px rgba(60, 64, 67, 0.3), 0px 1px 3px 1px rgba(60, 64, 67, 0.15);\n",
              "      fill: #174EA6;\n",
              "    }\n",
              "\n",
              "    .colab-df-buttons div {\n",
              "      margin-bottom: 4px;\n",
              "    }\n",
              "\n",
              "    [theme=dark] .colab-df-convert {\n",
              "      background-color: #3B4455;\n",
              "      fill: #D2E3FC;\n",
              "    }\n",
              "\n",
              "    [theme=dark] .colab-df-convert:hover {\n",
              "      background-color: #434B5C;\n",
              "      box-shadow: 0px 1px 3px 1px rgba(0, 0, 0, 0.15);\n",
              "      filter: drop-shadow(0px 1px 2px rgba(0, 0, 0, 0.3));\n",
              "      fill: #FFFFFF;\n",
              "    }\n",
              "  </style>\n",
              "\n",
              "    <script>\n",
              "      const buttonEl =\n",
              "        document.querySelector('#df-f9d91a98-debe-4193-b3da-e883384a1656 button.colab-df-convert');\n",
              "      buttonEl.style.display =\n",
              "        google.colab.kernel.accessAllowed ? 'block' : 'none';\n",
              "\n",
              "      async function convertToInteractive(key) {\n",
              "        const element = document.querySelector('#df-f9d91a98-debe-4193-b3da-e883384a1656');\n",
              "        const dataTable =\n",
              "          await google.colab.kernel.invokeFunction('convertToInteractive',\n",
              "                                                    [key], {});\n",
              "        if (!dataTable) return;\n",
              "\n",
              "        const docLinkHtml = 'Like what you see? Visit the ' +\n",
              "          '<a target=\"_blank\" href=https://colab.research.google.com/notebooks/data_table.ipynb>data table notebook</a>'\n",
              "          + ' to learn more about interactive tables.';\n",
              "        element.innerHTML = '';\n",
              "        dataTable['output_type'] = 'display_data';\n",
              "        await google.colab.output.renderOutput(dataTable, element);\n",
              "        const docLink = document.createElement('div');\n",
              "        docLink.innerHTML = docLinkHtml;\n",
              "        element.appendChild(docLink);\n",
              "      }\n",
              "    </script>\n",
              "  </div>\n",
              "\n",
              "\n",
              "    <div id=\"df-b1c2c157-2116-4f85-9c08-ef597ce5ab77\">\n",
              "      <button class=\"colab-df-quickchart\" onclick=\"quickchart('df-b1c2c157-2116-4f85-9c08-ef597ce5ab77')\"\n",
              "                title=\"Suggest charts\"\n",
              "                style=\"display:none;\">\n",
              "\n",
              "<svg xmlns=\"http://www.w3.org/2000/svg\" height=\"24px\"viewBox=\"0 0 24 24\"\n",
              "     width=\"24px\">\n",
              "    <g>\n",
              "        <path d=\"M19 3H5c-1.1 0-2 .9-2 2v14c0 1.1.9 2 2 2h14c1.1 0 2-.9 2-2V5c0-1.1-.9-2-2-2zM9 17H7v-7h2v7zm4 0h-2V7h2v10zm4 0h-2v-4h2v4z\"/>\n",
              "    </g>\n",
              "</svg>\n",
              "      </button>\n",
              "\n",
              "<style>\n",
              "  .colab-df-quickchart {\n",
              "      --bg-color: #E8F0FE;\n",
              "      --fill-color: #1967D2;\n",
              "      --hover-bg-color: #E2EBFA;\n",
              "      --hover-fill-color: #174EA6;\n",
              "      --disabled-fill-color: #AAA;\n",
              "      --disabled-bg-color: #DDD;\n",
              "  }\n",
              "\n",
              "  [theme=dark] .colab-df-quickchart {\n",
              "      --bg-color: #3B4455;\n",
              "      --fill-color: #D2E3FC;\n",
              "      --hover-bg-color: #434B5C;\n",
              "      --hover-fill-color: #FFFFFF;\n",
              "      --disabled-bg-color: #3B4455;\n",
              "      --disabled-fill-color: #666;\n",
              "  }\n",
              "\n",
              "  .colab-df-quickchart {\n",
              "    background-color: var(--bg-color);\n",
              "    border: none;\n",
              "    border-radius: 50%;\n",
              "    cursor: pointer;\n",
              "    display: none;\n",
              "    fill: var(--fill-color);\n",
              "    height: 32px;\n",
              "    padding: 0;\n",
              "    width: 32px;\n",
              "  }\n",
              "\n",
              "  .colab-df-quickchart:hover {\n",
              "    background-color: var(--hover-bg-color);\n",
              "    box-shadow: 0 1px 2px rgba(60, 64, 67, 0.3), 0 1px 3px 1px rgba(60, 64, 67, 0.15);\n",
              "    fill: var(--button-hover-fill-color);\n",
              "  }\n",
              "\n",
              "  .colab-df-quickchart-complete:disabled,\n",
              "  .colab-df-quickchart-complete:disabled:hover {\n",
              "    background-color: var(--disabled-bg-color);\n",
              "    fill: var(--disabled-fill-color);\n",
              "    box-shadow: none;\n",
              "  }\n",
              "\n",
              "  .colab-df-spinner {\n",
              "    border: 2px solid var(--fill-color);\n",
              "    border-color: transparent;\n",
              "    border-bottom-color: var(--fill-color);\n",
              "    animation:\n",
              "      spin 1s steps(1) infinite;\n",
              "  }\n",
              "\n",
              "  @keyframes spin {\n",
              "    0% {\n",
              "      border-color: transparent;\n",
              "      border-bottom-color: var(--fill-color);\n",
              "      border-left-color: var(--fill-color);\n",
              "    }\n",
              "    20% {\n",
              "      border-color: transparent;\n",
              "      border-left-color: var(--fill-color);\n",
              "      border-top-color: var(--fill-color);\n",
              "    }\n",
              "    30% {\n",
              "      border-color: transparent;\n",
              "      border-left-color: var(--fill-color);\n",
              "      border-top-color: var(--fill-color);\n",
              "      border-right-color: var(--fill-color);\n",
              "    }\n",
              "    40% {\n",
              "      border-color: transparent;\n",
              "      border-right-color: var(--fill-color);\n",
              "      border-top-color: var(--fill-color);\n",
              "    }\n",
              "    60% {\n",
              "      border-color: transparent;\n",
              "      border-right-color: var(--fill-color);\n",
              "    }\n",
              "    80% {\n",
              "      border-color: transparent;\n",
              "      border-right-color: var(--fill-color);\n",
              "      border-bottom-color: var(--fill-color);\n",
              "    }\n",
              "    90% {\n",
              "      border-color: transparent;\n",
              "      border-bottom-color: var(--fill-color);\n",
              "    }\n",
              "  }\n",
              "</style>\n",
              "\n",
              "      <script>\n",
              "        async function quickchart(key) {\n",
              "          const quickchartButtonEl =\n",
              "            document.querySelector('#' + key + ' button');\n",
              "          quickchartButtonEl.disabled = true;  // To prevent multiple clicks.\n",
              "          quickchartButtonEl.classList.add('colab-df-spinner');\n",
              "          try {\n",
              "            const charts = await google.colab.kernel.invokeFunction(\n",
              "                'suggestCharts', [key], {});\n",
              "          } catch (error) {\n",
              "            console.error('Error during call to suggestCharts:', error);\n",
              "          }\n",
              "          quickchartButtonEl.classList.remove('colab-df-spinner');\n",
              "          quickchartButtonEl.classList.add('colab-df-quickchart-complete');\n",
              "        }\n",
              "        (() => {\n",
              "          let quickchartButtonEl =\n",
              "            document.querySelector('#df-b1c2c157-2116-4f85-9c08-ef597ce5ab77 button');\n",
              "          quickchartButtonEl.style.display =\n",
              "            google.colab.kernel.accessAllowed ? 'block' : 'none';\n",
              "        })();\n",
              "      </script>\n",
              "    </div>\n",
              "\n",
              "    </div>\n",
              "  </div>\n"
            ],
            "application/vnd.google.colaboratory.intrinsic+json": {
              "type": "dataframe",
              "variable_name": "df"
            }
          },
          "metadata": {},
          "execution_count": 93
        }
      ]
    },
    {
      "cell_type": "code",
      "source": [
        "# Removing rows that aren't crops\n",
        "\n",
        "df = df[df['category']!='Non-Crop']"
      ],
      "metadata": {
        "id": "hzLfupBFRj9j"
      },
      "execution_count": null,
      "outputs": []
    },
    {
      "cell_type": "code",
      "source": [
        "df.category.unique()"
      ],
      "metadata": {
        "colab": {
          "base_uri": "https://localhost:8080/"
        },
        "id": "zjb97r22RlG-",
        "outputId": "be63c2e4-86fe-4f1f-de48-cb1197254078"
      },
      "execution_count": null,
      "outputs": [
        {
          "output_type": "execute_result",
          "data": {
            "text/plain": [
              "array(['Spices/Oils', 'Pulses', 'Vegetables', 'Fruits', 'Other', 'Grains',\n",
              "       'Cash Crop', 'Oilseeds', 'Fodder/Fiber', 'Processed', nan,\n",
              "       'Flowers'], dtype=object)"
            ]
          },
          "metadata": {},
          "execution_count": 95
        }
      ]
    },
    {
      "cell_type": "code",
      "source": [
        "# Filter and display unique commodities with missing categories\n",
        "missing_category_crops = df[df['category'].isna()]['commodity'].unique()\n",
        "print(\"Commodities with missing categories:\")\n",
        "print(missing_category_crops)\n"
      ],
      "metadata": {
        "colab": {
          "base_uri": "https://localhost:8080/"
        },
        "id": "_AX51rHuRlOv",
        "outputId": "6af91902-ea09-4a64-ec43-426a0cc8bb22"
      },
      "execution_count": null,
      "outputs": [
        {
          "output_type": "stream",
          "name": "stdout",
          "text": [
            "Commodities with missing categories:\n",
            "['Other Pulses' 'its' nan]\n"
          ]
        }
      ]
    },
    {
      "cell_type": "code",
      "source": [
        "df = df[~df['commodity'].isin(['Other Pulses', 'its'])]\n",
        "df = df[df['commodity'].notna()]\n"
      ],
      "metadata": {
        "id": "OH9U3xGIRoqW"
      },
      "execution_count": null,
      "outputs": []
    },
    {
      "cell_type": "code",
      "source": [
        "\n",
        "missing_category_crops = df[df['category'].isna()]['commodity'].unique()\n",
        "print(\"Commodities with missing categories:\")\n",
        "print(missing_category_crops)\n"
      ],
      "metadata": {
        "colab": {
          "base_uri": "https://localhost:8080/"
        },
        "id": "v72OfSHURqYM",
        "outputId": "be50b034-f1e9-4323-8211-40866d73dd53"
      },
      "execution_count": null,
      "outputs": [
        {
          "output_type": "stream",
          "name": "stdout",
          "text": [
            "Commodities with missing categories:\n",
            "[]\n"
          ]
        }
      ]
    },
    {
      "cell_type": "code",
      "source": [
        "df.category.unique()"
      ],
      "metadata": {
        "colab": {
          "base_uri": "https://localhost:8080/"
        },
        "id": "FBJgwjPERtB4",
        "outputId": "d11d052e-8412-49d9-a70f-d1ed4aad600e"
      },
      "execution_count": null,
      "outputs": [
        {
          "output_type": "execute_result",
          "data": {
            "text/plain": [
              "array(['Spices/Oils', 'Pulses', 'Vegetables', 'Fruits', 'Other', 'Grains',\n",
              "       'Cash Crop', 'Oilseeds', 'Fodder/Fiber', 'Processed', 'Flowers'],\n",
              "      dtype=object)"
            ]
          },
          "metadata": {},
          "execution_count": 99
        }
      ]
    },
    {
      "cell_type": "code",
      "source": [
        "df.sample(5)"
      ],
      "metadata": {
        "colab": {
          "base_uri": "https://localhost:8080/",
          "height": 312
        },
        "id": "_NTGAUGTRuxG",
        "outputId": "868dc79f-a09a-405d-8fe6-dc7b5a88bf38"
      },
      "execution_count": null,
      "outputs": [
        {
          "output_type": "execute_result",
          "data": {
            "text/plain": [
              "                state    district          market  min_price  max_price  \\\n",
              "453034    Maharashtra        Pune   Pune(Khadiki)       20.0      28.00   \n",
              "804670  Uttar Pradesh  Farukhabad     Mohamadabad       16.0      16.75   \n",
              "363982      Karnataka       Kolar           Malur        7.0      20.00   \n",
              "289579    Maharashtra    Sholapur    Mangal Wedha       26.0      36.01   \n",
              "645973         Punjab    Ferozpur  Guru Har Sahai       13.0      13.00   \n",
              "\n",
              "        modal_price        date       commodity    category  \n",
              "453034        24.00  2019-11-05          Tomato  Vegetables  \n",
              "804670        16.40  2021-09-30           Maize      Grains  \n",
              "363982        16.25  2019-09-09          Tomato  Vegetables  \n",
              "289579        30.00  2019-08-26  Jowar(Sorghum)      Grains  \n",
              "645973        13.00  2021-05-05     Cauliflower  Vegetables  "
            ],
            "text/html": [
              "\n",
              "  <div id=\"df-11a19d36-6583-4e99-b846-f2eb970f154b\" class=\"colab-df-container\">\n",
              "    <div>\n",
              "<style scoped>\n",
              "    .dataframe tbody tr th:only-of-type {\n",
              "        vertical-align: middle;\n",
              "    }\n",
              "\n",
              "    .dataframe tbody tr th {\n",
              "        vertical-align: top;\n",
              "    }\n",
              "\n",
              "    .dataframe thead th {\n",
              "        text-align: right;\n",
              "    }\n",
              "</style>\n",
              "<table border=\"1\" class=\"dataframe\">\n",
              "  <thead>\n",
              "    <tr style=\"text-align: right;\">\n",
              "      <th></th>\n",
              "      <th>state</th>\n",
              "      <th>district</th>\n",
              "      <th>market</th>\n",
              "      <th>min_price</th>\n",
              "      <th>max_price</th>\n",
              "      <th>modal_price</th>\n",
              "      <th>date</th>\n",
              "      <th>commodity</th>\n",
              "      <th>category</th>\n",
              "    </tr>\n",
              "  </thead>\n",
              "  <tbody>\n",
              "    <tr>\n",
              "      <th>453034</th>\n",
              "      <td>Maharashtra</td>\n",
              "      <td>Pune</td>\n",
              "      <td>Pune(Khadiki)</td>\n",
              "      <td>20.0</td>\n",
              "      <td>28.00</td>\n",
              "      <td>24.00</td>\n",
              "      <td>2019-11-05</td>\n",
              "      <td>Tomato</td>\n",
              "      <td>Vegetables</td>\n",
              "    </tr>\n",
              "    <tr>\n",
              "      <th>804670</th>\n",
              "      <td>Uttar Pradesh</td>\n",
              "      <td>Farukhabad</td>\n",
              "      <td>Mohamadabad</td>\n",
              "      <td>16.0</td>\n",
              "      <td>16.75</td>\n",
              "      <td>16.40</td>\n",
              "      <td>2021-09-30</td>\n",
              "      <td>Maize</td>\n",
              "      <td>Grains</td>\n",
              "    </tr>\n",
              "    <tr>\n",
              "      <th>363982</th>\n",
              "      <td>Karnataka</td>\n",
              "      <td>Kolar</td>\n",
              "      <td>Malur</td>\n",
              "      <td>7.0</td>\n",
              "      <td>20.00</td>\n",
              "      <td>16.25</td>\n",
              "      <td>2019-09-09</td>\n",
              "      <td>Tomato</td>\n",
              "      <td>Vegetables</td>\n",
              "    </tr>\n",
              "    <tr>\n",
              "      <th>289579</th>\n",
              "      <td>Maharashtra</td>\n",
              "      <td>Sholapur</td>\n",
              "      <td>Mangal Wedha</td>\n",
              "      <td>26.0</td>\n",
              "      <td>36.01</td>\n",
              "      <td>30.00</td>\n",
              "      <td>2019-08-26</td>\n",
              "      <td>Jowar(Sorghum)</td>\n",
              "      <td>Grains</td>\n",
              "    </tr>\n",
              "    <tr>\n",
              "      <th>645973</th>\n",
              "      <td>Punjab</td>\n",
              "      <td>Ferozpur</td>\n",
              "      <td>Guru Har Sahai</td>\n",
              "      <td>13.0</td>\n",
              "      <td>13.00</td>\n",
              "      <td>13.00</td>\n",
              "      <td>2021-05-05</td>\n",
              "      <td>Cauliflower</td>\n",
              "      <td>Vegetables</td>\n",
              "    </tr>\n",
              "  </tbody>\n",
              "</table>\n",
              "</div>\n",
              "    <div class=\"colab-df-buttons\">\n",
              "\n",
              "  <div class=\"colab-df-container\">\n",
              "    <button class=\"colab-df-convert\" onclick=\"convertToInteractive('df-11a19d36-6583-4e99-b846-f2eb970f154b')\"\n",
              "            title=\"Convert this dataframe to an interactive table.\"\n",
              "            style=\"display:none;\">\n",
              "\n",
              "  <svg xmlns=\"http://www.w3.org/2000/svg\" height=\"24px\" viewBox=\"0 -960 960 960\">\n",
              "    <path d=\"M120-120v-720h720v720H120Zm60-500h600v-160H180v160Zm220 220h160v-160H400v160Zm0 220h160v-160H400v160ZM180-400h160v-160H180v160Zm440 0h160v-160H620v160ZM180-180h160v-160H180v160Zm440 0h160v-160H620v160Z\"/>\n",
              "  </svg>\n",
              "    </button>\n",
              "\n",
              "  <style>\n",
              "    .colab-df-container {\n",
              "      display:flex;\n",
              "      gap: 12px;\n",
              "    }\n",
              "\n",
              "    .colab-df-convert {\n",
              "      background-color: #E8F0FE;\n",
              "      border: none;\n",
              "      border-radius: 50%;\n",
              "      cursor: pointer;\n",
              "      display: none;\n",
              "      fill: #1967D2;\n",
              "      height: 32px;\n",
              "      padding: 0 0 0 0;\n",
              "      width: 32px;\n",
              "    }\n",
              "\n",
              "    .colab-df-convert:hover {\n",
              "      background-color: #E2EBFA;\n",
              "      box-shadow: 0px 1px 2px rgba(60, 64, 67, 0.3), 0px 1px 3px 1px rgba(60, 64, 67, 0.15);\n",
              "      fill: #174EA6;\n",
              "    }\n",
              "\n",
              "    .colab-df-buttons div {\n",
              "      margin-bottom: 4px;\n",
              "    }\n",
              "\n",
              "    [theme=dark] .colab-df-convert {\n",
              "      background-color: #3B4455;\n",
              "      fill: #D2E3FC;\n",
              "    }\n",
              "\n",
              "    [theme=dark] .colab-df-convert:hover {\n",
              "      background-color: #434B5C;\n",
              "      box-shadow: 0px 1px 3px 1px rgba(0, 0, 0, 0.15);\n",
              "      filter: drop-shadow(0px 1px 2px rgba(0, 0, 0, 0.3));\n",
              "      fill: #FFFFFF;\n",
              "    }\n",
              "  </style>\n",
              "\n",
              "    <script>\n",
              "      const buttonEl =\n",
              "        document.querySelector('#df-11a19d36-6583-4e99-b846-f2eb970f154b button.colab-df-convert');\n",
              "      buttonEl.style.display =\n",
              "        google.colab.kernel.accessAllowed ? 'block' : 'none';\n",
              "\n",
              "      async function convertToInteractive(key) {\n",
              "        const element = document.querySelector('#df-11a19d36-6583-4e99-b846-f2eb970f154b');\n",
              "        const dataTable =\n",
              "          await google.colab.kernel.invokeFunction('convertToInteractive',\n",
              "                                                    [key], {});\n",
              "        if (!dataTable) return;\n",
              "\n",
              "        const docLinkHtml = 'Like what you see? Visit the ' +\n",
              "          '<a target=\"_blank\" href=https://colab.research.google.com/notebooks/data_table.ipynb>data table notebook</a>'\n",
              "          + ' to learn more about interactive tables.';\n",
              "        element.innerHTML = '';\n",
              "        dataTable['output_type'] = 'display_data';\n",
              "        await google.colab.output.renderOutput(dataTable, element);\n",
              "        const docLink = document.createElement('div');\n",
              "        docLink.innerHTML = docLinkHtml;\n",
              "        element.appendChild(docLink);\n",
              "      }\n",
              "    </script>\n",
              "  </div>\n",
              "\n",
              "\n",
              "    <div id=\"df-1c17fffc-0375-433f-851b-2c69bf64ba0e\">\n",
              "      <button class=\"colab-df-quickchart\" onclick=\"quickchart('df-1c17fffc-0375-433f-851b-2c69bf64ba0e')\"\n",
              "                title=\"Suggest charts\"\n",
              "                style=\"display:none;\">\n",
              "\n",
              "<svg xmlns=\"http://www.w3.org/2000/svg\" height=\"24px\"viewBox=\"0 0 24 24\"\n",
              "     width=\"24px\">\n",
              "    <g>\n",
              "        <path d=\"M19 3H5c-1.1 0-2 .9-2 2v14c0 1.1.9 2 2 2h14c1.1 0 2-.9 2-2V5c0-1.1-.9-2-2-2zM9 17H7v-7h2v7zm4 0h-2V7h2v10zm4 0h-2v-4h2v4z\"/>\n",
              "    </g>\n",
              "</svg>\n",
              "      </button>\n",
              "\n",
              "<style>\n",
              "  .colab-df-quickchart {\n",
              "      --bg-color: #E8F0FE;\n",
              "      --fill-color: #1967D2;\n",
              "      --hover-bg-color: #E2EBFA;\n",
              "      --hover-fill-color: #174EA6;\n",
              "      --disabled-fill-color: #AAA;\n",
              "      --disabled-bg-color: #DDD;\n",
              "  }\n",
              "\n",
              "  [theme=dark] .colab-df-quickchart {\n",
              "      --bg-color: #3B4455;\n",
              "      --fill-color: #D2E3FC;\n",
              "      --hover-bg-color: #434B5C;\n",
              "      --hover-fill-color: #FFFFFF;\n",
              "      --disabled-bg-color: #3B4455;\n",
              "      --disabled-fill-color: #666;\n",
              "  }\n",
              "\n",
              "  .colab-df-quickchart {\n",
              "    background-color: var(--bg-color);\n",
              "    border: none;\n",
              "    border-radius: 50%;\n",
              "    cursor: pointer;\n",
              "    display: none;\n",
              "    fill: var(--fill-color);\n",
              "    height: 32px;\n",
              "    padding: 0;\n",
              "    width: 32px;\n",
              "  }\n",
              "\n",
              "  .colab-df-quickchart:hover {\n",
              "    background-color: var(--hover-bg-color);\n",
              "    box-shadow: 0 1px 2px rgba(60, 64, 67, 0.3), 0 1px 3px 1px rgba(60, 64, 67, 0.15);\n",
              "    fill: var(--button-hover-fill-color);\n",
              "  }\n",
              "\n",
              "  .colab-df-quickchart-complete:disabled,\n",
              "  .colab-df-quickchart-complete:disabled:hover {\n",
              "    background-color: var(--disabled-bg-color);\n",
              "    fill: var(--disabled-fill-color);\n",
              "    box-shadow: none;\n",
              "  }\n",
              "\n",
              "  .colab-df-spinner {\n",
              "    border: 2px solid var(--fill-color);\n",
              "    border-color: transparent;\n",
              "    border-bottom-color: var(--fill-color);\n",
              "    animation:\n",
              "      spin 1s steps(1) infinite;\n",
              "  }\n",
              "\n",
              "  @keyframes spin {\n",
              "    0% {\n",
              "      border-color: transparent;\n",
              "      border-bottom-color: var(--fill-color);\n",
              "      border-left-color: var(--fill-color);\n",
              "    }\n",
              "    20% {\n",
              "      border-color: transparent;\n",
              "      border-left-color: var(--fill-color);\n",
              "      border-top-color: var(--fill-color);\n",
              "    }\n",
              "    30% {\n",
              "      border-color: transparent;\n",
              "      border-left-color: var(--fill-color);\n",
              "      border-top-color: var(--fill-color);\n",
              "      border-right-color: var(--fill-color);\n",
              "    }\n",
              "    40% {\n",
              "      border-color: transparent;\n",
              "      border-right-color: var(--fill-color);\n",
              "      border-top-color: var(--fill-color);\n",
              "    }\n",
              "    60% {\n",
              "      border-color: transparent;\n",
              "      border-right-color: var(--fill-color);\n",
              "    }\n",
              "    80% {\n",
              "      border-color: transparent;\n",
              "      border-right-color: var(--fill-color);\n",
              "      border-bottom-color: var(--fill-color);\n",
              "    }\n",
              "    90% {\n",
              "      border-color: transparent;\n",
              "      border-bottom-color: var(--fill-color);\n",
              "    }\n",
              "  }\n",
              "</style>\n",
              "\n",
              "      <script>\n",
              "        async function quickchart(key) {\n",
              "          const quickchartButtonEl =\n",
              "            document.querySelector('#' + key + ' button');\n",
              "          quickchartButtonEl.disabled = true;  // To prevent multiple clicks.\n",
              "          quickchartButtonEl.classList.add('colab-df-spinner');\n",
              "          try {\n",
              "            const charts = await google.colab.kernel.invokeFunction(\n",
              "                'suggestCharts', [key], {});\n",
              "          } catch (error) {\n",
              "            console.error('Error during call to suggestCharts:', error);\n",
              "          }\n",
              "          quickchartButtonEl.classList.remove('colab-df-spinner');\n",
              "          quickchartButtonEl.classList.add('colab-df-quickchart-complete');\n",
              "        }\n",
              "        (() => {\n",
              "          let quickchartButtonEl =\n",
              "            document.querySelector('#df-1c17fffc-0375-433f-851b-2c69bf64ba0e button');\n",
              "          quickchartButtonEl.style.display =\n",
              "            google.colab.kernel.accessAllowed ? 'block' : 'none';\n",
              "        })();\n",
              "      </script>\n",
              "    </div>\n",
              "\n",
              "    </div>\n",
              "  </div>\n"
            ],
            "application/vnd.google.colaboratory.intrinsic+json": {
              "type": "dataframe",
              "repr_error": "0"
            }
          },
          "metadata": {},
          "execution_count": 100
        }
      ]
    },
    {
      "cell_type": "code",
      "source": [
        "# STATES\n",
        "\n",
        "df.state.unique()"
      ],
      "metadata": {
        "colab": {
          "base_uri": "https://localhost:8080/"
        },
        "id": "t_hHwYBvRu8l",
        "outputId": "838b1665-cba1-4dbc-9932-378bb2249287"
      },
      "execution_count": null,
      "outputs": [
        {
          "output_type": "execute_result",
          "data": {
            "text/plain": [
              "array(['Gujarat', 'Madhya Pradesh', 'Rajasthan', 'Karnataka', 'Kerala',\n",
              "       'Punjab', 'Uttar Pradesh', 'Chattisgarh', 'Haryana',\n",
              "       'Himachal Pradesh', 'Maharashtra', 'NCT of Delhi', 'Odisha',\n",
              "       'Uttrakhand', 'West Bengal', 'Assam', 'Manipur',\n",
              "       'Jammu and Kashmir', 'Meghalaya', 'Nagaland', 'Tripura',\n",
              "       'Telangana', 'Tamil Nadu', 'Andhra Pradesh', 'Pondicherry',\n",
              "       'Jharkhand', 'Goa', 'Mizoram', 'Andaman and Nicobar'], dtype=object)"
            ]
          },
          "metadata": {},
          "execution_count": 101
        }
      ]
    },
    {
      "cell_type": "code",
      "source": [
        "# DISTRICTS\n",
        "\n",
        "df.district.unique()"
      ],
      "metadata": {
        "colab": {
          "base_uri": "https://localhost:8080/"
        },
        "id": "gjkWbFq2Ry09",
        "outputId": "65d84c8f-f93f-48bf-c6ce-a8b15ff615f9"
      },
      "execution_count": null,
      "outputs": [
        {
          "output_type": "execute_result",
          "data": {
            "text/plain": [
              "array(['Amreli', 'Banaskanth', 'Jamnagar', 'Mehsana', 'Neemuch',\n",
              "       'Chittorgarh', 'Bagalkot', 'Bangalore', 'Gadag', 'Panna',\n",
              "       'Ernakulam', 'Kollam', 'Thiruvananthapuram', 'Thirssur',\n",
              "       'Alappuzha', 'Kozhikode(Calicut)', 'Kasargod', 'Palakad',\n",
              "       'Malappuram', 'Pathanamthitta', 'Kottayam', 'Kannur', 'Wayanad',\n",
              "       'Idukki', 'Sangrur', 'Kanpur', 'Chikmagalur', 'Durg', 'Karnal',\n",
              "       'Faridabad', 'Hissar', 'Bhiwani', 'Kaithal', 'Fatehabad',\n",
              "       'Sonipat', 'Kurukshetra', 'Mahendragarh-Narnaul', 'Jind',\n",
              "       'Panipat', 'Mandi', 'Kangra', 'Sirmore', 'Solan', 'Harda',\n",
              "       'Chandrapur', 'Kolhapur', 'Nashik', 'Pune', 'Delhi', 'Mayurbhanja',\n",
              "       'Faridkot', 'Ferozpur', 'Gurdaspur', 'Hoshiarpur', 'Patiala',\n",
              "       'Tarntaran', 'Ajmer', 'Ganganagar', 'Udaipur', 'Agra',\n",
              "       'Ambedkarnagar', 'Aligarh', 'Maharajganj', 'Banda', 'Auraiya',\n",
              "       'Azamgarh', 'Badaun', 'Ballia', 'Balrampur', 'Unnao', 'Barabanki',\n",
              "       'Baghpat', 'Bareilly', 'Basti', 'Mainpuri', 'Etawah', 'Bijnor',\n",
              "       'Fatehpur', 'Bulandshahar', 'Muradabad', 'Kannuj', 'Etah',\n",
              "       'Faizabad', 'Farukhabad', 'Saharanpur', 'Ghaziabad', 'Gonda',\n",
              "       'Gorakhpur', 'Hardoi', 'Jyotiba Phule Nagar', 'Jalaun (Orai)',\n",
              "       'Jaunpur', 'Jhansi', 'Chitrakut', 'Mau(Maunathbhanjan)', 'Mathura',\n",
              "       'Lakhimpur', 'Lalitpur', 'Lucknow', 'Mahoba', 'Meerut', 'Mirzapur',\n",
              "       'Muzaffarnagar', 'Siddharth Nagar', 'Pillibhit', 'Rampur',\n",
              "       'Bahraich', 'Shahjahanpur', 'Firozabad', 'Sitapur', 'Sultanpur',\n",
              "       'Padrauna(Kusinagar)', 'Haridwar', 'UdhamSinghNagar',\n",
              "       'Garhwal (Pauri)', 'Dehradoon', 'Kolkata', 'Nalbari', 'Mysore',\n",
              "       'Shimoga', 'Sagar', 'Buldhana', 'Mumbai', 'Bishnupur',\n",
              "       'Imphal West', 'Imphal East', 'Thoubal', 'Allahabad', 'Hathras',\n",
              "       'Hamirpur', 'Varanasi', 'Puruliya', 'Birbhum', 'Rajnandgaon',\n",
              "       'Narmada', 'Sirsa', 'Rohtak', 'Yamuna Nagar', 'Kullu', 'Bilaspur',\n",
              "       'Chamba', 'Srinagar', 'Burhanpur', 'Jalgaon', 'West Garo Hills',\n",
              "       'East Khasi Hills', 'Jalandhar', 'Bhatinda', 'Mohali',\n",
              "       'kapurthala', 'Raebarelli', 'Nanital', 'Darjeeling', 'Ahmedabad',\n",
              "       'Bharuch', 'Surat', 'Sundergarh', 'Dhenkanal', 'Ganjam',\n",
              "       'Sant Kabir Nagar', 'Chhatarpur', 'Dausa', 'Bundi', 'Tonk',\n",
              "       'Hanumangarh', 'Kota', 'Sikar', 'Rajkot', 'Junagarh', 'Kolar',\n",
              "       'Satara', 'Dimapur', 'Koraput', 'Nagaon', 'Kheda', 'Davangere',\n",
              "       'Narsinghpur', 'Kamrup', 'Dahod', 'Vadodara(Baroda)', 'Panchkula',\n",
              "       'Ambala', 'Jammu', 'Chhindwara', 'Indore', 'Jhabua', 'Ujjain',\n",
              "       'Aurangabad', 'Nayagarh', 'Khurda', 'Cuttack', 'Bolangir',\n",
              "       'Jajpur', 'Fazilka', 'Moga', 'Muktsar', 'Ludhiana', 'Sepahijala',\n",
              "       'Khowai', 'Jalpaiguri', 'Dakshin Dinajpur', 'North 24 Parganas',\n",
              "       'Coochbehar', 'Medinipur(E)', 'Medinipur(W)', 'Madikeri(Kodagu)',\n",
              "       'Navsari', 'Valsad', 'Gurgaon', 'Dhar', 'Khandwa', 'Badwani',\n",
              "       'Sheopur', 'Nagpur', 'Ahmednagar', 'Jalore', 'Sonbhadra',\n",
              "       'Gautam Budh Nagar', 'Ghazipur', 'Rajgarh', 'Dewas', 'Guna',\n",
              "       'Mandsaur', 'Shajapur', 'Sholapur', 'Ratnagiri', 'Bargarh',\n",
              "       'Sonepur', 'Boudh', 'Kendrapara', 'Jagatsinghpur', 'Amritsar',\n",
              "       'West District', 'Nadia', 'Burdwan', 'Bankura', 'Murshidabad',\n",
              "       'Howrah', 'Nowarangpur', 'Morbi', 'Shimla', 'Hyderabad',\n",
              "       'Mahbubnagar', 'Udupi', 'Gajapati', 'Ariyalur', 'Kurnool',\n",
              "       'Kachchh', 'Bhavnagar', 'Surendranagar', 'Gandhinagar',\n",
              "       'Sabarkantha', 'Patan', 'Porbandar', 'Anand', 'Mewat', 'Dindori',\n",
              "       'Hassan', 'Erode', 'Dindigul', 'Coimbatore', 'Madurai', 'Salem',\n",
              "       'Tumkur', 'Karaikal', 'Namakkal', 'Baran', 'Bijapur', 'Dharwad',\n",
              "       'Raichur', 'Beed', 'Wardha', 'Villupuram', 'Karimnagar', 'Khammam',\n",
              "       'Adilabad', 'Warangal', 'Barnala', 'Narayanpur', 'Cuddalore',\n",
              "       'Haveri', 'Chitradurga', 'Cuddapah', 'Bellary', 'Shivpuri',\n",
              "       'Amarawati', 'Nanded', 'Dhule', 'Vashim', 'Yavatmal',\n",
              "       'Thiruvannamalai', 'Nalgonda', 'Nagaur', 'Visakhapatnam', 'Bidar',\n",
              "       'Mandya', 'Jalana', 'Jaipur', 'Khargone', 'Latur', 'Parbhani',\n",
              "       'Osmanabad', 'Raigad', 'Nandurbar', 'Sangli', 'Thane', 'Bhilwara',\n",
              "       'Dhubri', 'Uttar Dinajpur', 'Malda', 'Damoh', 'Mahasamund',\n",
              "       'Kanker', 'Dhamtari', 'Raigarh', 'Dantewada', 'Jashpur', 'Korba',\n",
              "       'Sonitpur', 'Panchmahals', 'Belgaum', 'Ratlam', 'Virudhunagar',\n",
              "       'Ranga Reddy', 'Medak', 'Chittor', 'Alirajpur', 'North Tripura',\n",
              "       'Bhind', 'Swai Madhopur', 'Jhalawar', 'Bharatpur',\n",
              "       'South District', 'Raipur', 'Janjgir', 'Balodabazar',\n",
              "       'Karwar(Uttar Kannad)', 'Balaghat', 'Bhandara', 'Kancheepuram',\n",
              "       'Vellore', 'Thanjavur', 'Nizamabad', 'Hooghly', 'Singroli',\n",
              "       'Kaushambi', 'Cachar', 'Koppal', 'Hingoli', 'Akola', 'Dharmapuri',\n",
              "       'Rajasamand', 'Champawat', 'Surguja', 'Koria', 'Surajpur',\n",
              "       'Nawanshahr', 'Shravasti', 'Khiri (Lakhimpur)', 'Gwalior',\n",
              "       'Chandauli', 'Balasore', 'Kohima', 'Deoria', 'Angul', 'Barmer',\n",
              "       'Malkangiri', 'Fatehgarh', 'Gomati', 'Mansa', 'Ropar (Rupnagar)',\n",
              "       'Kalahandi', 'Gadchiroli', 'Sounth 24 Parganas', 'Bhadrak',\n",
              "       'Betul', 'Una', 'Unokoti', 'Ashoknagar', 'Rewa', 'Jharsuguda',\n",
              "       'Gulbarga', 'Hoshangabad', 'Hailakandi', 'Goalpara', 'Chandel',\n",
              "       'Karimganj', 'Nongpoh (R-Bhoi)', 'Sivaganga', 'Bastar',\n",
              "       'Kabirdham', 'Udhampur', 'Sehore', 'Morena', 'Pratapgarh',\n",
              "       'Chamrajnagar', 'Satna', 'Raisen', 'Jhajar', 'Puri', 'Vidisha',\n",
              "       'Pondicherry', 'Keonjhar', 'Alwar', 'Garhwa', 'East Jaintia Hills',\n",
              "       'North Goa', 'Ramanathapuram', 'Rayagada', 'Barpeta', 'Giridih',\n",
              "       'Seoni', 'Churu', 'East Godavari', 'West Godavari', 'Jabalpur',\n",
              "       'Aizawl', 'Jorhat', 'Anupur', 'Pali', 'Nicobar', 'Wokha',\n",
              "       'Gondiya', 'Sukma', 'Botad', 'Mokokchung', 'Kondagaon',\n",
              "       'West Jaintia Hills', 'Mandla', 'Karauli', 'Kandhamal', 'Anantnag',\n",
              "       'Longleng', 'Tikamgarh', 'Peren', 'Balod', 'Nuapada', 'Guntur',\n",
              "       'Kathua', 'Sambalpur', 'Pulwama', 'Dhalai', 'Baramulla', 'Bikaner',\n",
              "       'Gariyaband', 'Koderma', 'Mungeli', 'Sidhi', 'Kokrajhar',\n",
              "       'South Goa', 'Vijayanagaram', 'Bangaigaon', 'Zunheboto', 'Phek',\n",
              "       'Darrang', 'The Dangs', 'Bhopal', 'Kiphire', 'Tuensang', 'Rewari',\n",
              "       'Sirohi', 'Umariya', 'Palwal', 'Jodhpur', 'Bemetara', 'Shehdol',\n",
              "       'Anantapur', 'Krishnagiri', 'Thiruchirappalli', 'Dibrugarh',\n",
              "       'Jaisalmer', 'Nagapattinam', 'Thiruvarur', 'Pathankot', 'Marigaon',\n",
              "       'Katni', 'Datia', 'Golaghat', 'Jhunjunu', 'Rajouri', 'Lohardaga',\n",
              "       'Theni', 'Dholpur', 'Badgam', 'Bhadohi(Sant Ravi Nagar)',\n",
              "       'Mangalore(Dakshin Kannad)'], dtype=object)"
            ]
          },
          "metadata": {},
          "execution_count": 102
        }
      ]
    },
    {
      "cell_type": "code",
      "source": [
        "# MARKET\n",
        "\n",
        "df.market.nunique()"
      ],
      "metadata": {
        "colab": {
          "base_uri": "https://localhost:8080/"
        },
        "id": "FNzru1tuR0rV",
        "outputId": "b76b23ae-e808-4e7c-a195-76f82311a546"
      },
      "execution_count": null,
      "outputs": [
        {
          "output_type": "execute_result",
          "data": {
            "text/plain": [
              "2390"
            ]
          },
          "metadata": {},
          "execution_count": 103
        }
      ]
    },
    {
      "cell_type": "code",
      "source": [
        "# distinct market values are too less in number compared to the number of rows in dataset, so we can drop market column\n",
        "\n",
        "df = df.drop('market', axis=1)"
      ],
      "metadata": {
        "id": "I0LKwzRNR1-e"
      },
      "execution_count": null,
      "outputs": []
    },
    {
      "cell_type": "code",
      "source": [
        "# columns left now\n",
        "\n",
        "df.columns"
      ],
      "metadata": {
        "colab": {
          "base_uri": "https://localhost:8080/"
        },
        "id": "2vu9HrE8R4Ni",
        "outputId": "c628ad67-bbdf-4ae8-922d-920ff907de31"
      },
      "execution_count": null,
      "outputs": [
        {
          "output_type": "execute_result",
          "data": {
            "text/plain": [
              "Index(['state', 'district', 'min_price', 'max_price', 'modal_price', 'date',\n",
              "       'commodity', 'category'],\n",
              "      dtype='object')"
            ]
          },
          "metadata": {},
          "execution_count": 105
        }
      ]
    },
    {
      "cell_type": "code",
      "source": [
        "df['date'].dtype\n"
      ],
      "metadata": {
        "colab": {
          "base_uri": "https://localhost:8080/"
        },
        "id": "GKXXM-p3R5Yp",
        "outputId": "cdbbb139-7577-4020-90af-228fcf606762"
      },
      "execution_count": null,
      "outputs": [
        {
          "output_type": "execute_result",
          "data": {
            "text/plain": [
              "dtype('O')"
            ]
          },
          "metadata": {},
          "execution_count": 106
        }
      ]
    },
    {
      "cell_type": "code",
      "source": [
        "# Convert date to datetime\n",
        "df['date'] = pd.to_datetime(df['date'], format='mixed',dayfirst=True)\n",
        "\n",
        "# Extract month\n",
        "df['month'] = df['date'].dt.month\n"
      ],
      "metadata": {
        "id": "vQrNgcldR6oy"
      },
      "execution_count": null,
      "outputs": []
    },
    {
      "cell_type": "code",
      "source": [
        "df['month'].unique()"
      ],
      "metadata": {
        "colab": {
          "base_uri": "https://localhost:8080/"
        },
        "id": "6Gnwgc9YR7-O",
        "outputId": "b81f08ed-68b9-48af-f7ac-826667f4f849"
      },
      "execution_count": null,
      "outputs": [
        {
          "output_type": "execute_result",
          "data": {
            "text/plain": [
              "array([ 5,  6,  7,  8,  9, 10, 11, 12,  3,  4], dtype=int32)"
            ]
          },
          "metadata": {},
          "execution_count": 108
        }
      ]
    },
    {
      "cell_type": "code",
      "source": [
        "def get_season(month):\n",
        "    if month in [12, 1, 2]:\n",
        "        return 'Winter'\n",
        "    elif month in [3, 4, 5]:\n",
        "        return 'Summer'\n",
        "    elif month in [6, 7, 8]:\n",
        "        return 'Monsoon'\n",
        "    else:\n",
        "        return 'Post-Monsoon'\n",
        "\n",
        "df['season'] = df['month'].apply(get_season)\n"
      ],
      "metadata": {
        "id": "0tarLDsRR9qa"
      },
      "execution_count": null,
      "outputs": []
    },
    {
      "cell_type": "code",
      "source": [
        "df = df.drop('date',axis=1)"
      ],
      "metadata": {
        "id": "YKK_8YAuR_W8"
      },
      "execution_count": null,
      "outputs": []
    },
    {
      "cell_type": "code",
      "source": [
        "df.columns"
      ],
      "metadata": {
        "colab": {
          "base_uri": "https://localhost:8080/"
        },
        "id": "5YlGmGphSA0F",
        "outputId": "c6f11128-6604-4118-d696-0765e866b251"
      },
      "execution_count": null,
      "outputs": [
        {
          "output_type": "execute_result",
          "data": {
            "text/plain": [
              "Index(['state', 'district', 'min_price', 'max_price', 'modal_price',\n",
              "       'commodity', 'category', 'month', 'season'],\n",
              "      dtype='object')"
            ]
          },
          "metadata": {},
          "execution_count": 111
        }
      ]
    },
    {
      "cell_type": "code",
      "source": [
        "df.sample(3)"
      ],
      "metadata": {
        "colab": {
          "base_uri": "https://localhost:8080/",
          "height": 143
        },
        "id": "4InQs4inSCLC",
        "outputId": "c10a531c-7d50-48fc-c301-d3f9999252e8"
      },
      "execution_count": null,
      "outputs": [
        {
          "output_type": "execute_result",
          "data": {
            "text/plain": [
              "                 state    district  min_price  max_price  modal_price  \\\n",
              "70517           Punjab  kapurthala        3.0       0.00         4.00   \n",
              "59235   Madhya Pradesh        Dhar       11.9      39.90        17.50   \n",
              "307579   Uttar Pradesh      Mahoba       29.0      29.45        29.25   \n",
              "\n",
              "           commodity    category  month   season  \n",
              "70517       Cucumber  Vegetables      6  Monsoon  \n",
              "59235      Peas(Dry)      Pulses      6  Monsoon  \n",
              "307579  Gur(Jaggery)   Processed      8  Monsoon  "
            ],
            "text/html": [
              "\n",
              "  <div id=\"df-ed6cbda5-55b5-42ca-93a1-49f34e25786d\" class=\"colab-df-container\">\n",
              "    <div>\n",
              "<style scoped>\n",
              "    .dataframe tbody tr th:only-of-type {\n",
              "        vertical-align: middle;\n",
              "    }\n",
              "\n",
              "    .dataframe tbody tr th {\n",
              "        vertical-align: top;\n",
              "    }\n",
              "\n",
              "    .dataframe thead th {\n",
              "        text-align: right;\n",
              "    }\n",
              "</style>\n",
              "<table border=\"1\" class=\"dataframe\">\n",
              "  <thead>\n",
              "    <tr style=\"text-align: right;\">\n",
              "      <th></th>\n",
              "      <th>state</th>\n",
              "      <th>district</th>\n",
              "      <th>min_price</th>\n",
              "      <th>max_price</th>\n",
              "      <th>modal_price</th>\n",
              "      <th>commodity</th>\n",
              "      <th>category</th>\n",
              "      <th>month</th>\n",
              "      <th>season</th>\n",
              "    </tr>\n",
              "  </thead>\n",
              "  <tbody>\n",
              "    <tr>\n",
              "      <th>70517</th>\n",
              "      <td>Punjab</td>\n",
              "      <td>kapurthala</td>\n",
              "      <td>3.0</td>\n",
              "      <td>0.00</td>\n",
              "      <td>4.00</td>\n",
              "      <td>Cucumber</td>\n",
              "      <td>Vegetables</td>\n",
              "      <td>6</td>\n",
              "      <td>Monsoon</td>\n",
              "    </tr>\n",
              "    <tr>\n",
              "      <th>59235</th>\n",
              "      <td>Madhya Pradesh</td>\n",
              "      <td>Dhar</td>\n",
              "      <td>11.9</td>\n",
              "      <td>39.90</td>\n",
              "      <td>17.50</td>\n",
              "      <td>Peas(Dry)</td>\n",
              "      <td>Pulses</td>\n",
              "      <td>6</td>\n",
              "      <td>Monsoon</td>\n",
              "    </tr>\n",
              "    <tr>\n",
              "      <th>307579</th>\n",
              "      <td>Uttar Pradesh</td>\n",
              "      <td>Mahoba</td>\n",
              "      <td>29.0</td>\n",
              "      <td>29.45</td>\n",
              "      <td>29.25</td>\n",
              "      <td>Gur(Jaggery)</td>\n",
              "      <td>Processed</td>\n",
              "      <td>8</td>\n",
              "      <td>Monsoon</td>\n",
              "    </tr>\n",
              "  </tbody>\n",
              "</table>\n",
              "</div>\n",
              "    <div class=\"colab-df-buttons\">\n",
              "\n",
              "  <div class=\"colab-df-container\">\n",
              "    <button class=\"colab-df-convert\" onclick=\"convertToInteractive('df-ed6cbda5-55b5-42ca-93a1-49f34e25786d')\"\n",
              "            title=\"Convert this dataframe to an interactive table.\"\n",
              "            style=\"display:none;\">\n",
              "\n",
              "  <svg xmlns=\"http://www.w3.org/2000/svg\" height=\"24px\" viewBox=\"0 -960 960 960\">\n",
              "    <path d=\"M120-120v-720h720v720H120Zm60-500h600v-160H180v160Zm220 220h160v-160H400v160Zm0 220h160v-160H400v160ZM180-400h160v-160H180v160Zm440 0h160v-160H620v160ZM180-180h160v-160H180v160Zm440 0h160v-160H620v160Z\"/>\n",
              "  </svg>\n",
              "    </button>\n",
              "\n",
              "  <style>\n",
              "    .colab-df-container {\n",
              "      display:flex;\n",
              "      gap: 12px;\n",
              "    }\n",
              "\n",
              "    .colab-df-convert {\n",
              "      background-color: #E8F0FE;\n",
              "      border: none;\n",
              "      border-radius: 50%;\n",
              "      cursor: pointer;\n",
              "      display: none;\n",
              "      fill: #1967D2;\n",
              "      height: 32px;\n",
              "      padding: 0 0 0 0;\n",
              "      width: 32px;\n",
              "    }\n",
              "\n",
              "    .colab-df-convert:hover {\n",
              "      background-color: #E2EBFA;\n",
              "      box-shadow: 0px 1px 2px rgba(60, 64, 67, 0.3), 0px 1px 3px 1px rgba(60, 64, 67, 0.15);\n",
              "      fill: #174EA6;\n",
              "    }\n",
              "\n",
              "    .colab-df-buttons div {\n",
              "      margin-bottom: 4px;\n",
              "    }\n",
              "\n",
              "    [theme=dark] .colab-df-convert {\n",
              "      background-color: #3B4455;\n",
              "      fill: #D2E3FC;\n",
              "    }\n",
              "\n",
              "    [theme=dark] .colab-df-convert:hover {\n",
              "      background-color: #434B5C;\n",
              "      box-shadow: 0px 1px 3px 1px rgba(0, 0, 0, 0.15);\n",
              "      filter: drop-shadow(0px 1px 2px rgba(0, 0, 0, 0.3));\n",
              "      fill: #FFFFFF;\n",
              "    }\n",
              "  </style>\n",
              "\n",
              "    <script>\n",
              "      const buttonEl =\n",
              "        document.querySelector('#df-ed6cbda5-55b5-42ca-93a1-49f34e25786d button.colab-df-convert');\n",
              "      buttonEl.style.display =\n",
              "        google.colab.kernel.accessAllowed ? 'block' : 'none';\n",
              "\n",
              "      async function convertToInteractive(key) {\n",
              "        const element = document.querySelector('#df-ed6cbda5-55b5-42ca-93a1-49f34e25786d');\n",
              "        const dataTable =\n",
              "          await google.colab.kernel.invokeFunction('convertToInteractive',\n",
              "                                                    [key], {});\n",
              "        if (!dataTable) return;\n",
              "\n",
              "        const docLinkHtml = 'Like what you see? Visit the ' +\n",
              "          '<a target=\"_blank\" href=https://colab.research.google.com/notebooks/data_table.ipynb>data table notebook</a>'\n",
              "          + ' to learn more about interactive tables.';\n",
              "        element.innerHTML = '';\n",
              "        dataTable['output_type'] = 'display_data';\n",
              "        await google.colab.output.renderOutput(dataTable, element);\n",
              "        const docLink = document.createElement('div');\n",
              "        docLink.innerHTML = docLinkHtml;\n",
              "        element.appendChild(docLink);\n",
              "      }\n",
              "    </script>\n",
              "  </div>\n",
              "\n",
              "\n",
              "    <div id=\"df-e559bbd2-9dbb-4936-9355-5591e26b0982\">\n",
              "      <button class=\"colab-df-quickchart\" onclick=\"quickchart('df-e559bbd2-9dbb-4936-9355-5591e26b0982')\"\n",
              "                title=\"Suggest charts\"\n",
              "                style=\"display:none;\">\n",
              "\n",
              "<svg xmlns=\"http://www.w3.org/2000/svg\" height=\"24px\"viewBox=\"0 0 24 24\"\n",
              "     width=\"24px\">\n",
              "    <g>\n",
              "        <path d=\"M19 3H5c-1.1 0-2 .9-2 2v14c0 1.1.9 2 2 2h14c1.1 0 2-.9 2-2V5c0-1.1-.9-2-2-2zM9 17H7v-7h2v7zm4 0h-2V7h2v10zm4 0h-2v-4h2v4z\"/>\n",
              "    </g>\n",
              "</svg>\n",
              "      </button>\n",
              "\n",
              "<style>\n",
              "  .colab-df-quickchart {\n",
              "      --bg-color: #E8F0FE;\n",
              "      --fill-color: #1967D2;\n",
              "      --hover-bg-color: #E2EBFA;\n",
              "      --hover-fill-color: #174EA6;\n",
              "      --disabled-fill-color: #AAA;\n",
              "      --disabled-bg-color: #DDD;\n",
              "  }\n",
              "\n",
              "  [theme=dark] .colab-df-quickchart {\n",
              "      --bg-color: #3B4455;\n",
              "      --fill-color: #D2E3FC;\n",
              "      --hover-bg-color: #434B5C;\n",
              "      --hover-fill-color: #FFFFFF;\n",
              "      --disabled-bg-color: #3B4455;\n",
              "      --disabled-fill-color: #666;\n",
              "  }\n",
              "\n",
              "  .colab-df-quickchart {\n",
              "    background-color: var(--bg-color);\n",
              "    border: none;\n",
              "    border-radius: 50%;\n",
              "    cursor: pointer;\n",
              "    display: none;\n",
              "    fill: var(--fill-color);\n",
              "    height: 32px;\n",
              "    padding: 0;\n",
              "    width: 32px;\n",
              "  }\n",
              "\n",
              "  .colab-df-quickchart:hover {\n",
              "    background-color: var(--hover-bg-color);\n",
              "    box-shadow: 0 1px 2px rgba(60, 64, 67, 0.3), 0 1px 3px 1px rgba(60, 64, 67, 0.15);\n",
              "    fill: var(--button-hover-fill-color);\n",
              "  }\n",
              "\n",
              "  .colab-df-quickchart-complete:disabled,\n",
              "  .colab-df-quickchart-complete:disabled:hover {\n",
              "    background-color: var(--disabled-bg-color);\n",
              "    fill: var(--disabled-fill-color);\n",
              "    box-shadow: none;\n",
              "  }\n",
              "\n",
              "  .colab-df-spinner {\n",
              "    border: 2px solid var(--fill-color);\n",
              "    border-color: transparent;\n",
              "    border-bottom-color: var(--fill-color);\n",
              "    animation:\n",
              "      spin 1s steps(1) infinite;\n",
              "  }\n",
              "\n",
              "  @keyframes spin {\n",
              "    0% {\n",
              "      border-color: transparent;\n",
              "      border-bottom-color: var(--fill-color);\n",
              "      border-left-color: var(--fill-color);\n",
              "    }\n",
              "    20% {\n",
              "      border-color: transparent;\n",
              "      border-left-color: var(--fill-color);\n",
              "      border-top-color: var(--fill-color);\n",
              "    }\n",
              "    30% {\n",
              "      border-color: transparent;\n",
              "      border-left-color: var(--fill-color);\n",
              "      border-top-color: var(--fill-color);\n",
              "      border-right-color: var(--fill-color);\n",
              "    }\n",
              "    40% {\n",
              "      border-color: transparent;\n",
              "      border-right-color: var(--fill-color);\n",
              "      border-top-color: var(--fill-color);\n",
              "    }\n",
              "    60% {\n",
              "      border-color: transparent;\n",
              "      border-right-color: var(--fill-color);\n",
              "    }\n",
              "    80% {\n",
              "      border-color: transparent;\n",
              "      border-right-color: var(--fill-color);\n",
              "      border-bottom-color: var(--fill-color);\n",
              "    }\n",
              "    90% {\n",
              "      border-color: transparent;\n",
              "      border-bottom-color: var(--fill-color);\n",
              "    }\n",
              "  }\n",
              "</style>\n",
              "\n",
              "      <script>\n",
              "        async function quickchart(key) {\n",
              "          const quickchartButtonEl =\n",
              "            document.querySelector('#' + key + ' button');\n",
              "          quickchartButtonEl.disabled = true;  // To prevent multiple clicks.\n",
              "          quickchartButtonEl.classList.add('colab-df-spinner');\n",
              "          try {\n",
              "            const charts = await google.colab.kernel.invokeFunction(\n",
              "                'suggestCharts', [key], {});\n",
              "          } catch (error) {\n",
              "            console.error('Error during call to suggestCharts:', error);\n",
              "          }\n",
              "          quickchartButtonEl.classList.remove('colab-df-spinner');\n",
              "          quickchartButtonEl.classList.add('colab-df-quickchart-complete');\n",
              "        }\n",
              "        (() => {\n",
              "          let quickchartButtonEl =\n",
              "            document.querySelector('#df-e559bbd2-9dbb-4936-9355-5591e26b0982 button');\n",
              "          quickchartButtonEl.style.display =\n",
              "            google.colab.kernel.accessAllowed ? 'block' : 'none';\n",
              "        })();\n",
              "      </script>\n",
              "    </div>\n",
              "\n",
              "    </div>\n",
              "  </div>\n"
            ],
            "application/vnd.google.colaboratory.intrinsic+json": {
              "type": "dataframe",
              "summary": "{\n  \"name\": \"df\",\n  \"rows\": 3,\n  \"fields\": [\n    {\n      \"column\": \"state\",\n      \"properties\": {\n        \"dtype\": \"string\",\n        \"num_unique_values\": 3,\n        \"samples\": [\n          \"Punjab\",\n          \"Madhya Pradesh\",\n          \"Uttar Pradesh\"\n        ],\n        \"semantic_type\": \"\",\n        \"description\": \"\"\n      }\n    },\n    {\n      \"column\": \"district\",\n      \"properties\": {\n        \"dtype\": \"string\",\n        \"num_unique_values\": 3,\n        \"samples\": [\n          \"kapurthala\",\n          \"Dhar\",\n          \"Mahoba\"\n        ],\n        \"semantic_type\": \"\",\n        \"description\": \"\"\n      }\n    },\n    {\n      \"column\": \"min_price\",\n      \"properties\": {\n        \"dtype\": \"number\",\n        \"std\": 13.213755459116586,\n        \"min\": 3.0,\n        \"max\": 29.0,\n        \"num_unique_values\": 3,\n        \"samples\": [\n          3.0,\n          11.9,\n          29.0\n        ],\n        \"semantic_type\": \"\",\n        \"description\": \"\"\n      }\n    },\n    {\n      \"column\": \"max_price\",\n      \"properties\": {\n        \"dtype\": \"number\",\n        \"std\": 20.69023521696487,\n        \"min\": 0.0,\n        \"max\": 39.9,\n        \"num_unique_values\": 3,\n        \"samples\": [\n          0.0,\n          39.9,\n          29.45\n        ],\n        \"semantic_type\": \"\",\n        \"description\": \"\"\n      }\n    },\n    {\n      \"column\": \"modal_price\",\n      \"properties\": {\n        \"dtype\": \"number\",\n        \"std\": 12.63510321815114,\n        \"min\": 4.0,\n        \"max\": 29.25,\n        \"num_unique_values\": 3,\n        \"samples\": [\n          4.0,\n          17.5,\n          29.25\n        ],\n        \"semantic_type\": \"\",\n        \"description\": \"\"\n      }\n    },\n    {\n      \"column\": \"commodity\",\n      \"properties\": {\n        \"dtype\": \"string\",\n        \"num_unique_values\": 3,\n        \"samples\": [\n          \"Cucumber\",\n          \"Peas(Dry)\",\n          \"Gur(Jaggery)\"\n        ],\n        \"semantic_type\": \"\",\n        \"description\": \"\"\n      }\n    },\n    {\n      \"column\": \"category\",\n      \"properties\": {\n        \"dtype\": \"string\",\n        \"num_unique_values\": 3,\n        \"samples\": [\n          \"Vegetables\",\n          \"Pulses\",\n          \"Processed\"\n        ],\n        \"semantic_type\": \"\",\n        \"description\": \"\"\n      }\n    },\n    {\n      \"column\": \"month\",\n      \"properties\": {\n        \"dtype\": \"int32\",\n        \"num_unique_values\": 2,\n        \"samples\": [\n          8,\n          6\n        ],\n        \"semantic_type\": \"\",\n        \"description\": \"\"\n      }\n    },\n    {\n      \"column\": \"season\",\n      \"properties\": {\n        \"dtype\": \"category\",\n        \"num_unique_values\": 1,\n        \"samples\": [\n          \"Monsoon\"\n        ],\n        \"semantic_type\": \"\",\n        \"description\": \"\"\n      }\n    }\n  ]\n}"
            }
          },
          "metadata": {},
          "execution_count": 112
        }
      ]
    },
    {
      "cell_type": "code",
      "source": [
        "plt.figure(figsize=(3,3))\n",
        "sns.boxplot(x=df['modal_price'])"
      ],
      "metadata": {
        "colab": {
          "base_uri": "https://localhost:8080/",
          "height": 329
        },
        "id": "AAEaUs5kSFN7",
        "outputId": "f3124350-016b-40e8-bdb2-23c5cc3a7440"
      },
      "execution_count": null,
      "outputs": [
        {
          "output_type": "execute_result",
          "data": {
            "text/plain": [
              "<Axes: xlabel='modal_price'>"
            ]
          },
          "metadata": {},
          "execution_count": 113
        },
        {
          "output_type": "display_data",
          "data": {
            "text/plain": [
              "<Figure size 300x300 with 1 Axes>"
            ],
            "image/png": "[encoded data removed]"
          },
          "metadata": {}
        }
      ]
    },
    {
      "cell_type": "code",
      "source": [
        "Q1 = df['modal_price'].quantile(0.25)\n",
        "Q3 = df['modal_price'].quantile(0.75)\n",
        "IQR = Q3 - Q1\n",
        "lower_bound = Q1 - 1.5 * IQR\n",
        "upper_bound = Q3 + 1.5 * IQR\n",
        "\n",
        "outliers = df[(df['modal_price'] < lower_bound) | (df['modal_price'] > upper_bound)]\n",
        "print(len(outliers), \"out of\", len(df), \"rows\")\n",
        "\n"
      ],
      "metadata": {
        "colab": {
          "base_uri": "https://localhost:8080/"
        },
        "id": "oTCTSpSxSGvO",
        "outputId": "777a20c7-5a5a-470e-f750-76dd034c1858"
      },
      "execution_count": null,
      "outputs": [
        {
          "output_type": "stream",
          "name": "stdout",
          "text": [
            "52574 out of 834674 rows\n"
          ]
        }
      ]
    },
    {
      "cell_type": "code",
      "source": [
        "df = df[(df['modal_price'] >= lower_bound) & (df['modal_price'] <= upper_bound)]\n"
      ],
      "metadata": {
        "id": "0uxGNySRSVH8"
      },
      "execution_count": null,
      "outputs": []
    },
    {
      "cell_type": "code",
      "source": [
        "df.shape"
      ],
      "metadata": {
        "colab": {
          "base_uri": "https://localhost:8080/"
        },
        "id": "Iix2YZNYSXnA",
        "outputId": "be6ee110-b06d-4c35-f180-8c8c18cbf6df"
      },
      "execution_count": null,
      "outputs": [
        {
          "output_type": "execute_result",
          "data": {
            "text/plain": [
              "(782100, 9)"
            ]
          },
          "metadata": {},
          "execution_count": 116
        }
      ]
    },
    {
      "cell_type": "code",
      "source": [
        "target = 'modal_price'\n",
        "features = ['category', 'commodity', 'state', 'district', 'month', 'season']\n"
      ],
      "metadata": {
        "id": "EwrD--A8SYSe"
      },
      "execution_count": null,
      "outputs": []
    },
    {
      "cell_type": "code",
      "source": [
        "from sklearn.preprocessing import LabelEncoder\n",
        "\n",
        "df_encoded = df.copy()\n",
        "for col in ['category', 'commodity', 'state', 'district', 'month', 'season']:\n",
        "    df_encoded[col] = LabelEncoder().fit_transform(df_encoded[col])\n"
      ],
      "metadata": {
        "id": "T8D6DPbNSbGG"
      },
      "execution_count": null,
      "outputs": []
    },
    {
      "cell_type": "code",
      "source": [
        "from sklearn.model_selection import train_test_split\n",
        "\n",
        "x = df_encoded[features]\n",
        "y = df_encoded[target]\n",
        "\n",
        "x_train, x_test, y_train, y_test = train_test_split(x, y, test_size=0.2, random_state=42)\n"
      ],
      "metadata": {
        "id": "ZxVSVDHbSbTa"
      },
      "execution_count": null,
      "outputs": []
    },
    {
      "cell_type": "code",
      "source": [
        "from sklearn.ensemble import RandomForestRegressor\n",
        "model = RandomForestRegressor(n_estimators=100, random_state=42)\n",
        "model.fit(x_train, y_train)\n"
      ],
      "metadata": {
        "colab": {
          "base_uri": "https://localhost:8080/",
          "height": 79
        },
        "id": "QgR0QTZMSegL",
        "outputId": "8d546c0d-1ac1-4485-f976-505481e0fa37"
      },
      "execution_count": null,
      "outputs": [
        {
          "output_type": "execute_result",
          "data": {
            "text/plain": [
              "RandomForestRegressor(random_state=42)"
            ],
            "text/html": [
              "<style>#sk-container-id-2 {\n",
              "  /* Definition of color scheme common for light and dark mode */\n",
              "  --sklearn-color-text: #000;\n",
              "  --sklearn-color-text-muted: #666;\n",
              "  --sklearn-color-line: gray;\n",
              "  /* Definition of color scheme for unfitted estimators */\n",
              "  --sklearn-color-unfitted-level-0: #fff5e6;\n",
              "  --sklearn-color-unfitted-level-1: #f6e4d2;\n",
              "  --sklearn-color-unfitted-level-2: #ffe0b3;\n",
              "  --sklearn-color-unfitted-level-3: chocolate;\n",
              "  /* Definition of color scheme for fitted estimators */\n",
              "  --sklearn-color-fitted-level-0: #f0f8ff;\n",
              "  --sklearn-color-fitted-level-1: #d4ebff;\n",
              "  --sklearn-color-fitted-level-2: #b3dbfd;\n",
              "  --sklearn-color-fitted-level-3: cornflowerblue;\n",
              "\n",
              "  /* Specific color for light theme */\n",
              "  --sklearn-color-text-on-default-background: var(--sg-text-color, var(--theme-code-foreground, var(--jp-content-font-color1, black)));\n",
              "  --sklearn-color-background: var(--sg-background-color, var(--theme-background, var(--jp-layout-color0, white)));\n",
              "  --sklearn-color-border-box: var(--sg-text-color, var(--theme-code-foreground, var(--jp-content-font-color1, black)));\n",
              "  --sklearn-color-icon: #696969;\n",
              "\n",
              "  @media (prefers-color-scheme: dark) {\n",
              "    /* Redefinition of color scheme for dark theme */\n",
              "    --sklearn-color-text-on-default-background: var(--sg-text-color, var(--theme-code-foreground, var(--jp-content-font-color1, white)));\n",
              "    --sklearn-color-background: var(--sg-background-color, var(--theme-background, var(--jp-layout-color0, #111)));\n",
              "    --sklearn-color-border-box: var(--sg-text-color, var(--theme-code-foreground, var(--jp-content-font-color1, white)));\n",
              "    --sklearn-color-icon: #878787;\n",
              "  }\n",
              "}\n",
              "\n",
              "#sk-container-id-2 {\n",
              "  color: var(--sklearn-color-text);\n",
              "}\n",
              "\n",
              "#sk-container-id-2 pre {\n",
              "  padding: 0;\n",
              "}\n",
              "\n",
              "#sk-container-id-2 input.sk-hidden--visually {\n",
              "  border: 0;\n",
              "  clip: rect(1px 1px 1px 1px);\n",
              "  clip: rect(1px, 1px, 1px, 1px);\n",
              "  height: 1px;\n",
              "  margin: -1px;\n",
              "  overflow: hidden;\n",
              "  padding: 0;\n",
              "  position: absolute;\n",
              "  width: 1px;\n",
              "}\n",
              "\n",
              "#sk-container-id-2 div.sk-dashed-wrapped {\n",
              "  border: 1px dashed var(--sklearn-color-line);\n",
              "  margin: 0 0.4em 0.5em 0.4em;\n",
              "  box-sizing: border-box;\n",
              "  padding-bottom: 0.4em;\n",
              "  background-color: var(--sklearn-color-background);\n",
              "}\n",
              "\n",
              "#sk-container-id-2 div.sk-container {\n",
              "  /* jupyter's `normalize.less` sets `[hidden] { display: none; }`\n",
              "     but bootstrap.min.css set `[hidden] { display: none !important; }`\n",
              "     so we also need the `!important` here to be able to override the\n",
              "     default hidden behavior on the sphinx rendered scikit-learn.org.\n",
              "     See: https://github.com/scikit-learn/scikit-learn/issues/21755 */\n",
              "  display: inline-block !important;\n",
              "  position: relative;\n",
              "}\n",
              "\n",
              "#sk-container-id-2 div.sk-text-repr-fallback {\n",
              "  display: none;\n",
              "}\n",
              "\n",
              "div.sk-parallel-item,\n",
              "div.sk-serial,\n",
              "div.sk-item {\n",
              "  /* draw centered vertical line to link estimators */\n",
              "  background-image: linear-gradient(var(--sklearn-color-text-on-default-background), var(--sklearn-color-text-on-default-background));\n",
              "  background-size: 2px 100%;\n",
              "  background-repeat: no-repeat;\n",
              "  background-position: center center;\n",
              "}\n",
              "\n",
              "/* Parallel-specific style estimator block */\n",
              "\n",
              "#sk-container-id-2 div.sk-parallel-item::after {\n",
              "  content: \"\";\n",
              "  width: 100%;\n",
              "  border-bottom: 2px solid var(--sklearn-color-text-on-default-background);\n",
              "  flex-grow: 1;\n",
              "}\n",
              "\n",
              "#sk-container-id-2 div.sk-parallel {\n",
              "  display: flex;\n",
              "  align-items: stretch;\n",
              "  justify-content: center;\n",
              "  background-color: var(--sklearn-color-background);\n",
              "  position: relative;\n",
              "}\n",
              "\n",
              "#sk-container-id-2 div.sk-parallel-item {\n",
              "  display: flex;\n",
              "  flex-direction: column;\n",
              "}\n",
              "\n",
              "#sk-container-id-2 div.sk-parallel-item:first-child::after {\n",
              "  align-self: flex-end;\n",
              "  width: 50%;\n",
              "}\n",
              "\n",
              "#sk-container-id-2 div.sk-parallel-item:last-child::after {\n",
              "  align-self: flex-start;\n",
              "  width: 50%;\n",
              "}\n",
              "\n",
              "#sk-container-id-2 div.sk-parallel-item:only-child::after {\n",
              "  width: 0;\n",
              "}\n",
              "\n",
              "/* Serial-specific style estimator block */\n",
              "\n",
              "#sk-container-id-2 div.sk-serial {\n",
              "  display: flex;\n",
              "  flex-direction: column;\n",
              "  align-items: center;\n",
              "  background-color: var(--sklearn-color-background);\n",
              "  padding-right: 1em;\n",
              "  padding-left: 1em;\n",
              "}\n",
              "\n",
              "\n",
              "/* Toggleable style: style used for estimator/Pipeline/ColumnTransformer box that is\n",
              "clickable and can be expanded/collapsed.\n",
              "- Pipeline and ColumnTransformer use this feature and define the default style\n",
              "- Estimators will overwrite some part of the style using the `sk-estimator` class\n",
              "*/\n",
              "\n",
              "/* Pipeline and ColumnTransformer style (default) */\n",
              "\n",
              "#sk-container-id-2 div.sk-toggleable {\n",
              "  /* Default theme specific background. It is overwritten whether we have a\n",
              "  specific estimator or a Pipeline/ColumnTransformer */\n",
              "  background-color: var(--sklearn-color-background);\n",
              "}\n",
              "\n",
              "/* Toggleable label */\n",
              "#sk-container-id-2 label.sk-toggleable__label {\n",
              "  cursor: pointer;\n",
              "  display: flex;\n",
              "  width: 100%;\n",
              "  margin-bottom: 0;\n",
              "  padding: 0.5em;\n",
              "  box-sizing: border-box;\n",
              "  text-align: center;\n",
              "  align-items: start;\n",
              "  justify-content: space-between;\n",
              "  gap: 0.5em;\n",
              "}\n",
              "\n",
              "#sk-container-id-2 label.sk-toggleable__label .caption {\n",
              "  font-size: 0.6rem;\n",
              "  font-weight: lighter;\n",
              "  color: var(--sklearn-color-text-muted);\n",
              "}\n",
              "\n",
              "#sk-container-id-2 label.sk-toggleable__label-arrow:before {\n",
              "  /* Arrow on the left of the label */\n",
              "  content: \"▸\";\n",
              "  float: left;\n",
              "  margin-right: 0.25em;\n",
              "  color: var(--sklearn-color-icon);\n",
              "}\n",
              "\n",
              "#sk-container-id-2 label.sk-toggleable__label-arrow:hover:before {\n",
              "  color: var(--sklearn-color-text);\n",
              "}\n",
              "\n",
              "/* Toggleable content - dropdown */\n",
              "\n",
              "#sk-container-id-2 div.sk-toggleable__content {\n",
              "  max-height: 0;\n",
              "  max-width: 0;\n",
              "  overflow: hidden;\n",
              "  text-align: left;\n",
              "  /* unfitted */\n",
              "  background-color: var(--sklearn-color-unfitted-level-0);\n",
              "}\n",
              "\n",
              "#sk-container-id-2 div.sk-toggleable__content.fitted {\n",
              "  /* fitted */\n",
              "  background-color: var(--sklearn-color-fitted-level-0);\n",
              "}\n",
              "\n",
              "#sk-container-id-2 div.sk-toggleable__content pre {\n",
              "  margin: 0.2em;\n",
              "  border-radius: 0.25em;\n",
              "  color: var(--sklearn-color-text);\n",
              "  /* unfitted */\n",
              "  background-color: var(--sklearn-color-unfitted-level-0);\n",
              "}\n",
              "\n",
              "#sk-container-id-2 div.sk-toggleable__content.fitted pre {\n",
              "  /* unfitted */\n",
              "  background-color: var(--sklearn-color-fitted-level-0);\n",
              "}\n",
              "\n",
              "#sk-container-id-2 input.sk-toggleable__control:checked~div.sk-toggleable__content {\n",
              "  /* Expand drop-down */\n",
              "  max-height: 200px;\n",
              "  max-width: 100%;\n",
              "  overflow: auto;\n",
              "}\n",
              "\n",
              "#sk-container-id-2 input.sk-toggleable__control:checked~label.sk-toggleable__label-arrow:before {\n",
              "  content: \"▾\";\n",
              "}\n",
              "\n",
              "/* Pipeline/ColumnTransformer-specific style */\n",
              "\n",
              "#sk-container-id-2 div.sk-label input.sk-toggleable__control:checked~label.sk-toggleable__label {\n",
              "  color: var(--sklearn-color-text);\n",
              "  background-color: var(--sklearn-color-unfitted-level-2);\n",
              "}\n",
              "\n",
              "#sk-container-id-2 div.sk-label.fitted input.sk-toggleable__control:checked~label.sk-toggleable__label {\n",
              "  background-color: var(--sklearn-color-fitted-level-2);\n",
              "}\n",
              "\n",
              "/* Estimator-specific style */\n",
              "\n",
              "/* Colorize estimator box */\n",
              "#sk-container-id-2 div.sk-estimator input.sk-toggleable__control:checked~label.sk-toggleable__label {\n",
              "  /* unfitted */\n",
              "  background-color: var(--sklearn-color-unfitted-level-2);\n",
              "}\n",
              "\n",
              "#sk-container-id-2 div.sk-estimator.fitted input.sk-toggleable__control:checked~label.sk-toggleable__label {\n",
              "  /* fitted */\n",
              "  background-color: var(--sklearn-color-fitted-level-2);\n",
              "}\n",
              "\n",
              "#sk-container-id-2 div.sk-label label.sk-toggleable__label,\n",
              "#sk-container-id-2 div.sk-label label {\n",
              "  /* The background is the default theme color */\n",
              "  color: var(--sklearn-color-text-on-default-background);\n",
              "}\n",
              "\n",
              "/* On hover, darken the color of the background */\n",
              "#sk-container-id-2 div.sk-label:hover label.sk-toggleable__label {\n",
              "  color: var(--sklearn-color-text);\n",
              "  background-color: var(--sklearn-color-unfitted-level-2);\n",
              "}\n",
              "\n",
              "/* Label box, darken color on hover, fitted */\n",
              "#sk-container-id-2 div.sk-label.fitted:hover label.sk-toggleable__label.fitted {\n",
              "  color: var(--sklearn-color-text);\n",
              "  background-color: var(--sklearn-color-fitted-level-2);\n",
              "}\n",
              "\n",
              "/* Estimator label */\n",
              "\n",
              "#sk-container-id-2 div.sk-label label {\n",
              "  font-family: monospace;\n",
              "  font-weight: bold;\n",
              "  display: inline-block;\n",
              "  line-height: 1.2em;\n",
              "}\n",
              "\n",
              "#sk-container-id-2 div.sk-label-container {\n",
              "  text-align: center;\n",
              "}\n",
              "\n",
              "/* Estimator-specific */\n",
              "#sk-container-id-2 div.sk-estimator {\n",
              "  font-family: monospace;\n",
              "  border: 1px dotted var(--sklearn-color-border-box);\n",
              "  border-radius: 0.25em;\n",
              "  box-sizing: border-box;\n",
              "  margin-bottom: 0.5em;\n",
              "  /* unfitted */\n",
              "  background-color: var(--sklearn-color-unfitted-level-0);\n",
              "}\n",
              "\n",
              "#sk-container-id-2 div.sk-estimator.fitted {\n",
              "  /* fitted */\n",
              "  background-color: var(--sklearn-color-fitted-level-0);\n",
              "}\n",
              "\n",
              "/* on hover */\n",
              "#sk-container-id-2 div.sk-estimator:hover {\n",
              "  /* unfitted */\n",
              "  background-color: var(--sklearn-color-unfitted-level-2);\n",
              "}\n",
              "\n",
              "#sk-container-id-2 div.sk-estimator.fitted:hover {\n",
              "  /* fitted */\n",
              "  background-color: var(--sklearn-color-fitted-level-2);\n",
              "}\n",
              "\n",
              "/* Specification for estimator info (e.g. \"i\" and \"?\") */\n",
              "\n",
              "/* Common style for \"i\" and \"?\" */\n",
              "\n",
              ".sk-estimator-doc-link,\n",
              "a:link.sk-estimator-doc-link,\n",
              "a:visited.sk-estimator-doc-link {\n",
              "  float: right;\n",
              "  font-size: smaller;\n",
              "  line-height: 1em;\n",
              "  font-family: monospace;\n",
              "  background-color: var(--sklearn-color-background);\n",
              "  border-radius: 1em;\n",
              "  height: 1em;\n",
              "  width: 1em;\n",
              "  text-decoration: none !important;\n",
              "  margin-left: 0.5em;\n",
              "  text-align: center;\n",
              "  /* unfitted */\n",
              "  border: var(--sklearn-color-unfitted-level-1) 1pt solid;\n",
              "  color: var(--sklearn-color-unfitted-level-1);\n",
              "}\n",
              "\n",
              ".sk-estimator-doc-link.fitted,\n",
              "a:link.sk-estimator-doc-link.fitted,\n",
              "a:visited.sk-estimator-doc-link.fitted {\n",
              "  /* fitted */\n",
              "  border: var(--sklearn-color-fitted-level-1) 1pt solid;\n",
              "  color: var(--sklearn-color-fitted-level-1);\n",
              "}\n",
              "\n",
              "/* On hover */\n",
              "div.sk-estimator:hover .sk-estimator-doc-link:hover,\n",
              ".sk-estimator-doc-link:hover,\n",
              "div.sk-label-container:hover .sk-estimator-doc-link:hover,\n",
              ".sk-estimator-doc-link:hover {\n",
              "  /* unfitted */\n",
              "  background-color: var(--sklearn-color-unfitted-level-3);\n",
              "  color: var(--sklearn-color-background);\n",
              "  text-decoration: none;\n",
              "}\n",
              "\n",
              "div.sk-estimator.fitted:hover .sk-estimator-doc-link.fitted:hover,\n",
              ".sk-estimator-doc-link.fitted:hover,\n",
              "div.sk-label-container:hover .sk-estimator-doc-link.fitted:hover,\n",
              ".sk-estimator-doc-link.fitted:hover {\n",
              "  /* fitted */\n",
              "  background-color: var(--sklearn-color-fitted-level-3);\n",
              "  color: var(--sklearn-color-background);\n",
              "  text-decoration: none;\n",
              "}\n",
              "\n",
              "/* Span, style for the box shown on hovering the info icon */\n",
              ".sk-estimator-doc-link span {\n",
              "  display: none;\n",
              "  z-index: 9999;\n",
              "  position: relative;\n",
              "  font-weight: normal;\n",
              "  right: .2ex;\n",
              "  padding: .5ex;\n",
              "  margin: .5ex;\n",
              "  width: min-content;\n",
              "  min-width: 20ex;\n",
              "  max-width: 50ex;\n",
              "  color: var(--sklearn-color-text);\n",
              "  box-shadow: 2pt 2pt 4pt #999;\n",
              "  /* unfitted */\n",
              "  background: var(--sklearn-color-unfitted-level-0);\n",
              "  border: .5pt solid var(--sklearn-color-unfitted-level-3);\n",
              "}\n",
              "\n",
              ".sk-estimator-doc-link.fitted span {\n",
              "  /* fitted */\n",
              "  background: var(--sklearn-color-fitted-level-0);\n",
              "  border: var(--sklearn-color-fitted-level-3);\n",
              "}\n",
              "\n",
              ".sk-estimator-doc-link:hover span {\n",
              "  display: block;\n",
              "}\n",
              "\n",
              "/* \"?\"-specific style due to the `<a>` HTML tag */\n",
              "\n",
              "#sk-container-id-2 a.estimator_doc_link {\n",
              "  float: right;\n",
              "  font-size: 1rem;\n",
              "  line-height: 1em;\n",
              "  font-family: monospace;\n",
              "  background-color: var(--sklearn-color-background);\n",
              "  border-radius: 1rem;\n",
              "  height: 1rem;\n",
              "  width: 1rem;\n",
              "  text-decoration: none;\n",
              "  /* unfitted */\n",
              "  color: var(--sklearn-color-unfitted-level-1);\n",
              "  border: var(--sklearn-color-unfitted-level-1) 1pt solid;\n",
              "}\n",
              "\n",
              "#sk-container-id-2 a.estimator_doc_link.fitted {\n",
              "  /* fitted */\n",
              "  border: var(--sklearn-color-fitted-level-1) 1pt solid;\n",
              "  color: var(--sklearn-color-fitted-level-1);\n",
              "}\n",
              "\n",
              "/* On hover */\n",
              "#sk-container-id-2 a.estimator_doc_link:hover {\n",
              "  /* unfitted */\n",
              "  background-color: var(--sklearn-color-unfitted-level-3);\n",
              "  color: var(--sklearn-color-background);\n",
              "  text-decoration: none;\n",
              "}\n",
              "\n",
              "#sk-container-id-2 a.estimator_doc_link.fitted:hover {\n",
              "  /* fitted */\n",
              "  background-color: var(--sklearn-color-fitted-level-3);\n",
              "}\n",
              "</style><div id=\"sk-container-id-2\" class=\"sk-top-container\"><div class=\"sk-text-repr-fallback\"><pre>RandomForestRegressor(random_state=42)</pre><b>In a Jupyter environment, please rerun this cell to show the HTML representation or trust the notebook. <br />On GitHub, the HTML representation is unable to render, please try loading this page with nbviewer.org.</b></div><div class=\"sk-container\" hidden><div class=\"sk-item\"><div class=\"sk-estimator fitted sk-toggleable\"><input class=\"sk-toggleable__control sk-hidden--visually\" id=\"sk-estimator-id-2\" type=\"checkbox\" checked><label for=\"sk-estimator-id-2\" class=\"sk-toggleable__label fitted sk-toggleable__label-arrow\"><div><div>RandomForestRegressor</div></div><div><a class=\"sk-estimator-doc-link fitted\" rel=\"noreferrer\" target=\"_blank\" href=\"https://scikit-learn.org/1.6/modules/generated/sklearn.ensemble.RandomForestRegressor.html\">?<span>Documentation for RandomForestRegressor</span></a><span class=\"sk-estimator-doc-link fitted\">i<span>Fitted</span></span></div></label><div class=\"sk-toggleable__content fitted\"><pre>RandomForestRegressor(random_state=42)</pre></div> </div></div></div></div>"
            ]
          },
          "metadata": {},
          "execution_count": 120
        }
      ]
    },
    {
      "cell_type": "code",
      "source": [
        "import matplotlib.pyplot as plt\n",
        "\n",
        "plt.figure(figsize=(2,2))\n",
        "importances = model.feature_importances_\n",
        "feat_names = x.columns\n",
        "\n",
        "plt.barh(feat_names, importances)\n",
        "plt.xlabel(\"Importance\")\n",
        "plt.title(\"Feature Importance\")\n",
        "plt.show()\n"
      ],
      "metadata": {
        "colab": {
          "base_uri": "https://localhost:8080/",
          "height": 256
        },
        "id": "Lod4V2XgSgDs",
        "outputId": "a22d86ba-7773-48b6-f6df-47f9b17c90db"
      },
      "execution_count": null,
      "outputs": [
        {
          "output_type": "display_data",
          "data": {
            "text/plain": [
              "<Figure size 200x200 with 1 Axes>"
            ],
            "image/png": "[encoded data removed]"
          },
          "metadata": {}
        }
      ]
    },
    {
      "cell_type": "code",
      "source": [
        "from sklearn.metrics import mean_absolute_error, mean_squared_error, r2_score\n",
        "\n",
        "y_pred = model.predict(x_test)\n",
        "\n",
        "print(\"MAE:\", mean_absolute_error(y_test, y_pred))\n",
        "print(\"RMSE:\", mean_squared_error(y_test, y_pred))\n",
        "print(\"R² Score:\", r2_score(y_test, y_pred))\n"
      ],
      "metadata": {
        "colab": {
          "base_uri": "https://localhost:8080/"
        },
        "id": "L6rswSAnSiKF",
        "outputId": "75f45787-4267-48ff-9ea7-cf7c06b304a4"
      },
      "execution_count": null,
      "outputs": [
        {
          "output_type": "stream",
          "name": "stdout",
          "text": [
            "MAE: 3.6820541526863835\n",
            "RMSE: 39.02915462884953\n",
            "R² Score: 0.8738799815023172\n"
          ]
        }
      ]
    },
    {
      "cell_type": "code",
      "source": [
        "import joblib\n",
        "\n",
        "joblib.dump(model, 'crop_price_model.pkl')  # Save your trained pipeline\n",
        "from google.colab import files\n",
        "files.download('crop_price_model.pkl')      # Download to your PC\n"
      ],
      "metadata": {
        "colab": {
          "base_uri": "https://localhost:8080/",
          "height": 34
        },
        "id": "S2L3rUzDTZfj",
        "outputId": "014573c6-5131-440b-ee1a-b6022b1f182f"
      },
      "execution_count": null,
      "outputs": [
        {
          "output_type": "display_data",
          "data": {
            "text/plain": [
              "<IPython.core.display.Javascript object>"
            ],
            "application/javascript": [
              "\n",
              "    async function download(id, filename, size) {\n",
              "      if (!google.colab.kernel.accessAllowed) {\n",
              "        return;\n",
              "      }\n",
              "      const div = document.createElement('div');\n",
              "      const label = document.createElement('label');\n",
              "      label.textContent = `Downloading \"${filename}\": `;\n",
              "      div.appendChild(label);\n",
              "      const progress = document.createElement('progress');\n",
              "      progress.max = size;\n",
              "      div.appendChild(progress);\n",
              "      document.body.appendChild(div);\n",
              "\n",
              "      const buffers = [];\n",
              "      let downloaded = 0;\n",
              "\n",
              "      const channel = await google.colab.kernel.comms.open(id);\n",
              "      // Send a message to notify the kernel that we're ready.\n",
              "      channel.send({})\n",
              "\n",
              "      for await (const message of channel.messages) {\n",
              "        // Send a message to notify the kernel that we're ready.\n",
              "        channel.send({})\n",
              "        if (message.buffers) {\n",
              "          for (const buffer of message.buffers) {\n",
              "            buffers.push(buffer);\n",
              "            downloaded += buffer.byteLength;\n",
              "            progress.value = downloaded;\n",
              "          }\n",
              "        }\n",
              "      }\n",
              "      const blob = new Blob(buffers, {type: 'application/binary'});\n",
              "      const a = document.createElement('a');\n",
              "      a.href = window.URL.createObjectURL(blob);\n",
              "      a.download = filename;\n",
              "      div.appendChild(a);\n",
              "      a.click();\n",
              "      div.remove();\n",
              "    }\n",
              "  "
            ]
          },
          "metadata": {}
        },
        {
          "output_type": "display_data",
          "data": {
            "text/plain": [
              "<IPython.core.display.Javascript object>"
            ],
            "application/javascript": [
              "download(\"download_c95209c4-915f-45d4-9179-11fc5abecb38\", \"crop_price_model.pkl\", 897844481)"
            ]
          },
          "metadata": {}
        }
      ]
    }
  ]
}
